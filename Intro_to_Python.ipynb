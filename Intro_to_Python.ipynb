{
 "cells": [
  {
   "cell_type": "markdown",
   "metadata": {},
   "source": [
    "15/12/2020 - Conditional, Control flow, and looping"
   ]
  },
  {
   "cell_type": "code",
   "execution_count": 3,
   "metadata": {},
   "outputs": [],
   "source": [
    "a = 5"
   ]
  },
  {
   "cell_type": "code",
   "execution_count": 4,
   "metadata": {},
   "outputs": [
    {
     "name": "stdout",
     "output_type": "stream",
     "text": [
      "a bukan 10\n"
     ]
    }
   ],
   "source": [
    "if a==10:\n",
    "    print ('a adalah 10')\n",
    "else:\n",
    "    print('a bukan 10')"
   ]
  },
  {
   "cell_type": "code",
   "execution_count": null,
   "metadata": {},
   "outputs": [],
   "source": [
    "## logic\n",
    "## print nama diri sendiri, apabila umur bisa dibagi 2, kemudian apabila tidak bisa dibagi dua , maka check\n",
    "## dulu panjang nama lebih dari 3, maka print nama panjang, kalau kurang dari 3 print nama pendek"
   ]
  },
  {
   "cell_type": "code",
   "execution_count": 35,
   "metadata": {},
   "outputs": [
    {
     "name": "stdout",
     "output_type": "stream",
     "text": [
      "Fitria Puspita Sari\n"
     ]
    }
   ],
   "source": [
    "umur = 24\n",
    "a = 'Fitria Puspita Sari'\n",
    "b = 'Fitri'\n",
    "\n",
    "if umur%2 == 0:\n",
    "    if len (a)> 3:\n",
    "        print (a)\n",
    "    else:\n",
    "        print (b)\n",
    "else:\n",
    "    print ('Umurmu tidak habis dibagi 2')\n"
   ]
  },
  {
   "cell_type": "markdown",
   "metadata": {},
   "source": [
    "Iteration "
   ]
  },
  {
   "cell_type": "code",
   "execution_count": 42,
   "metadata": {},
   "outputs": [
    {
     "name": "stdout",
     "output_type": "stream",
     "text": [
      "1\n",
      "2\n",
      "3\n",
      "4\n",
      "5\n",
      "6\n",
      "7\n",
      "8\n",
      "9\n",
      "10\n"
     ]
    }
   ],
   "source": [
    "a = 0\n",
    "while a < 10:\n",
    "    a = a +1 \n",
    "    print (a)"
   ]
  },
  {
   "cell_type": "code",
   "execution_count": null,
   "metadata": {},
   "outputs": [],
   "source": [
    "##logic print angka yang terus bertambah sebanyak 1, \n",
    "##sampai total dari nama panjang kita"
   ]
  },
  {
   "cell_type": "code",
   "execution_count": 46,
   "metadata": {},
   "outputs": [
    {
     "name": "stdout",
     "output_type": "stream",
     "text": [
      "1\n",
      "2\n",
      "3\n",
      "4\n",
      "5\n",
      "6\n",
      "7\n",
      "8\n",
      "9\n",
      "10\n",
      "11\n",
      "12\n",
      "13\n",
      "14\n",
      "15\n",
      "16\n",
      "17\n",
      "18\n",
      "19\n"
     ]
    }
   ],
   "source": [
    "full_name = 'Fitria Puspita Sari'\n",
    "\n",
    "a = 0\n",
    "while a < len(full_name):\n",
    "    a = a+1\n",
    "    print (a)"
   ]
  },
  {
   "cell_type": "code",
   "execution_count": 47,
   "metadata": {},
   "outputs": [
    {
     "name": "stdout",
     "output_type": "stream",
     "text": [
      "10\n",
      "20\n",
      "25\n",
      "30\n"
     ]
    }
   ],
   "source": [
    "list_ukuran_baju = [10,20,25,30]\n",
    "for i in list_ukuran_baju:\n",
    "    print (i)"
   ]
  },
  {
   "cell_type": "code",
   "execution_count": 49,
   "metadata": {},
   "outputs": [
    {
     "name": "stdout",
     "output_type": "stream",
     "text": [
      "10\n",
      "20\n",
      "25\n",
      "30\n"
     ]
    }
   ],
   "source": [
    "for i in range (len(list_ukuran_baju)):\n",
    "    print(list_ukuran_baju[i])"
   ]
  },
  {
   "cell_type": "code",
   "execution_count": null,
   "metadata": {},
   "outputs": [],
   "source": [
    "#case: apabila ad 2 list, print data di dalam list tersebut apabila data \n",
    "## di kedua list adalah sama, apabila berbeda \n",
    "## maka akan melakukan print nama kita sebanyak angka di dalam data yang di list pertama\n"
   ]
  },
  {
   "cell_type": "code",
   "execution_count": 66,
   "metadata": {},
   "outputs": [
    {
     "name": "stdout",
     "output_type": "stream",
     "text": [
      "Fitri\n",
      "Fitri\n",
      "Fitri\n",
      "Fitri\n",
      "Fitri\n",
      "Fitri\n",
      "Fitri\n",
      "Fitri\n",
      "Fitri\n",
      "Fitri\n",
      "Fitri\n",
      "Fitri\n"
     ]
    }
   ],
   "source": [
    "list_a = [1,0,3,4]\n",
    "list_b = [5,2,7,8]\n",
    "nama = 'Fitri'\n",
    "\n",
    "for i in range (len(list_a)):\n",
    "    if list_a[i] == list_b[i]:\n",
    "        print(list_a[i])\n",
    "    else:\n",
    "        x = 0\n",
    "        while x <=list_a[i]:\n",
    "            print (nama)\n",
    "            x = x+1"
   ]
  },
  {
   "cell_type": "code",
   "execution_count": 69,
   "metadata": {},
   "outputs": [],
   "source": [
    "def fungsi_print_nama(umur,a,b):\n",
    "    if umur%2 == 0:\n",
    "        if len (a)> 3:\n",
    "            print (a)\n",
    "        else:\n",
    "            print (b)\n",
    "    else:\n",
    "        print ('Umurmu tidak habis dibagi 2')"
   ]
  },
  {
   "cell_type": "code",
   "execution_count": 71,
   "metadata": {},
   "outputs": [
    {
     "name": "stdout",
     "output_type": "stream",
     "text": [
      "Umurmu tidak habis dibagi 2\n"
     ]
    }
   ],
   "source": [
    "umur = 23\n",
    "a = 'Fitria Puspita Sari'\n",
    "b = 'Fitri'\n",
    "\n",
    "fungsi_print_nama(umur,a,b)"
   ]
  },
  {
   "cell_type": "code",
   "execution_count": 73,
   "metadata": {},
   "outputs": [],
   "source": [
    "def print_str(data):\n",
    "    print(data)"
   ]
  },
  {
   "cell_type": "code",
   "execution_count": 74,
   "metadata": {},
   "outputs": [
    {
     "name": "stdout",
     "output_type": "stream",
     "text": [
      "a\n",
      "b\n"
     ]
    }
   ],
   "source": [
    "print_str('a')\n",
    "print_str('b')"
   ]
  },
  {
   "cell_type": "code",
   "execution_count": 76,
   "metadata": {},
   "outputs": [
    {
     "name": "stdout",
     "output_type": "stream",
     "text": [
      "[10, 20, 30, 'a']\n"
     ]
    }
   ],
   "source": [
    "my_list = [10,20,30]\n",
    "coba = 'a'\n",
    "my_list.append(coba)\n",
    "print(my_list)"
   ]
  },
  {
   "cell_type": "markdown",
   "metadata": {},
   "source": [
    "case: kita membutuhkan fungsi untuk menghitung jumlah dari list A, kemudian jumlah tersebut ditambahkan kedalam umur kita"
   ]
  },
  {
   "cell_type": "code",
   "execution_count": 84,
   "metadata": {},
   "outputs": [
    {
     "name": "stdout",
     "output_type": "stream",
     "text": [
      "89\n"
     ]
    }
   ],
   "source": [
    "list_A =[10,20,30]\n",
    "umur=29\n",
    "def coba(list_A,umur):\n",
    "    for i in range (len(list_A)):\n",
    "        umur = list_A[i]+umur\n",
    "    print (umur)\n",
    "\n",
    "coba(list_A,umur)"
   ]
  },
  {
   "cell_type": "code",
   "execution_count": null,
   "metadata": {},
   "outputs": [],
   "source": []
  }
 ],
 "metadata": {
  "kernelspec": {
   "display_name": "Python 3",
   "language": "python",
   "name": "python3"
  },
  "language_info": {
   "codemirror_mode": {
    "name": "ipython",
    "version": 3
   },
   "file_extension": ".py",
   "mimetype": "text/x-python",
   "name": "python",
   "nbconvert_exporter": "python",
   "pygments_lexer": "ipython3",
   "version": "3.7.4"
  }
 },
 "nbformat": 4,
 "nbformat_minor": 4
}
