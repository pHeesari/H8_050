{
 "cells": [
  {
   "cell_type": "markdown",
   "metadata": {},
   "source": [
    "15/12/2020 - Conditional, Control flow, and looping"
   ]
  },
  {
   "cell_type": "code",
   "execution_count": null,
   "metadata": {},
   "outputs": [],
   "source": [
    "a = 5"
   ]
  },
  {
   "cell_type": "code",
   "execution_count": null,
   "metadata": {},
   "outputs": [],
   "source": [
    "if a==10:\n",
    "    print ('a adalah 10')\n",
    "else:\n",
    "    print('a bukan 10')"
   ]
  },
  {
   "cell_type": "code",
   "execution_count": null,
   "metadata": {},
   "outputs": [],
   "source": [
    "## logic\n",
    "## print nama diri sendiri, apabila umur bisa dibagi 2, kemudian apabila tidak bisa dibagi dua , maka check\n",
    "## dulu panjang nama lebih dari 3, maka print nama panjang, kalau kurang dari 3 print nama pendek"
   ]
  },
  {
   "cell_type": "code",
   "execution_count": null,
   "metadata": {},
   "outputs": [],
   "source": [
    "umur = 24\n",
    "a = 'Fitria Puspita Sari'\n",
    "b = 'Fitri'\n",
    "\n",
    "if umur%2 == 0:\n",
    "    if len (a)> 3:\n",
    "        print (a)\n",
    "    else:\n",
    "        print (b)\n",
    "else:\n",
    "    print ('Umurmu tidak habis dibagi 2')\n"
   ]
  },
  {
   "cell_type": "markdown",
   "metadata": {},
   "source": [
    "Iteration "
   ]
  },
  {
   "cell_type": "code",
   "execution_count": null,
   "metadata": {},
   "outputs": [],
   "source": [
    "a = 0\n",
    "while a < 10:\n",
    "    a = a +1 \n",
    "    print (a)"
   ]
  },
  {
   "cell_type": "code",
   "execution_count": null,
   "metadata": {},
   "outputs": [],
   "source": [
    "##logic print angka yang terus bertambah sebanyak 1, \n",
    "##sampai total dari nama panjang kita"
   ]
  },
  {
   "cell_type": "code",
   "execution_count": null,
   "metadata": {},
   "outputs": [],
   "source": [
    "full_name = 'Fitria Puspita Sari'\n",
    "\n",
    "a = 0\n",
    "while a < len(full_name):\n",
    "    a = a+1\n",
    "    print (a)"
   ]
  },
  {
   "cell_type": "code",
   "execution_count": null,
   "metadata": {},
   "outputs": [],
   "source": [
    "list_ukuran_baju = [10,20,25,30]\n",
    "for i in list_ukuran_baju:\n",
    "    print (i)"
   ]
  },
  {
   "cell_type": "code",
   "execution_count": null,
   "metadata": {},
   "outputs": [],
   "source": [
    "for i in range (len(list_ukuran_baju)):\n",
    "    print(list_ukuran_baju[i])"
   ]
  },
  {
   "cell_type": "code",
   "execution_count": null,
   "metadata": {},
   "outputs": [],
   "source": [
    "#case: apabila ad 2 list, print data di dalam list tersebut apabila data \n",
    "## di kedua list adalah sama, apabila berbeda \n",
    "## maka akan melakukan print nama kita sebanyak angka di dalam data yang di list pertama\n"
   ]
  },
  {
   "cell_type": "code",
   "execution_count": null,
   "metadata": {},
   "outputs": [],
   "source": [
    "list_a = [1,0,3,4]\n",
    "list_b = [5,2,7,8]\n",
    "nama = 'Fitri'\n",
    "\n",
    "for i in range (len(list_a)):\n",
    "    if list_a[i] == list_b[i]:\n",
    "        print(list_a[i])\n",
    "    else:\n",
    "        x = 0\n",
    "        while x <=list_a[i]:\n",
    "            print (nama)\n",
    "            x = x+1"
   ]
  },
  {
   "cell_type": "code",
   "execution_count": null,
   "metadata": {},
   "outputs": [],
   "source": [
    "def fungsi_print_nama(umur,a,b):\n",
    "    if umur%2 == 0:\n",
    "        if len (a)> 3:\n",
    "            print (a)\n",
    "        else:\n",
    "            print (b)\n",
    "    else:\n",
    "        print ('Umurmu tidak habis dibagi 2')"
   ]
  },
  {
   "cell_type": "code",
   "execution_count": null,
   "metadata": {},
   "outputs": [],
   "source": [
    "umur = 23\n",
    "a = 'Fitria Puspita Sari'\n",
    "b = 'Fitri'\n",
    "\n",
    "fungsi_print_nama(umur,a,b)"
   ]
  },
  {
   "cell_type": "markdown",
   "metadata": {},
   "source": [
    "16/12/2020 Function, module, and package"
   ]
  },
  {
   "cell_type": "code",
   "execution_count": null,
   "metadata": {},
   "outputs": [],
   "source": [
    "def print_str(data):\n",
    "    print(data)"
   ]
  },
  {
   "cell_type": "code",
   "execution_count": null,
   "metadata": {},
   "outputs": [],
   "source": [
    "print_str('a')\n",
    "print_str('b')"
   ]
  },
  {
   "cell_type": "code",
   "execution_count": null,
   "metadata": {},
   "outputs": [],
   "source": [
    "my_list = [10,20,30]\n",
    "coba = 'a'\n",
    "my_list.append(coba)\n",
    "print(my_list)"
   ]
  },
  {
   "cell_type": "markdown",
   "metadata": {},
   "source": [
    "case: kita membutuhkan fungsi untuk menghitung jumlah dari list A, kemudian jumlah tersebut ditambahkan kedalam umur kita"
   ]
  },
  {
   "cell_type": "code",
   "execution_count": null,
   "metadata": {},
   "outputs": [],
   "source": [
    "list_A =[10,20,30]\n",
    "umur=29\n",
    "def coba(list_A,umur):\n",
    "    for i in range (len(list_A)):\n",
    "        umur = list_A[i]+umur\n",
    "#    print (umur)\n",
    "    return umur\n",
    "\n",
    "#coba(list_A,umur)\n",
    "z = coba(list_A,umur)\n",
    "print(z)"
   ]
  },
  {
   "cell_type": "markdown",
   "metadata": {},
   "source": [
    "case: kita membuat 2 fungsi, dmana fungsi pertama adalah untuk mnegecek apakah angka itu dapat dibagi suatu angka, hasil dari fungsi tersebut adalah true atau false\n",
    "\n",
    "fungsi yang kedua adalah apabila hasil dari fungsi pertama itu adalah true, maka kita akan mempangkatkan dengan pangkat yang kita inginkan"
   ]
  },
  {
   "cell_type": "code",
   "execution_count": null,
   "metadata": {},
   "outputs": [],
   "source": [
    "def tes(angka,pembagi,pangkat):\n",
    "    if angka%pembagi == 0:\n",
    "        angka = angka**pangkat\n",
    "        print (\"Hasilnya adalah\",angka)\n",
    "    else:\n",
    "        print (\"Angkamu tidak bisa dibagi\")\n",
    "#    return angka\n",
    "\n",
    "tes(16,4,4)"
   ]
  },
  {
   "cell_type": "markdown",
   "metadata": {},
   "source": [
    "module"
   ]
  },
  {
   "cell_type": "code",
   "execution_count": null,
   "metadata": {},
   "outputs": [],
   "source": [
    "import sys"
   ]
  },
  {
   "cell_type": "code",
   "execution_count": null,
   "metadata": {},
   "outputs": [],
   "source": [
    "pip install mod"
   ]
  },
  {
   "cell_type": "code",
   "execution_count": null,
   "metadata": {},
   "outputs": [],
   "source": [
    "import mod"
   ]
  },
  {
   "cell_type": "markdown",
   "metadata": {},
   "source": [
    "case: buat module untuk \n",
    "menghitung number of data yang ada dalam suatu list \n",
    "kemudian jumlah data di list tersebut \n",
    "dikalikan dengan masing-masing data di dalam list, yang kemudian angka-angka tersebut kita jumlah\n",
    "\n",
    "a = [10,30,15]\n",
    "bila setelah dikalikan jadinya 20+60 = 80"
   ]
  },
  {
   "cell_type": "code",
   "execution_count": null,
   "metadata": {},
   "outputs": [],
   "source": [
    "import mod"
   ]
  },
  {
   "cell_type": "code",
   "execution_count": null,
   "metadata": {},
   "outputs": [],
   "source": [
    "from coba_fungsi import coba as lat3\n",
    "a = lat3([10,20,30])\n",
    "print (a)"
   ]
  },
  {
   "cell_type": "code",
   "execution_count": null,
   "metadata": {},
   "outputs": [],
   "source": [
    "from coba_fungsi import hitung_data_di_list,kalikan_angka_di_list,jumlah_data_di_list\n",
    "\n",
    "list_yang_mau_dihitung = [10,20,30]\n",
    "\n",
    "n = hitung_data_di_list(list_yang_mau_dihitung)\n",
    "list_new=kalikan_angka_di_list(list_yang_mau_dihitung,n)\n",
    "hasil_akhir = jumlah_data_di_list(list_new)\n",
    "print(hasil_akhir)"
   ]
  },
  {
   "cell_type": "markdown",
   "metadata": {},
   "source": [
    "case: buat skrip python untuk mengkalikan angka yang kita input dikalikan dengan 10"
   ]
  },
  {
   "cell_type": "markdown",
   "metadata": {},
   "source": [
    "17/12/2020 Numpy"
   ]
  },
  {
   "cell_type": "code",
   "execution_count": null,
   "metadata": {},
   "outputs": [],
   "source": [
    "import numpy as np"
   ]
  },
  {
   "cell_type": "code",
   "execution_count": null,
   "metadata": {},
   "outputs": [],
   "source": [
    "#List and array\n",
    "list = [1,2,3]\n",
    "arr = np.array([1,2,3,4]) # it has dimmension\n",
    "arr_2 = np.array([[1,2,3,4],[2,3,4,5]])\n",
    "\n",
    "print (list)\n",
    "print (arr)\n",
    "print (arr_2)\n",
    "\n",
    "print (arr.shape)\n",
    "print (arr_2.shape)"
   ]
  },
  {
   "cell_type": "markdown",
   "metadata": {},
   "source": [
    "case: buat array yang 2 dimensi dengan dimensi pertama adalah nama kita, dimensi kedua adalah nama kedua kita dan nilainya dimulai dari 0 dengan penambahan sebanyak nama ketiga kita\n",
    "\n",
    "fitria puspita sari\n",
    "(6, 7)\n",
    "([[0,4,8,16,24,32,36],[],[],[], dst]"
   ]
  },
  {
   "cell_type": "code",
   "execution_count": null,
   "metadata": {},
   "outputs": [],
   "source": [
    "import numpy as np\n",
    "\n",
    "first = len('fitria') \n",
    "second = len('puspita') \n",
    "third = len('sari') \n",
    "nama = np.zeros((first,second))\n",
    "#print(nama.shape)\n",
    "\n",
    "#First logic\n",
    "\n",
    "#for i in range (first):\n",
    "#    print (nama[i])\n",
    "#    j = 0 #ngelooping\n",
    "#    for k in range(0,third*second,third): #ini ngisi angka\n",
    "#       print (nama)\n",
    "#        nama[i][j] = np.array([k])\n",
    "#        j = j+1\n",
    "\n",
    "#Second logic \n",
    "\n",
    "for i in range (first): \n",
    "    #print (i)\n",
    "    for j in range (second): \n",
    "       # print (j)\n",
    "        nama[i] = np.arange(0,third*second,third) #awal, akhir, rentang\n",
    "print (nama)\n",
    "\n",
    "#i, j, k ==> [i],[j],[k]"
   ]
  },
  {
   "cell_type": "markdown",
   "metadata": {},
   "source": [
    "case nya ada 3 array, isinya bebas, dimesninya bebas, tiga array tersebut kita buat jadi 2 array yang isinya\n",
    "array pertama kombinasi antara array 1, 2 dimana itu dimensinya harus sama dengan dimensi yang array 1\n",
    "array yang kedua kombinasi antara array 2,3 dimana dimensi keduanya harus sama dengan array 2\n",
    "\n",
    "arr1 = [[1,2,3,4],[5,6,7,8]] --> 2x4\n",
    "arr2 = [[9,10],[11,12],[13,14]] --> 3x2\n",
    "arr3 = [[15,16,17,18]] --> 1x4\n",
    "\n",
    "arr5 --> dua dimensi [[1,23,4,9,10,11,12],[5,6,7,8,11,12,13,14]]\n",
    "arr6 [[9,10,15,16],[11,12,17,18],[13,14,17,18]]"
   ]
  },
  {
   "cell_type": "code",
   "execution_count": null,
   "metadata": {},
   "outputs": [],
   "source": [
    "#TBH Saya tidak paham dengan case-nya :(, cuman saya kerjakan sepemahaman saya aja lah ya Pak\n",
    "a = np.zeros((2,4))\n",
    "b = np.ones((3,2))\n",
    "c = np.random.random((1,4))\n",
    "\n",
    "print (a)\n",
    "print (b)\n",
    "print (c)\n",
    "\n",
    "arr1 = np.concatenate((a, b.T), axis=1)\n",
    "arr2 = np.row_stack((b,c.reshape(2,2)))\n",
    "\n",
    "#print (d)\n",
    "print (arr1)\n",
    "print (arr2)\n",
    "print (arr2.shape)\n",
    "print (arr2.sum())\n",
    "print (arr2.sum(axis=0))\n",
    "\n",
    "arr1 = np.array([2,3]).reshape(2,1)\n",
    "arr2 = np.array ([[2],[3]]).reshape(1,2)\n",
    "print (arr1*arr2)"
   ]
  },
  {
   "cell_type": "markdown",
   "metadata": {},
   "source": [
    "18/12/2020 Pandas - data frame"
   ]
  },
  {
   "cell_type": "code",
   "execution_count": null,
   "metadata": {},
   "outputs": [],
   "source": [
    "import pandas as pd\n",
    "import numpy as np"
   ]
  },
  {
   "cell_type": "code",
   "execution_count": null,
   "metadata": {},
   "outputs": [],
   "source": [
    "df=pd.read_csv('https://raw.githubusercontent.com/ardhiraka/PFDS_sources/master/nbaallelo.csv')"
   ]
  },
  {
   "cell_type": "code",
   "execution_count": null,
   "metadata": {},
   "outputs": [],
   "source": [
    "len(df)"
   ]
  },
  {
   "cell_type": "code",
   "execution_count": null,
   "metadata": {},
   "outputs": [],
   "source": [
    "df.shape"
   ]
  },
  {
   "cell_type": "code",
   "execution_count": null,
   "metadata": {},
   "outputs": [],
   "source": [
    "df.head()"
   ]
  },
  {
   "cell_type": "code",
   "execution_count": null,
   "metadata": {},
   "outputs": [],
   "source": [
    "coba=pd.read_csv('./exams.csv')\n",
    "print (coba.shape)"
   ]
  },
  {
   "cell_type": "code",
   "execution_count": null,
   "metadata": {},
   "outputs": [],
   "source": [
    "coba"
   ]
  },
  {
   "cell_type": "code",
   "execution_count": null,
   "metadata": {},
   "outputs": [],
   "source": [
    "#Filtering out\n",
    "coba[coba['math score']>=70].min ()"
   ]
  },
  {
   "cell_type": "markdown",
   "metadata": {},
   "source": [
    "case: dengan data yang exams, ada berapa pelajar wanita ada berapa pria, kemudian max \n",
    "    score dari wanita itu adalah berapa dan pria max scorenya berapa?"
   ]
  },
  {
   "cell_type": "code",
   "execution_count": null,
   "metadata": {},
   "outputs": [],
   "source": [
    "coba[coba['gender']=='female']['gender'].count()"
   ]
  },
  {
   "cell_type": "code",
   "execution_count": null,
   "metadata": {},
   "outputs": [],
   "source": [
    "coba[coba['gender']=='male']['gender'].count()"
   ]
  },
  {
   "cell_type": "code",
   "execution_count": null,
   "metadata": {},
   "outputs": [],
   "source": [
    "a = coba[coba['gender']=='female']['math score'].max()\n",
    "b = coba[coba['gender']=='male']['math score'].max()\n",
    "print (a)\n",
    "print (b)"
   ]
  },
  {
   "cell_type": "code",
   "execution_count": null,
   "metadata": {},
   "outputs": [],
   "source": [
    "apasik = coba[coba['lunch']!='standard']['reading score'].max()\n",
    "print (apasik)"
   ]
  },
  {
   "cell_type": "code",
   "execution_count": null,
   "metadata": {},
   "outputs": [],
   "source": [
    "city_expectation = pd.Series([7,9,8],index=['Wageningen','Seoul','Norman'])\n",
    "city_reality = pd.Series({'Wageningen':9,'Seoul':8,'Norman':'unknown'})\n",
    "\n",
    "city_expression=pd.DataFrame({'expectation':city_expectation,'reality':city_reality})\n",
    "\n",
    "city_expression"
   ]
  },
  {
   "cell_type": "code",
   "execution_count": null,
   "metadata": {},
   "outputs": [],
   "source": [
    "city_expectation.axes"
   ]
  },
  {
   "cell_type": "markdown",
   "metadata": {},
   "source": [
    "case - exam ubah index kelipatan 20\n",
    "case - indexnya ubah jadi gender, list all column yang tersisa"
   ]
  },
  {
   "cell_type": "code",
   "execution_count": null,
   "metadata": {},
   "outputs": [],
   "source": [
    "coba.index"
   ]
  },
  {
   "cell_type": "code",
   "execution_count": null,
   "metadata": {},
   "outputs": [],
   "source": [
    "coba=coba.set_index('gender')"
   ]
  },
  {
   "cell_type": "code",
   "execution_count": null,
   "metadata": {},
   "outputs": [],
   "source": [
    "coba"
   ]
  },
  {
   "cell_type": "markdown",
   "metadata": {},
   "source": [
    "case:\n",
    "berapa jumlah wanita yang memiliki nilai matematika antara 50 - 60 yang juga memiliki ortu sudah lulus kuliah?\n",
    "berapa jumlah pria yang dia memiliki nilai di bawah nilai minimum wanita, kemudian dijabarkan dia etnisnya di grup apa dan orang tuanya punay edukasi apa?"
   ]
  },
  {
   "cell_type": "code",
   "execution_count": null,
   "metadata": {},
   "outputs": [],
   "source": [
    "#nomor 1 \n",
    "nomor_satu = coba[(coba[\"gender\"]=='female')\n",
    "                  &(coba['math score']>=50)\n",
    "                  &(coba['math score']<=60)\n",
    "                  &(coba['parental level of education']=='associate\\'s degree')].count()\n",
    "print (nomor_satu)"
   ]
  },
  {
   "cell_type": "code",
   "execution_count": null,
   "metadata": {},
   "outputs": [],
   "source": [
    "nomor_dua = coba[(coba[\"gender\"]=='female')\n",
    "                  &(coba['math score']<=coba[coba['gender']=='female']['math score'].min())\n",
    "                  &(coba['reading score']<=coba[coba['gender']=='female']['reading score'].min())\n",
    "                  &(coba['writing score']<=coba[coba['gender']=='female']['writing score'].min())]\n",
    "print (nomor_dua.count())\n",
    "print (nomor_dua)"
   ]
  },
  {
   "cell_type": "markdown",
   "metadata": {},
   "source": [
    "21/12/2020 Lanjutan Pandas"
   ]
  },
  {
   "cell_type": "code",
   "execution_count": null,
   "metadata": {},
   "outputs": [],
   "source": [
    "coba.groupby(['gender'])['gender'].count()"
   ]
  },
  {
   "cell_type": "code",
   "execution_count": null,
   "metadata": {},
   "outputs": [],
   "source": [
    "coba.groupby(['gender'])['math score'].max()"
   ]
  },
  {
   "cell_type": "code",
   "execution_count": null,
   "metadata": {},
   "outputs": [],
   "source": [
    "type(coba.groupby(['gender'])['math score'].max())"
   ]
  },
  {
   "cell_type": "code",
   "execution_count": null,
   "metadata": {},
   "outputs": [],
   "source": [
    "coba.groupby(['gender'])['math score'].max().values #ngerubah jadi array"
   ]
  },
  {
   "cell_type": "code",
   "execution_count": null,
   "metadata": {},
   "outputs": [],
   "source": [
    "coba.groupby(['gender'])['math score'].max().keys() #merubah jadi index"
   ]
  },
  {
   "cell_type": "code",
   "execution_count": null,
   "metadata": {},
   "outputs": [],
   "source": [
    "print(coba.shape)\n",
    "coba['kolom_baru'] = 10\n",
    "coba['difference'] = coba['math score'] - coba['writing score']\n",
    "print (coba.shape)"
   ]
  },
  {
   "cell_type": "code",
   "execution_count": null,
   "metadata": {},
   "outputs": [],
   "source": [
    "coba_edit = coba.copy()"
   ]
  },
  {
   "cell_type": "code",
   "execution_count": null,
   "metadata": {},
   "outputs": [],
   "source": [
    "coba_edit.to_csv('./coba.csv')"
   ]
  },
  {
   "cell_type": "code",
   "execution_count": null,
   "metadata": {},
   "outputs": [],
   "source": [
    "df.info()"
   ]
  },
  {
   "cell_type": "code",
   "execution_count": null,
   "metadata": {},
   "outputs": [],
   "source": [
    "df['date_game'] = pd.to_datetime(df['date_game'])"
   ]
  },
  {
   "cell_type": "code",
   "execution_count": null,
   "metadata": {},
   "outputs": [],
   "source": [
    "df.info()"
   ]
  },
  {
   "cell_type": "code",
   "execution_count": null,
   "metadata": {},
   "outputs": [],
   "source": [
    "df['date_game'].nunique()"
   ]
  },
  {
   "cell_type": "code",
   "execution_count": null,
   "metadata": {},
   "outputs": [],
   "source": [
    "df['date_game'].value_counts()"
   ]
  },
  {
   "cell_type": "code",
   "execution_count": null,
   "metadata": {},
   "outputs": [],
   "source": [
    "df.groupby(['date_game'])['date_game'].count() #based date game"
   ]
  },
  {
   "cell_type": "code",
   "execution_count": null,
   "metadata": {},
   "outputs": [],
   "source": [
    "df.notnull().sum()"
   ]
  },
  {
   "cell_type": "code",
   "execution_count": null,
   "metadata": {},
   "outputs": [],
   "source": [
    "df.isnull().sum()"
   ]
  },
  {
   "cell_type": "code",
   "execution_count": null,
   "metadata": {},
   "outputs": [],
   "source": [
    "#menghapus kolom yang ad null-nya\n",
    "df_without_null = df.dropna()\n",
    "df_without_null.shape"
   ]
  },
  {
   "cell_type": "code",
   "execution_count": null,
   "metadata": {},
   "outputs": [],
   "source": [
    "df_isi = df.copy()\n",
    "df[\"notes\"].fillna(\n",
    "    value=\"no totes at all\",\n",
    "    inplace=True\n",
    ")"
   ]
  },
  {
   "cell_type": "code",
   "execution_count": null,
   "metadata": {},
   "outputs": [],
   "source": [
    "df_isi.isnull().count()"
   ]
  },
  {
   "cell_type": "markdown",
   "metadata": {},
   "source": [
    "Missing value need to be proceed to avoid error. Invalid value --> no make sense data --> sanity check "
   ]
  },
  {
   "cell_type": "code",
   "execution_count": null,
   "metadata": {},
   "outputs": [],
   "source": [
    "df.describe()"
   ]
  },
  {
   "cell_type": "code",
   "execution_count": null,
   "metadata": {},
   "outputs": [],
   "source": [
    "%matplotlib inline"
   ]
  },
  {
   "cell_type": "code",
   "execution_count": null,
   "metadata": {},
   "outputs": [],
   "source": [
    "df_isi[(df_isi['date_game']>='2010-01-01')].groupby(['date_game'])['date_game'].count().plot(kind='bar')"
   ]
  },
  {
   "cell_type": "markdown",
   "metadata": {},
   "source": [
    "case:\n",
    "coba cex exam data itu ada missing atau tidak, ada invalid atau tidak, ada inconsistent atau tidak\n",
    "coba buat pir chart untuk jumlah gender dan jumlah per parental education"
   ]
  },
  {
   "cell_type": "code",
   "execution_count": null,
   "metadata": {},
   "outputs": [],
   "source": [
    "coba.isnull().sum()"
   ]
  },
  {
   "cell_type": "code",
   "execution_count": null,
   "metadata": {},
   "outputs": [],
   "source": [
    "coba.describe()"
   ]
  },
  {
   "cell_type": "code",
   "execution_count": null,
   "metadata": {},
   "outputs": [],
   "source": [
    "import matplotlib.pyplot as plt"
   ]
  },
  {
   "cell_type": "code",
   "execution_count": null,
   "metadata": {},
   "outputs": [],
   "source": [
    "coba['gender'].value_counts().plot(kind='pie', autopct='%1.1f%%', radius =1)"
   ]
  },
  {
   "cell_type": "code",
   "execution_count": null,
   "metadata": {},
   "outputs": [],
   "source": [
    "coba['parental level of education'].value_counts().plot(kind='pie', autopct='%1.1f%%')"
   ]
  },
  {
   "cell_type": "code",
   "execution_count": null,
   "metadata": {},
   "outputs": [],
   "source": [
    "tes=pd.read_csv('https://raw.githubusercontent.com/ardhiraka/PFDS_sources/master/property_data.csv')"
   ]
  },
  {
   "cell_type": "code",
   "execution_count": null,
   "metadata": {},
   "outputs": [],
   "source": [
    "tes.head(10)\n",
    "#12 pada OWN_OCCUPIED aneh"
   ]
  },
  {
   "cell_type": "code",
   "execution_count": null,
   "metadata": {},
   "outputs": [],
   "source": [
    "tes.isnull().sum()\n",
    "#True isnull berarti ada data yang null --> missing value"
   ]
  },
  {
   "cell_type": "code",
   "execution_count": null,
   "metadata": {},
   "outputs": [],
   "source": [
    "tes.info()"
   ]
  },
  {
   "cell_type": "code",
   "execution_count": null,
   "metadata": {},
   "outputs": [],
   "source": [
    "missing_values = ('n/a','na','--') #mengetahui missing value yang isinya tidak jelas --> bukan nan bukan null"
   ]
  },
  {
   "cell_type": "code",
   "execution_count": null,
   "metadata": {},
   "outputs": [],
   "source": [
    "tess=pd.read_csv('https://raw.githubusercontent.com/ardhiraka/PFDS_sources/master/property_data.csv',na_values=missing_values)"
   ]
  },
  {
   "cell_type": "code",
   "execution_count": null,
   "metadata": {},
   "outputs": [],
   "source": [
    "tess.isnull()"
   ]
  },
  {
   "cell_type": "code",
   "execution_count": null,
   "metadata": {},
   "outputs": [],
   "source": [
    "tess['OWN_OCCUPIED'].isnull()"
   ]
  },
  {
   "cell_type": "code",
   "execution_count": null,
   "metadata": {},
   "outputs": [],
   "source": [
    "#data yang tidak sesuai type \n",
    "#pada kolom string ada integer\n",
    "cnt=0\n",
    "for row in tess['OWN_OCCUPIED']:\n",
    "    try:\n",
    "        int(row)\n",
    "        tess.loc[cnt,'OWN_OCCUPIED']=np.nan\n",
    "    except ValueError:\n",
    "        pass\n",
    "    cnt+=1"
   ]
  },
  {
   "cell_type": "code",
   "execution_count": null,
   "metadata": {},
   "outputs": [],
   "source": [
    "tess.head(9)"
   ]
  },
  {
   "cell_type": "code",
   "execution_count": null,
   "metadata": {},
   "outputs": [],
   "source": [
    "tess['NUM_BATH'].isnull()"
   ]
  },
  {
   "cell_type": "code",
   "execution_count": null,
   "metadata": {},
   "outputs": [],
   "source": [
    "a=0\n",
    "for row in tess['NUM_BATH']:\n",
    "    try:\n",
    "        int(row)\n",
    "    except ValueError:\n",
    "        tess.loc[a,'NUM_BATH']=np.nan #loc --> baca suatu rows membaca indexnya, iloc numbernya\n",
    "    a+=1"
   ]
  },
  {
   "cell_type": "code",
   "execution_count": null,
   "metadata": {},
   "outputs": [],
   "source": [
    "tess.head(10)\n",
    "#data frame Nan --> kosong"
   ]
  },
  {
   "cell_type": "code",
   "execution_count": null,
   "metadata": {},
   "outputs": [],
   "source": [
    "tess.loc[2,'ST_NUM'] = 125"
   ]
  },
  {
   "cell_type": "markdown",
   "metadata": {},
   "source": [
    "22/12/2020 Hari ketujuh"
   ]
  },
  {
   "cell_type": "code",
   "execution_count": null,
   "metadata": {},
   "outputs": [],
   "source": [
    "pip install xlrd"
   ]
  },
  {
   "cell_type": "code",
   "execution_count": null,
   "metadata": {},
   "outputs": [],
   "source": [
    "apasik=pd.read_excel('./obes.xls',\n",
    "                    sheet_name='7.2',\n",
    "                    skiprows=4,\n",
    "                    skipfooter=14)"
   ]
  },
  {
   "cell_type": "code",
   "execution_count": null,
   "metadata": {},
   "outputs": [],
   "source": [
    "apasik"
   ]
  },
  {
   "cell_type": "code",
   "execution_count": null,
   "metadata": {},
   "outputs": [],
   "source": [
    "apasik.rename(columns={'Unnamed 0':'Year'},inplace=True)"
   ]
  },
  {
   "cell_type": "code",
   "execution_count": null,
   "metadata": {},
   "outputs": [],
   "source": [
    "apasik.dropna(inplace=True)"
   ]
  },
  {
   "cell_type": "code",
   "execution_count": null,
   "metadata": {},
   "outputs": [],
   "source": [
    "apasik"
   ]
  },
  {
   "cell_type": "code",
   "execution_count": null,
   "metadata": {},
   "outputs": [],
   "source": [
    "apasik_tanpa_total=apasik.drop('Total',axis=1)"
   ]
  },
  {
   "cell_type": "code",
   "execution_count": null,
   "metadata": {},
   "outputs": [],
   "source": [
    "%matplotlib inline\n",
    "apasik_tanpa_total.plot()"
   ]
  },
  {
   "cell_type": "code",
   "execution_count": null,
   "metadata": {},
   "outputs": [],
   "source": [
    "apasik['Under 16'].plot(label=\"Under 16\",legend=True)\n",
    "apasik['35-44'].plot(label=\"35 - 44\",legend=True)\n",
    "plt.ylabel('Total')"
   ]
  },
  {
   "cell_type": "code",
   "execution_count": null,
   "metadata": {},
   "outputs": [],
   "source": [
    "raw=pd.read_csv('./F2016062107S5011628.CSV'\n",
    "                      ,skiprows=6,\n",
    "                     na_values=['-','---','----','-----','------'])"
   ]
  },
  {
   "cell_type": "code",
   "execution_count": null,
   "metadata": {},
   "outputs": [],
   "source": [
    "raw.head(10)"
   ]
  },
  {
   "cell_type": "code",
   "execution_count": null,
   "metadata": {},
   "outputs": [],
   "source": [
    "raw.shape"
   ]
  },
  {
   "cell_type": "code",
   "execution_count": null,
   "metadata": {},
   "outputs": [],
   "source": [
    "raw.info()"
   ]
  },
  {
   "cell_type": "code",
   "execution_count": null,
   "metadata": {},
   "outputs": [],
   "source": [
    "from datetime import datetime"
   ]
  },
  {
   "cell_type": "markdown",
   "metadata": {},
   "source": [
    "case: \n",
    "1. jadikan obstime jadi index tapi harus dalam bentuk datetime\n",
    "2. replace data yang invalid menjadi NaN untuk Humi0, Temp0, WD"
   ]
  },
  {
   "cell_type": "code",
   "execution_count": null,
   "metadata": {},
   "outputs": [],
   "source": [
    "raw[' ObsTime']=pd.to_datetime(raw[' ObsTime'])"
   ]
  },
  {
   "cell_type": "code",
   "execution_count": null,
   "metadata": {},
   "outputs": [],
   "source": [
    "raw.info()"
   ]
  },
  {
   "cell_type": "code",
   "execution_count": null,
   "metadata": {},
   "outputs": [],
   "source": [
    "raw=raw.set_index(' ObsTime')"
   ]
  },
  {
   "cell_type": "code",
   "execution_count": null,
   "metadata": {},
   "outputs": [],
   "source": [
    "raw"
   ]
  },
  {
   "cell_type": "code",
   "execution_count": null,
   "metadata": {},
   "outputs": [],
   "source": [
    "raw.info()"
   ]
  },
  {
   "cell_type": "code",
   "execution_count": null,
   "metadata": {},
   "outputs": [],
   "source": [
    "pip install xlrd==1.2.0"
   ]
  },
  {
   "cell_type": "code",
   "execution_count": 1,
   "metadata": {},
   "outputs": [
    {
     "name": "stdout",
     "output_type": "stream",
     "text": [
      "Data read into a pandas dataframe!\n"
     ]
    }
   ],
   "source": [
    "import pandas as pd\n",
    "kulelah=pd.read_excel('./Canada.xlsx',\n",
    "                     sheet_name='Canada by Citizenship',\n",
    "                     skiprows=range(20),\n",
    "                     skipfooter=2)\n",
    "print ('Data read into a pandas dataframe!')"
   ]
  },
  {
   "cell_type": "code",
   "execution_count": null,
   "metadata": {},
   "outputs": [],
   "source": [
    "kulelah.head()"
   ]
  },
  {
   "cell_type": "code",
   "execution_count": null,
   "metadata": {},
   "outputs": [],
   "source": [
    "kulelah.info()"
   ]
  },
  {
   "cell_type": "code",
   "execution_count": null,
   "metadata": {},
   "outputs": [],
   "source": [
    "kulelah.columns.values"
   ]
  },
  {
   "cell_type": "code",
   "execution_count": null,
   "metadata": {},
   "outputs": [],
   "source": [
    "kulelah.index.values"
   ]
  },
  {
   "cell_type": "code",
   "execution_count": 2,
   "metadata": {},
   "outputs": [
    {
     "data": {
      "text/html": [
       "<div>\n",
       "<style scoped>\n",
       "    .dataframe tbody tr th:only-of-type {\n",
       "        vertical-align: middle;\n",
       "    }\n",
       "\n",
       "    .dataframe tbody tr th {\n",
       "        vertical-align: top;\n",
       "    }\n",
       "\n",
       "    .dataframe thead th {\n",
       "        text-align: right;\n",
       "    }\n",
       "</style>\n",
       "<table border=\"1\" class=\"dataframe\">\n",
       "  <thead>\n",
       "    <tr style=\"text-align: right;\">\n",
       "      <th></th>\n",
       "      <th>OdName</th>\n",
       "      <th>AreaName</th>\n",
       "      <th>RegName</th>\n",
       "      <th>DevName</th>\n",
       "      <th>1980</th>\n",
       "      <th>1981</th>\n",
       "      <th>1982</th>\n",
       "      <th>1983</th>\n",
       "      <th>1984</th>\n",
       "      <th>1985</th>\n",
       "      <th>...</th>\n",
       "      <th>2004</th>\n",
       "      <th>2005</th>\n",
       "      <th>2006</th>\n",
       "      <th>2007</th>\n",
       "      <th>2008</th>\n",
       "      <th>2009</th>\n",
       "      <th>2010</th>\n",
       "      <th>2011</th>\n",
       "      <th>2012</th>\n",
       "      <th>2013</th>\n",
       "    </tr>\n",
       "  </thead>\n",
       "  <tbody>\n",
       "    <tr>\n",
       "      <td>0</td>\n",
       "      <td>Afghanistan</td>\n",
       "      <td>Asia</td>\n",
       "      <td>Southern Asia</td>\n",
       "      <td>Developing regions</td>\n",
       "      <td>16</td>\n",
       "      <td>39</td>\n",
       "      <td>39</td>\n",
       "      <td>47</td>\n",
       "      <td>71</td>\n",
       "      <td>340</td>\n",
       "      <td>...</td>\n",
       "      <td>2978</td>\n",
       "      <td>3436</td>\n",
       "      <td>3009</td>\n",
       "      <td>2652</td>\n",
       "      <td>2111</td>\n",
       "      <td>1746</td>\n",
       "      <td>1758</td>\n",
       "      <td>2203</td>\n",
       "      <td>2635</td>\n",
       "      <td>2004</td>\n",
       "    </tr>\n",
       "    <tr>\n",
       "      <td>1</td>\n",
       "      <td>Albania</td>\n",
       "      <td>Europe</td>\n",
       "      <td>Southern Europe</td>\n",
       "      <td>Developed regions</td>\n",
       "      <td>1</td>\n",
       "      <td>0</td>\n",
       "      <td>0</td>\n",
       "      <td>0</td>\n",
       "      <td>0</td>\n",
       "      <td>0</td>\n",
       "      <td>...</td>\n",
       "      <td>1450</td>\n",
       "      <td>1223</td>\n",
       "      <td>856</td>\n",
       "      <td>702</td>\n",
       "      <td>560</td>\n",
       "      <td>716</td>\n",
       "      <td>561</td>\n",
       "      <td>539</td>\n",
       "      <td>620</td>\n",
       "      <td>603</td>\n",
       "    </tr>\n",
       "  </tbody>\n",
       "</table>\n",
       "<p>2 rows × 38 columns</p>\n",
       "</div>"
      ],
      "text/plain": [
       "        OdName AreaName          RegName             DevName  1980  1981  \\\n",
       "0  Afghanistan     Asia    Southern Asia  Developing regions    16    39   \n",
       "1      Albania   Europe  Southern Europe   Developed regions     1     0   \n",
       "\n",
       "   1982  1983  1984  1985  ...  2004  2005  2006  2007  2008  2009  2010  \\\n",
       "0    39    47    71   340  ...  2978  3436  3009  2652  2111  1746  1758   \n",
       "1     0     0     0     0  ...  1450  1223   856   702   560   716   561   \n",
       "\n",
       "   2011  2012  2013  \n",
       "0  2203  2635  2004  \n",
       "1   539   620   603  \n",
       "\n",
       "[2 rows x 38 columns]"
      ]
     },
     "execution_count": 2,
     "metadata": {},
     "output_type": "execute_result"
    }
   ],
   "source": [
    "#hapus kolom ga penting\n",
    "kulelah.drop(['AREA','REG','DEV','Type','Coverage'],axis=1,inplace=True)\n",
    "kulelah.head(2)"
   ]
  },
  {
   "cell_type": "code",
   "execution_count": 3,
   "metadata": {},
   "outputs": [
    {
     "data": {
      "text/plain": [
       "Index([  'Country', 'Continent',    'Region',   'DevName',        1980,\n",
       "              1981,        1982,        1983,        1984,        1985,\n",
       "              1986,        1987,        1988,        1989,        1990,\n",
       "              1991,        1992,        1993,        1994,        1995,\n",
       "              1996,        1997,        1998,        1999,        2000,\n",
       "              2001,        2002,        2003,        2004,        2005,\n",
       "              2006,        2007,        2008,        2009,        2010,\n",
       "              2011,        2012,        2013],\n",
       "      dtype='object')"
      ]
     },
     "execution_count": 3,
     "metadata": {},
     "output_type": "execute_result"
    }
   ],
   "source": [
    "#ganti nama kolomnya\n",
    "kulelah.rename(columns={'OdName':'Country','AreaName':'Continent','RegName':'Region'},inplace=True)\n",
    "kulelah.columns"
   ]
  },
  {
   "cell_type": "code",
   "execution_count": null,
   "metadata": {},
   "outputs": [],
   "source": [
    "#[] --> series\n",
    "#[[]] --> dataframe\n",
    "#merubah ke string\n",
    "a = [1,2,3]\n",
    "for x in a:\n",
    "    x = str(x)\n",
    "    print(x,type(x))"
   ]
  },
  {
   "cell_type": "code",
   "execution_count": null,
   "metadata": {},
   "outputs": [],
   "source": [
    "[str(x)for x in a]"
   ]
  },
  {
   "cell_type": "code",
   "execution_count": null,
   "metadata": {},
   "outputs": [],
   "source": [
    "raw"
   ]
  },
  {
   "cell_type": "markdown",
   "metadata": {},
   "source": [
    "case:\n",
    "0. data NaN rows nya di delete\n",
    "1. pada detik keberapa humidity paling tinggi?\n",
    "2. pada detik keberapa temperature paling tinggi?\n",
    "3. presure di tiap ketinggian itu bagaimana?"
   ]
  },
  {
   "cell_type": "code",
   "execution_count": null,
   "metadata": {},
   "outputs": [],
   "source": [
    "raw.dropna(inplace=True)"
   ]
  },
  {
   "cell_type": "code",
   "execution_count": null,
   "metadata": {},
   "outputs": [],
   "source": [
    "raw.columns.values"
   ]
  },
  {
   "cell_type": "code",
   "execution_count": null,
   "metadata": {},
   "outputs": [],
   "source": [
    "#caranya bisa pakai groupby atau resample\n",
    "raw[['Humi0','Temp0',' Height','Press0']].resample('S').max()"
   ]
  },
  {
   "cell_type": "code",
   "execution_count": null,
   "metadata": {},
   "outputs": [],
   "source": [
    "%matplotlib inline\n",
    "raw.plot(x='Press0',y=' Height')"
   ]
  },
  {
   "cell_type": "markdown",
   "metadata": {},
   "source": [
    "#8 Visualisasi (04/01/2021)"
   ]
  },
  {
   "cell_type": "code",
   "execution_count": null,
   "metadata": {},
   "outputs": [],
   "source": [
    "kulelah"
   ]
  },
  {
   "cell_type": "markdown",
   "metadata": {},
   "source": [
    "series (turun ke bawah) dan data frame (kek tabel)\n",
    "loc --> itu di pakai kalo ud set index pada suastu kolom\n",
    "kalo filter biasa tinggal [] pilih kolomnya aja"
   ]
  },
  {
   "cell_type": "code",
   "execution_count": null,
   "metadata": {},
   "outputs": [],
   "source": [
    "kulelah.columns.values"
   ]
  },
  {
   "cell_type": "code",
   "execution_count": 4,
   "metadata": {},
   "outputs": [
    {
     "data": {
      "image/png": "[encoded data removed]",
      "text/plain": [
       "<Figure size 432x288 with 1 Axes>"
      ]
     },
     "metadata": {},
     "output_type": "display_data"
    }
   ],
   "source": [
    "import matplotlib.pyplot as plt\n",
    "import matplotlib as mpl\n",
    "%matplotlib inline\n",
    "mpl.style.use(['ggplot'])\n",
    "nyoba_lagi = kulelah.copy()\n",
    "nyoba_lagi=nyoba_lagi.set_index('Country')\n",
    "years = list(range(1980,2014))\n",
    "Jwb = nyoba_lagi.loc[['Afghanistan','Albania'],years]\n",
    "Jwb_satu = Jwb.transpose ()\n",
    "Jwb_satu.plot(kind='line')\n",
    "plt.title('Immigrants from Afghanistan and Albania')\n",
    "plt.ylabel('Number of Immigrantas (ppl)')\n",
    "plt.xlabel('Years')\n",
    "plt.show()"
   ]
  },
  {
   "cell_type": "markdown",
   "metadata": {},
   "source": [
    "Case : Mayoritas dari region mana yang datang ke canada tapi secara total (1980 - 2013)"
   ]
  },
  {
   "cell_type": "code",
   "execution_count": 19,
   "metadata": {},
   "outputs": [
    {
     "data": {
      "text/plain": [
       "Region\n",
       "Australia and New Zealand      34215\n",
       "Caribbean                     308253\n",
       "Central America               161653\n",
       "Central Asia                   15024\n",
       "Eastern Africa                167389\n",
       "Eastern Asia                  841201\n",
       "Eastern Europe                421223\n",
       "Melanesia                      20689\n",
       "Micronesia                        36\n",
       "Middle Africa                  48628\n",
       "Northern Africa               255451\n",
       "Northern America              241142\n",
       "Northern Europe               589584\n",
       "Polynesia                        234\n",
       "South America                 295242\n",
       "South-Eastern Asia            687329\n",
       "Southern Africa                41579\n",
       "Southern Asia                1398120\n",
       "Southern Europe               168544\n",
       "Western Africa                105901\n",
       "Western Asia                  376120\n",
       "Western Europe                231596\n",
       "dtype: int64"
      ]
     },
     "execution_count": 19,
     "metadata": {},
     "output_type": "execute_result"
    }
   ],
   "source": [
    "region = kulelah.copy()\n",
    "region_total = region.groupby('Region',axis=0)[years].sum().sum(axis=1)\n",
    "region_total\n"
   ]
  },
  {
   "cell_type": "code",
   "execution_count": 20,
   "metadata": {},
   "outputs": [
    {
     "data": {
      "text/plain": [
       "<matplotlib.axes._subplots.AxesSubplot at 0x119d98410>"
      ]
     },
     "execution_count": 20,
     "metadata": {},
     "output_type": "execute_result"
    },
    {
     "data": {
      "image/png": "[encoded data removed]",
      "text/plain": [
       "<Figure size 432x288 with 1 Axes>"
      ]
     },
     "metadata": {},
     "output_type": "display_data"
    }
   ],
   "source": [
    "region_total.plot(kind='pie', autopct='%1.1f%%', radius =1)"
   ]
  },
  {
   "cell_type": "code",
   "execution_count": null,
   "metadata": {},
   "outputs": [],
   "source": []
  }
 ],
 "metadata": {
  "kernelspec": {
   "display_name": "Python 3",
   "language": "python",
   "name": "python3"
  },
  "language_info": {
   "codemirror_mode": {
    "name": "ipython",
    "version": 3
   },
   "file_extension": ".py",
   "mimetype": "text/x-python",
   "name": "python",
   "nbconvert_exporter": "python",
   "pygments_lexer": "ipython3",
   "version": "3.7.4"
  }
 },
 "nbformat": 4,
 "nbformat_minor": 4
}
