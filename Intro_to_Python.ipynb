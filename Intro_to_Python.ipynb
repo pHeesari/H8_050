{
 "cells": [
  {
   "cell_type": "markdown",
   "metadata": {},
   "source": [
    "15/12/2020 - Conditional, Control flow, and looping"
   ]
  },
  {
   "cell_type": "code",
   "execution_count": null,
   "metadata": {},
   "outputs": [],
   "source": [
    "a = 5"
   ]
  },
  {
   "cell_type": "code",
   "execution_count": null,
   "metadata": {},
   "outputs": [],
   "source": [
    "if a==10:\n",
    "    print ('a adalah 10')\n",
    "else:\n",
    "    print('a bukan 10')"
   ]
  },
  {
   "cell_type": "code",
   "execution_count": null,
   "metadata": {},
   "outputs": [],
   "source": [
    "## logic\n",
    "## print nama diri sendiri, apabila umur bisa dibagi 2, kemudian apabila tidak bisa dibagi dua , maka check\n",
    "## dulu panjang nama lebih dari 3, maka print nama panjang, kalau kurang dari 3 print nama pendek"
   ]
  },
  {
   "cell_type": "code",
   "execution_count": null,
   "metadata": {},
   "outputs": [],
   "source": [
    "umur = 24\n",
    "a = 'Fitria Puspita Sari'\n",
    "b = 'Fitri'\n",
    "\n",
    "if umur%2 == 0:\n",
    "    if len (a)> 3:\n",
    "        print (a)\n",
    "    else:\n",
    "        print (b)\n",
    "else:\n",
    "    print ('Umurmu tidak habis dibagi 2')\n"
   ]
  },
  {
   "cell_type": "markdown",
   "metadata": {},
   "source": [
    "Iteration "
   ]
  },
  {
   "cell_type": "code",
   "execution_count": null,
   "metadata": {},
   "outputs": [],
   "source": [
    "a = 0\n",
    "while a < 10:\n",
    "    a = a +1 \n",
    "    print (a)"
   ]
  },
  {
   "cell_type": "code",
   "execution_count": null,
   "metadata": {},
   "outputs": [],
   "source": [
    "##logic print angka yang terus bertambah sebanyak 1, \n",
    "##sampai total dari nama panjang kita"
   ]
  },
  {
   "cell_type": "code",
   "execution_count": null,
   "metadata": {},
   "outputs": [],
   "source": [
    "full_name = 'Fitria Puspita Sari'\n",
    "\n",
    "a = 0\n",
    "while a < len(full_name):\n",
    "    a = a+1\n",
    "    print (a)"
   ]
  },
  {
   "cell_type": "code",
   "execution_count": null,
   "metadata": {},
   "outputs": [],
   "source": [
    "list_ukuran_baju = [10,20,25,30]\n",
    "for i in list_ukuran_baju:\n",
    "    print (i)"
   ]
  },
  {
   "cell_type": "code",
   "execution_count": null,
   "metadata": {},
   "outputs": [],
   "source": [
    "for i in range (len(list_ukuran_baju)):\n",
    "    print(list_ukuran_baju[i])"
   ]
  },
  {
   "cell_type": "code",
   "execution_count": null,
   "metadata": {},
   "outputs": [],
   "source": [
    "#case: apabila ad 2 list, print data di dalam list tersebut apabila data \n",
    "## di kedua list adalah sama, apabila berbeda \n",
    "## maka akan melakukan print nama kita sebanyak angka di dalam data yang di list pertama\n"
   ]
  },
  {
   "cell_type": "code",
   "execution_count": null,
   "metadata": {},
   "outputs": [],
   "source": [
    "list_a = [1,0,3,4]\n",
    "list_b = [5,2,7,8]\n",
    "nama = 'Fitri'\n",
    "\n",
    "for i in range (len(list_a)):\n",
    "    if list_a[i] == list_b[i]:\n",
    "        print(list_a[i])\n",
    "    else:\n",
    "        x = 0\n",
    "        while x <=list_a[i]:\n",
    "            print (nama)\n",
    "            x = x+1"
   ]
  },
  {
   "cell_type": "code",
   "execution_count": null,
   "metadata": {},
   "outputs": [],
   "source": [
    "def fungsi_print_nama(umur,a,b):\n",
    "    if umur%2 == 0:\n",
    "        if len (a)> 3:\n",
    "            print (a)\n",
    "        else:\n",
    "            print (b)\n",
    "    else:\n",
    "        print ('Umurmu tidak habis dibagi 2')"
   ]
  },
  {
   "cell_type": "code",
   "execution_count": null,
   "metadata": {},
   "outputs": [],
   "source": [
    "umur = 23\n",
    "a = 'Fitria Puspita Sari'\n",
    "b = 'Fitri'\n",
    "\n",
    "fungsi_print_nama(umur,a,b)"
   ]
  },
  {
   "cell_type": "markdown",
   "metadata": {},
   "source": [
    "16/12/2020 Function, module, and package"
   ]
  },
  {
   "cell_type": "code",
   "execution_count": null,
   "metadata": {},
   "outputs": [],
   "source": [
    "def print_str(data):\n",
    "    print(data)"
   ]
  },
  {
   "cell_type": "code",
   "execution_count": null,
   "metadata": {},
   "outputs": [],
   "source": [
    "print_str('a')\n",
    "print_str('b')"
   ]
  },
  {
   "cell_type": "code",
   "execution_count": null,
   "metadata": {},
   "outputs": [],
   "source": [
    "my_list = [10,20,30]\n",
    "coba = 'a'\n",
    "my_list.append(coba)\n",
    "print(my_list)"
   ]
  },
  {
   "cell_type": "markdown",
   "metadata": {},
   "source": [
    "case: kita membutuhkan fungsi untuk menghitung jumlah dari list A, kemudian jumlah tersebut ditambahkan kedalam umur kita"
   ]
  },
  {
   "cell_type": "code",
   "execution_count": null,
   "metadata": {},
   "outputs": [],
   "source": [
    "list_A =[10,20,30]\n",
    "umur=29\n",
    "def coba(list_A,umur):\n",
    "    for i in range (len(list_A)):\n",
    "        umur = list_A[i]+umur\n",
    "#    print (umur)\n",
    "    return umur\n",
    "\n",
    "#coba(list_A,umur)\n",
    "z = coba(list_A,umur)\n",
    "print(z)"
   ]
  },
  {
   "cell_type": "markdown",
   "metadata": {},
   "source": [
    "case: kita membuat 2 fungsi, dmana fungsi pertama adalah untuk mnegecek apakah angka itu dapat dibagi suatu angka, hasil dari fungsi tersebut adalah true atau false\n",
    "\n",
    "fungsi yang kedua adalah apabila hasil dari fungsi pertama itu adalah true, maka kita akan mempangkatkan dengan pangkat yang kita inginkan"
   ]
  },
  {
   "cell_type": "code",
   "execution_count": null,
   "metadata": {},
   "outputs": [],
   "source": [
    "def tes(angka,pembagi,pangkat):\n",
    "    if angka%pembagi == 0:\n",
    "        angka = angka**pangkat\n",
    "        print (\"Hasilnya adalah\",angka)\n",
    "    else:\n",
    "        print (\"Angkamu tidak bisa dibagi\")\n",
    "#    return angka\n",
    "\n",
    "tes(16,4,4)"
   ]
  },
  {
   "cell_type": "markdown",
   "metadata": {},
   "source": [
    "module"
   ]
  },
  {
   "cell_type": "code",
   "execution_count": null,
   "metadata": {},
   "outputs": [],
   "source": [
    "import sys"
   ]
  },
  {
   "cell_type": "code",
   "execution_count": null,
   "metadata": {},
   "outputs": [],
   "source": [
    "pip install mod"
   ]
  },
  {
   "cell_type": "code",
   "execution_count": null,
   "metadata": {},
   "outputs": [],
   "source": [
    "import mod"
   ]
  },
  {
   "cell_type": "markdown",
   "metadata": {},
   "source": [
    "case: buat module untuk \n",
    "menghitung number of data yang ada dalam suatu list \n",
    "kemudian jumlah data di list tersebut \n",
    "dikalikan dengan masing-masing data di dalam list, yang kemudian angka-angka tersebut kita jumlah\n",
    "\n",
    "a = [10,30,15]\n",
    "bila setelah dikalikan jadinya 20+60 = 80"
   ]
  },
  {
   "cell_type": "code",
   "execution_count": null,
   "metadata": {},
   "outputs": [],
   "source": [
    "import mod"
   ]
  },
  {
   "cell_type": "code",
   "execution_count": null,
   "metadata": {},
   "outputs": [],
   "source": [
    "from coba_fungsi import coba as lat3\n",
    "a = lat3([10,20,30])\n",
    "print (a)"
   ]
  },
  {
   "cell_type": "code",
   "execution_count": null,
   "metadata": {},
   "outputs": [],
   "source": [
    "from coba_fungsi import hitung_data_di_list,kalikan_angka_di_list,jumlah_data_di_list\n",
    "\n",
    "list_yang_mau_dihitung = [10,20,30]\n",
    "\n",
    "n = hitung_data_di_list(list_yang_mau_dihitung)\n",
    "list_new=kalikan_angka_di_list(list_yang_mau_dihitung,n)\n",
    "hasil_akhir = jumlah_data_di_list(list_new)\n",
    "print(hasil_akhir)"
   ]
  },
  {
   "cell_type": "markdown",
   "metadata": {},
   "source": [
    "case: buat skrip python untuk mengkalikan angka yang kita input dikalikan dengan 10"
   ]
  },
  {
   "cell_type": "markdown",
   "metadata": {},
   "source": [
    "17/12/2020 Numpy"
   ]
  },
  {
   "cell_type": "code",
   "execution_count": null,
   "metadata": {},
   "outputs": [],
   "source": [
    "import numpy as np"
   ]
  },
  {
   "cell_type": "code",
   "execution_count": null,
   "metadata": {},
   "outputs": [],
   "source": [
    "#List and array\n",
    "list = [1,2,3]\n",
    "arr = np.array([1,2,3,4]) # it has dimmension\n",
    "arr_2 = np.array([[1,2,3,4],[2,3,4,5]])\n",
    "\n",
    "print (list)\n",
    "print (arr)\n",
    "print (arr_2)\n",
    "\n",
    "print (arr.shape)\n",
    "print (arr_2.shape)"
   ]
  },
  {
   "cell_type": "markdown",
   "metadata": {},
   "source": [
    "case: buat array yang 2 dimensi dengan dimensi pertama adalah nama kita, dimensi kedua adalah nama kedua kita dan nilainya dimulai dari 0 dengan penambahan sebanyak nama ketiga kita\n",
    "\n",
    "fitria puspita sari\n",
    "(6, 7)\n",
    "([[0,4,8,16,24,32,36],[],[],[], dst]"
   ]
  },
  {
   "cell_type": "code",
   "execution_count": null,
   "metadata": {},
   "outputs": [],
   "source": [
    "import numpy as np\n",
    "\n",
    "first = len('fitria') \n",
    "second = len('puspita') \n",
    "third = len('sari') \n",
    "nama = np.zeros((first,second))\n",
    "#print(nama.shape)\n",
    "\n",
    "#First logic\n",
    "\n",
    "#for i in range (first):\n",
    "#    print (nama[i])\n",
    "#    j = 0 #ngelooping\n",
    "#    for k in range(0,third*second,third): #ini ngisi angka\n",
    "#       print (nama)\n",
    "#        nama[i][j] = np.array([k])\n",
    "#        j = j+1\n",
    "\n",
    "#Second logic \n",
    "\n",
    "for i in range (first): \n",
    "    #print (i)\n",
    "    for j in range (second): \n",
    "       # print (j)\n",
    "        nama[i] = np.arange(0,third*second,third) #awal, akhir, rentang\n",
    "print (nama)\n",
    "\n",
    "#i, j, k ==> [i],[j],[k]"
   ]
  },
  {
   "cell_type": "markdown",
   "metadata": {},
   "source": [
    "case nya ada 3 array, isinya bebas, dimesninya bebas, tiga array tersebut kita buat jadi 2 array yang isinya\n",
    "array pertama kombinasi antara array 1, 2 dimana itu dimensinya harus sama dengan dimensi yang array 1\n",
    "array yang kedua kombinasi antara array 2,3 dimana dimensi keduanya harus sama dengan array 2\n",
    "\n",
    "arr1 = [[1,2,3,4],[5,6,7,8]] --> 2x4\n",
    "arr2 = [[9,10],[11,12],[13,14]] --> 3x2\n",
    "arr3 = [[15,16,17,18]] --> 1x4\n",
    "\n",
    "arr5 --> dua dimensi [[1,23,4,9,10,11,12],[5,6,7,8,11,12,13,14]]\n",
    "arr6 [[9,10,15,16],[11,12,17,18],[13,14,17,18]]"
   ]
  },
  {
   "cell_type": "code",
   "execution_count": null,
   "metadata": {},
   "outputs": [],
   "source": [
    "#TBH Saya tidak paham dengan case-nya :(, cuman saya kerjakan sepemahaman saya aja lah ya Pak\n",
    "a = np.zeros((2,4))\n",
    "b = np.ones((3,2))\n",
    "c = np.random.random((1,4))\n",
    "\n",
    "print (a)\n",
    "print (b)\n",
    "print (c)\n",
    "\n",
    "arr1 = np.concatenate((a, b.T), axis=1)\n",
    "arr2 = np.row_stack((b,c.reshape(2,2)))\n",
    "\n",
    "print (d)\n",
    "print (arr1)\n",
    "print (arr2)\n",
    "print (arr2.shape)\n",
    "print (arr2.sum())\n",
    "print (arr2.sum(axis=0))\n",
    "\n",
    "arr1 = np.array([2,3]).reshape(2,1)\n",
    "arr2 = np.array ([[2],[3]]).reshape(1,2)\n",
    "print (arr1*arr2)"
   ]
  },
  {
   "cell_type": "markdown",
   "metadata": {},
   "source": [
    "18/12/2020 Pandas - data frame"
   ]
  },
  {
   "cell_type": "code",
   "execution_count": 2,
   "metadata": {},
   "outputs": [],
   "source": [
    "import pandas as pd\n",
    "import numpy as np"
   ]
  },
  {
   "cell_type": "code",
   "execution_count": 46,
   "metadata": {},
   "outputs": [],
   "source": [
    "df=pd.read_csv('https://raw.githubusercontent.com/ardhiraka/PFDS_sources/master/nbaallelo.csv')"
   ]
  },
  {
   "cell_type": "code",
   "execution_count": 47,
   "metadata": {},
   "outputs": [
    {
     "data": {
      "text/plain": [
       "126314"
      ]
     },
     "execution_count": 47,
     "metadata": {},
     "output_type": "execute_result"
    }
   ],
   "source": [
    "len(df)"
   ]
  },
  {
   "cell_type": "code",
   "execution_count": 48,
   "metadata": {},
   "outputs": [
    {
     "data": {
      "text/plain": [
       "(126314, 23)"
      ]
     },
     "execution_count": 48,
     "metadata": {},
     "output_type": "execute_result"
    }
   ],
   "source": [
    "df.shape"
   ]
  },
  {
   "cell_type": "code",
   "execution_count": 49,
   "metadata": {},
   "outputs": [
    {
     "data": {
      "text/html": [
       "<div>\n",
       "<style scoped>\n",
       "    .dataframe tbody tr th:only-of-type {\n",
       "        vertical-align: middle;\n",
       "    }\n",
       "\n",
       "    .dataframe tbody tr th {\n",
       "        vertical-align: top;\n",
       "    }\n",
       "\n",
       "    .dataframe thead th {\n",
       "        text-align: right;\n",
       "    }\n",
       "</style>\n",
       "<table border=\"1\" class=\"dataframe\">\n",
       "  <thead>\n",
       "    <tr style=\"text-align: right;\">\n",
       "      <th></th>\n",
       "      <th>gameorder</th>\n",
       "      <th>game_id</th>\n",
       "      <th>lg_id</th>\n",
       "      <th>_iscopy</th>\n",
       "      <th>year_id</th>\n",
       "      <th>date_game</th>\n",
       "      <th>seasongame</th>\n",
       "      <th>is_playoffs</th>\n",
       "      <th>team_id</th>\n",
       "      <th>fran_id</th>\n",
       "      <th>...</th>\n",
       "      <th>win_equiv</th>\n",
       "      <th>opp_id</th>\n",
       "      <th>opp_fran</th>\n",
       "      <th>opp_pts</th>\n",
       "      <th>opp_elo_i</th>\n",
       "      <th>opp_elo_n</th>\n",
       "      <th>game_location</th>\n",
       "      <th>game_result</th>\n",
       "      <th>forecast</th>\n",
       "      <th>notes</th>\n",
       "    </tr>\n",
       "  </thead>\n",
       "  <tbody>\n",
       "    <tr>\n",
       "      <td>0</td>\n",
       "      <td>1</td>\n",
       "      <td>194611010TRH</td>\n",
       "      <td>NBA</td>\n",
       "      <td>0</td>\n",
       "      <td>1947</td>\n",
       "      <td>11/1/1946</td>\n",
       "      <td>1</td>\n",
       "      <td>0</td>\n",
       "      <td>TRH</td>\n",
       "      <td>Huskies</td>\n",
       "      <td>...</td>\n",
       "      <td>40.294830</td>\n",
       "      <td>NYK</td>\n",
       "      <td>Knicks</td>\n",
       "      <td>68</td>\n",
       "      <td>1300.0000</td>\n",
       "      <td>1306.7233</td>\n",
       "      <td>H</td>\n",
       "      <td>L</td>\n",
       "      <td>0.640065</td>\n",
       "      <td>NaN</td>\n",
       "    </tr>\n",
       "    <tr>\n",
       "      <td>1</td>\n",
       "      <td>1</td>\n",
       "      <td>194611010TRH</td>\n",
       "      <td>NBA</td>\n",
       "      <td>1</td>\n",
       "      <td>1947</td>\n",
       "      <td>11/1/1946</td>\n",
       "      <td>1</td>\n",
       "      <td>0</td>\n",
       "      <td>NYK</td>\n",
       "      <td>Knicks</td>\n",
       "      <td>...</td>\n",
       "      <td>41.705170</td>\n",
       "      <td>TRH</td>\n",
       "      <td>Huskies</td>\n",
       "      <td>66</td>\n",
       "      <td>1300.0000</td>\n",
       "      <td>1293.2767</td>\n",
       "      <td>A</td>\n",
       "      <td>W</td>\n",
       "      <td>0.359935</td>\n",
       "      <td>NaN</td>\n",
       "    </tr>\n",
       "    <tr>\n",
       "      <td>2</td>\n",
       "      <td>2</td>\n",
       "      <td>194611020CHS</td>\n",
       "      <td>NBA</td>\n",
       "      <td>0</td>\n",
       "      <td>1947</td>\n",
       "      <td>11/2/1946</td>\n",
       "      <td>1</td>\n",
       "      <td>0</td>\n",
       "      <td>CHS</td>\n",
       "      <td>Stags</td>\n",
       "      <td>...</td>\n",
       "      <td>42.012257</td>\n",
       "      <td>NYK</td>\n",
       "      <td>Knicks</td>\n",
       "      <td>47</td>\n",
       "      <td>1306.7233</td>\n",
       "      <td>1297.0712</td>\n",
       "      <td>H</td>\n",
       "      <td>W</td>\n",
       "      <td>0.631101</td>\n",
       "      <td>NaN</td>\n",
       "    </tr>\n",
       "    <tr>\n",
       "      <td>3</td>\n",
       "      <td>2</td>\n",
       "      <td>194611020CHS</td>\n",
       "      <td>NBA</td>\n",
       "      <td>1</td>\n",
       "      <td>1947</td>\n",
       "      <td>11/2/1946</td>\n",
       "      <td>2</td>\n",
       "      <td>0</td>\n",
       "      <td>NYK</td>\n",
       "      <td>Knicks</td>\n",
       "      <td>...</td>\n",
       "      <td>40.692783</td>\n",
       "      <td>CHS</td>\n",
       "      <td>Stags</td>\n",
       "      <td>63</td>\n",
       "      <td>1300.0000</td>\n",
       "      <td>1309.6521</td>\n",
       "      <td>A</td>\n",
       "      <td>L</td>\n",
       "      <td>0.368899</td>\n",
       "      <td>NaN</td>\n",
       "    </tr>\n",
       "    <tr>\n",
       "      <td>4</td>\n",
       "      <td>3</td>\n",
       "      <td>194611020DTF</td>\n",
       "      <td>NBA</td>\n",
       "      <td>0</td>\n",
       "      <td>1947</td>\n",
       "      <td>11/2/1946</td>\n",
       "      <td>1</td>\n",
       "      <td>0</td>\n",
       "      <td>DTF</td>\n",
       "      <td>Falcons</td>\n",
       "      <td>...</td>\n",
       "      <td>38.864048</td>\n",
       "      <td>WSC</td>\n",
       "      <td>Capitols</td>\n",
       "      <td>50</td>\n",
       "      <td>1300.0000</td>\n",
       "      <td>1320.3811</td>\n",
       "      <td>H</td>\n",
       "      <td>L</td>\n",
       "      <td>0.640065</td>\n",
       "      <td>NaN</td>\n",
       "    </tr>\n",
       "  </tbody>\n",
       "</table>\n",
       "<p>5 rows × 23 columns</p>\n",
       "</div>"
      ],
      "text/plain": [
       "   gameorder       game_id lg_id  _iscopy  year_id  date_game  seasongame  \\\n",
       "0          1  194611010TRH   NBA        0     1947  11/1/1946           1   \n",
       "1          1  194611010TRH   NBA        1     1947  11/1/1946           1   \n",
       "2          2  194611020CHS   NBA        0     1947  11/2/1946           1   \n",
       "3          2  194611020CHS   NBA        1     1947  11/2/1946           2   \n",
       "4          3  194611020DTF   NBA        0     1947  11/2/1946           1   \n",
       "\n",
       "   is_playoffs team_id  fran_id  ...  win_equiv  opp_id  opp_fran  opp_pts  \\\n",
       "0            0     TRH  Huskies  ...  40.294830     NYK    Knicks       68   \n",
       "1            0     NYK   Knicks  ...  41.705170     TRH   Huskies       66   \n",
       "2            0     CHS    Stags  ...  42.012257     NYK    Knicks       47   \n",
       "3            0     NYK   Knicks  ...  40.692783     CHS     Stags       63   \n",
       "4            0     DTF  Falcons  ...  38.864048     WSC  Capitols       50   \n",
       "\n",
       "   opp_elo_i  opp_elo_n  game_location  game_result  forecast notes  \n",
       "0  1300.0000  1306.7233              H            L  0.640065   NaN  \n",
       "1  1300.0000  1293.2767              A            W  0.359935   NaN  \n",
       "2  1306.7233  1297.0712              H            W  0.631101   NaN  \n",
       "3  1300.0000  1309.6521              A            L  0.368899   NaN  \n",
       "4  1300.0000  1320.3811              H            L  0.640065   NaN  \n",
       "\n",
       "[5 rows x 23 columns]"
      ]
     },
     "execution_count": 49,
     "metadata": {},
     "output_type": "execute_result"
    }
   ],
   "source": [
    "df.head()"
   ]
  },
  {
   "cell_type": "code",
   "execution_count": 2,
   "metadata": {},
   "outputs": [
    {
     "name": "stdout",
     "output_type": "stream",
     "text": [
      "(100, 8)\n"
     ]
    }
   ],
   "source": [
    "coba=pd.read_csv('./exams.csv')\n",
    "print (coba.shape)"
   ]
  },
  {
   "cell_type": "code",
   "execution_count": 6,
   "metadata": {},
   "outputs": [
    {
     "data": {
      "text/html": [
       "<div>\n",
       "<style scoped>\n",
       "    .dataframe tbody tr th:only-of-type {\n",
       "        vertical-align: middle;\n",
       "    }\n",
       "\n",
       "    .dataframe tbody tr th {\n",
       "        vertical-align: top;\n",
       "    }\n",
       "\n",
       "    .dataframe thead th {\n",
       "        text-align: right;\n",
       "    }\n",
       "</style>\n",
       "<table border=\"1\" class=\"dataframe\">\n",
       "  <thead>\n",
       "    <tr style=\"text-align: right;\">\n",
       "      <th></th>\n",
       "      <th>gender</th>\n",
       "      <th>race/ethnicity</th>\n",
       "      <th>parental level of education</th>\n",
       "      <th>lunch</th>\n",
       "      <th>test preparation course</th>\n",
       "      <th>math score</th>\n",
       "      <th>reading score</th>\n",
       "      <th>writing score</th>\n",
       "    </tr>\n",
       "  </thead>\n",
       "  <tbody>\n",
       "    <tr>\n",
       "      <td>0</td>\n",
       "      <td>female</td>\n",
       "      <td>group B</td>\n",
       "      <td>some high school</td>\n",
       "      <td>standard</td>\n",
       "      <td>completed</td>\n",
       "      <td>56</td>\n",
       "      <td>65</td>\n",
       "      <td>64</td>\n",
       "    </tr>\n",
       "    <tr>\n",
       "      <td>1</td>\n",
       "      <td>male</td>\n",
       "      <td>group B</td>\n",
       "      <td>some high school</td>\n",
       "      <td>standard</td>\n",
       "      <td>none</td>\n",
       "      <td>65</td>\n",
       "      <td>54</td>\n",
       "      <td>54</td>\n",
       "    </tr>\n",
       "    <tr>\n",
       "      <td>2</td>\n",
       "      <td>female</td>\n",
       "      <td>group B</td>\n",
       "      <td>associate's degree</td>\n",
       "      <td>standard</td>\n",
       "      <td>completed</td>\n",
       "      <td>81</td>\n",
       "      <td>85</td>\n",
       "      <td>82</td>\n",
       "    </tr>\n",
       "    <tr>\n",
       "      <td>3</td>\n",
       "      <td>female</td>\n",
       "      <td>group C</td>\n",
       "      <td>some high school</td>\n",
       "      <td>free/reduced</td>\n",
       "      <td>completed</td>\n",
       "      <td>48</td>\n",
       "      <td>70</td>\n",
       "      <td>70</td>\n",
       "    </tr>\n",
       "    <tr>\n",
       "      <td>4</td>\n",
       "      <td>male</td>\n",
       "      <td>group D</td>\n",
       "      <td>some high school</td>\n",
       "      <td>standard</td>\n",
       "      <td>none</td>\n",
       "      <td>78</td>\n",
       "      <td>66</td>\n",
       "      <td>69</td>\n",
       "    </tr>\n",
       "    <tr>\n",
       "      <td>...</td>\n",
       "      <td>...</td>\n",
       "      <td>...</td>\n",
       "      <td>...</td>\n",
       "      <td>...</td>\n",
       "      <td>...</td>\n",
       "      <td>...</td>\n",
       "      <td>...</td>\n",
       "      <td>...</td>\n",
       "    </tr>\n",
       "    <tr>\n",
       "      <td>95</td>\n",
       "      <td>male</td>\n",
       "      <td>group E</td>\n",
       "      <td>some high school</td>\n",
       "      <td>standard</td>\n",
       "      <td>completed</td>\n",
       "      <td>59</td>\n",
       "      <td>58</td>\n",
       "      <td>54</td>\n",
       "    </tr>\n",
       "    <tr>\n",
       "      <td>96</td>\n",
       "      <td>male</td>\n",
       "      <td>group E</td>\n",
       "      <td>some college</td>\n",
       "      <td>standard</td>\n",
       "      <td>completed</td>\n",
       "      <td>66</td>\n",
       "      <td>69</td>\n",
       "      <td>64</td>\n",
       "    </tr>\n",
       "    <tr>\n",
       "      <td>97</td>\n",
       "      <td>female</td>\n",
       "      <td>group C</td>\n",
       "      <td>some high school</td>\n",
       "      <td>free/reduced</td>\n",
       "      <td>none</td>\n",
       "      <td>49</td>\n",
       "      <td>59</td>\n",
       "      <td>59</td>\n",
       "    </tr>\n",
       "    <tr>\n",
       "      <td>98</td>\n",
       "      <td>male</td>\n",
       "      <td>group C</td>\n",
       "      <td>high school</td>\n",
       "      <td>standard</td>\n",
       "      <td>none</td>\n",
       "      <td>63</td>\n",
       "      <td>55</td>\n",
       "      <td>54</td>\n",
       "    </tr>\n",
       "    <tr>\n",
       "      <td>99</td>\n",
       "      <td>female</td>\n",
       "      <td>group B</td>\n",
       "      <td>associate's degree</td>\n",
       "      <td>free/reduced</td>\n",
       "      <td>none</td>\n",
       "      <td>53</td>\n",
       "      <td>63</td>\n",
       "      <td>61</td>\n",
       "    </tr>\n",
       "  </tbody>\n",
       "</table>\n",
       "<p>100 rows × 8 columns</p>\n",
       "</div>"
      ],
      "text/plain": [
       "    gender race/ethnicity parental level of education         lunch  \\\n",
       "0   female        group B            some high school      standard   \n",
       "1     male        group B            some high school      standard   \n",
       "2   female        group B          associate's degree      standard   \n",
       "3   female        group C            some high school  free/reduced   \n",
       "4     male        group D            some high school      standard   \n",
       "..     ...            ...                         ...           ...   \n",
       "95    male        group E            some high school      standard   \n",
       "96    male        group E                some college      standard   \n",
       "97  female        group C            some high school  free/reduced   \n",
       "98    male        group C                 high school      standard   \n",
       "99  female        group B          associate's degree  free/reduced   \n",
       "\n",
       "   test preparation course  math score  reading score  writing score  \n",
       "0                completed          56             65             64  \n",
       "1                     none          65             54             54  \n",
       "2                completed          81             85             82  \n",
       "3                completed          48             70             70  \n",
       "4                     none          78             66             69  \n",
       "..                     ...         ...            ...            ...  \n",
       "95               completed          59             58             54  \n",
       "96               completed          66             69             64  \n",
       "97                    none          49             59             59  \n",
       "98                    none          63             55             54  \n",
       "99                    none          53             63             61  \n",
       "\n",
       "[100 rows x 8 columns]"
      ]
     },
     "execution_count": 6,
     "metadata": {},
     "output_type": "execute_result"
    }
   ],
   "source": [
    "coba"
   ]
  },
  {
   "cell_type": "code",
   "execution_count": null,
   "metadata": {},
   "outputs": [],
   "source": [
    "#Filtering out\n",
    "coba[coba['math score']>=70].min ()"
   ]
  },
  {
   "cell_type": "markdown",
   "metadata": {},
   "source": [
    "case: dengan data yang exams, ada berapa pelajar wanita ada berapa pria, kemudian max \n",
    "    score dari wanita itu adalah berapa dan pria max scorenya berapa?"
   ]
  },
  {
   "cell_type": "code",
   "execution_count": null,
   "metadata": {},
   "outputs": [],
   "source": [
    "coba[coba['gender']=='female']['gender'].count()"
   ]
  },
  {
   "cell_type": "code",
   "execution_count": 10,
   "metadata": {},
   "outputs": [
    {
     "data": {
      "text/plain": [
       "59"
      ]
     },
     "execution_count": 10,
     "metadata": {},
     "output_type": "execute_result"
    }
   ],
   "source": [
    "coba[coba['gender']=='male']['gender'].count()"
   ]
  },
  {
   "cell_type": "code",
   "execution_count": 9,
   "metadata": {},
   "outputs": [
    {
     "name": "stdout",
     "output_type": "stream",
     "text": [
      "96\n",
      "95\n"
     ]
    }
   ],
   "source": [
    "a = coba[coba['gender']=='female']['math score'].max()\n",
    "b = coba[coba['gender']=='male']['math score'].max()\n",
    "print (a)\n",
    "print (b)"
   ]
  },
  {
   "cell_type": "code",
   "execution_count": null,
   "metadata": {},
   "outputs": [],
   "source": [
    "apasik = coba[coba['lunch']!='standard']['reading score'].max()\n",
    "print (apasik)"
   ]
  },
  {
   "cell_type": "code",
   "execution_count": null,
   "metadata": {},
   "outputs": [],
   "source": [
    "city_expectation = pd.Series([7,9,8],index=['Wageningen','Seoul','Norman'])\n",
    "city_reality = pd.Series({'Wageningen':9,'Seoul':8,'Norman':'unknown'})\n",
    "\n",
    "city_expression=pd.DataFrame({'expectation':city_expectation,'reality':city_reality})\n",
    "\n",
    "city_expression"
   ]
  },
  {
   "cell_type": "code",
   "execution_count": null,
   "metadata": {},
   "outputs": [],
   "source": [
    "city_expectation.axes"
   ]
  },
  {
   "cell_type": "markdown",
   "metadata": {},
   "source": [
    "case - exam ubah index kelipatan 20\n",
    "case - indexnya ubah jadi gender, list all column yang tersisa"
   ]
  },
  {
   "cell_type": "code",
   "execution_count": null,
   "metadata": {},
   "outputs": [],
   "source": [
    "coba.index"
   ]
  },
  {
   "cell_type": "code",
   "execution_count": null,
   "metadata": {},
   "outputs": [],
   "source": [
    "coba=coba.set_index('gender')"
   ]
  },
  {
   "cell_type": "code",
   "execution_count": null,
   "metadata": {},
   "outputs": [],
   "source": [
    "coba"
   ]
  },
  {
   "cell_type": "markdown",
   "metadata": {},
   "source": [
    "case:\n",
    "berapa jumlah wanita yang memiliki nilai matematika antara 50 - 60 yang juga memiliki ortu sudah lulus kuliah?\n",
    "berapa jumlah pria yang dia memiliki nilai di bawah nilai minimum wanita, kemudian dijabarkan dia etnisnya di grup apa dan orang tuanya punay edukasi apa?"
   ]
  },
  {
   "cell_type": "code",
   "execution_count": 41,
   "metadata": {},
   "outputs": [
    {
     "name": "stdout",
     "output_type": "stream",
     "text": [
      "gender                         4\n",
      "race/ethnicity                 4\n",
      "parental level of education    4\n",
      "lunch                          4\n",
      "test preparation course        4\n",
      "math score                     4\n",
      "reading score                  4\n",
      "writing score                  4\n",
      "dtype: int64\n"
     ]
    }
   ],
   "source": [
    "#nomor 1 \n",
    "nomor_satu = coba[(coba[\"gender\"]=='female')\n",
    "                  &(coba['math score']>=50)\n",
    "                  &(coba['math score']<=60)\n",
    "                  &(coba['parental level of education']=='associate\\'s degree')].count()\n",
    "print (nomor_satu)"
   ]
  },
  {
   "cell_type": "code",
   "execution_count": 33,
   "metadata": {},
   "outputs": [
    {
     "name": "stdout",
     "output_type": "stream",
     "text": [
      "gender                         1\n",
      "race/ethnicity                 1\n",
      "parental level of education    1\n",
      "lunch                          1\n",
      "test preparation course        1\n",
      "math score                     1\n",
      "reading score                  1\n",
      "writing score                  1\n",
      "dtype: int64\n",
      "    gender race/ethnicity parental level of education     lunch  \\\n",
      "72  female        group D           bachelor's degree  standard   \n",
      "\n",
      "   test preparation course  math score  reading score  writing score  \n",
      "72                    none          39             45             48  \n"
     ]
    }
   ],
   "source": [
    "nomor_dua = coba[(coba[\"gender\"]=='female')\n",
    "                  &(coba['math score']<=coba[coba['gender']=='female']['math score'].min())\n",
    "                  &(coba['reading score']<=coba[coba['gender']=='female']['reading score'].min())\n",
    "                  &(coba['writing score']<=coba[coba['gender']=='female']['writing score'].min())]\n",
    "print (nomor_dua.count())\n",
    "print (nomor_dua)"
   ]
  },
  {
   "cell_type": "markdown",
   "metadata": {},
   "source": [
    "21/12/2020 Lanjutan Pandas"
   ]
  },
  {
   "cell_type": "code",
   "execution_count": 35,
   "metadata": {},
   "outputs": [
    {
     "data": {
      "text/plain": [
       "gender\n",
       "female    41\n",
       "male      59\n",
       "Name: gender, dtype: int64"
      ]
     },
     "execution_count": 35,
     "metadata": {},
     "output_type": "execute_result"
    }
   ],
   "source": [
    "coba.groupby(['gender'])['gender'].count()"
   ]
  },
  {
   "cell_type": "code",
   "execution_count": 36,
   "metadata": {},
   "outputs": [
    {
     "data": {
      "text/plain": [
       "gender\n",
       "female    96\n",
       "male      95\n",
       "Name: math score, dtype: int64"
      ]
     },
     "execution_count": 36,
     "metadata": {},
     "output_type": "execute_result"
    }
   ],
   "source": [
    "coba.groupby(['gender'])['math score'].max()"
   ]
  },
  {
   "cell_type": "code",
   "execution_count": 37,
   "metadata": {},
   "outputs": [
    {
     "data": {
      "text/plain": [
       "pandas.core.series.Series"
      ]
     },
     "execution_count": 37,
     "metadata": {},
     "output_type": "execute_result"
    }
   ],
   "source": [
    "type(coba.groupby(['gender'])['math score'].max())"
   ]
  },
  {
   "cell_type": "code",
   "execution_count": 38,
   "metadata": {},
   "outputs": [
    {
     "data": {
      "text/plain": [
       "array([96, 95])"
      ]
     },
     "execution_count": 38,
     "metadata": {},
     "output_type": "execute_result"
    }
   ],
   "source": [
    "coba.groupby(['gender'])['math score'].max().values #ngerubah jadi array"
   ]
  },
  {
   "cell_type": "code",
   "execution_count": 39,
   "metadata": {},
   "outputs": [
    {
     "data": {
      "text/plain": [
       "Index(['female', 'male'], dtype='object', name='gender')"
      ]
     },
     "execution_count": 39,
     "metadata": {},
     "output_type": "execute_result"
    }
   ],
   "source": [
    "coba.groupby(['gender'])['math score'].max().keys() #merubah jadi index"
   ]
  },
  {
   "cell_type": "code",
   "execution_count": 44,
   "metadata": {},
   "outputs": [
    {
     "name": "stdout",
     "output_type": "stream",
     "text": [
      "(100, 10)\n",
      "(100, 10)\n"
     ]
    }
   ],
   "source": [
    "print(coba.shape)\n",
    "coba['kolom_baru'] = 10\n",
    "coba['difference'] = coba['math score'] - coba['writing score']\n",
    "print (coba.shape)"
   ]
  },
  {
   "cell_type": "code",
   "execution_count": 42,
   "metadata": {},
   "outputs": [],
   "source": [
    "coba_edit = coba.copy()"
   ]
  },
  {
   "cell_type": "code",
   "execution_count": 45,
   "metadata": {},
   "outputs": [],
   "source": [
    "coba_edit.to_csv('./coba.csv')"
   ]
  },
  {
   "cell_type": "code",
   "execution_count": 50,
   "metadata": {},
   "outputs": [
    {
     "name": "stdout",
     "output_type": "stream",
     "text": [
      "<class 'pandas.core.frame.DataFrame'>\n",
      "RangeIndex: 126314 entries, 0 to 126313\n",
      "Data columns (total 23 columns):\n",
      "gameorder        126314 non-null int64\n",
      "game_id          126314 non-null object\n",
      "lg_id            126314 non-null object\n",
      "_iscopy          126314 non-null int64\n",
      "year_id          126314 non-null int64\n",
      "date_game        126314 non-null object\n",
      "seasongame       126314 non-null int64\n",
      "is_playoffs      126314 non-null int64\n",
      "team_id          126314 non-null object\n",
      "fran_id          126314 non-null object\n",
      "pts              126314 non-null int64\n",
      "elo_i            126314 non-null float64\n",
      "elo_n            126314 non-null float64\n",
      "win_equiv        126314 non-null float64\n",
      "opp_id           126314 non-null object\n",
      "opp_fran         126314 non-null object\n",
      "opp_pts          126314 non-null int64\n",
      "opp_elo_i        126314 non-null float64\n",
      "opp_elo_n        126314 non-null float64\n",
      "game_location    126314 non-null object\n",
      "game_result      126314 non-null object\n",
      "forecast         126314 non-null float64\n",
      "notes            5424 non-null object\n",
      "dtypes: float64(6), int64(7), object(10)\n",
      "memory usage: 22.2+ MB\n"
     ]
    }
   ],
   "source": [
    "df.info()"
   ]
  },
  {
   "cell_type": "code",
   "execution_count": 51,
   "metadata": {},
   "outputs": [],
   "source": [
    "df['date_game'] = pd.to_datetime(df['date_game'])"
   ]
  },
  {
   "cell_type": "code",
   "execution_count": 52,
   "metadata": {},
   "outputs": [
    {
     "name": "stdout",
     "output_type": "stream",
     "text": [
      "<class 'pandas.core.frame.DataFrame'>\n",
      "RangeIndex: 126314 entries, 0 to 126313\n",
      "Data columns (total 23 columns):\n",
      "gameorder        126314 non-null int64\n",
      "game_id          126314 non-null object\n",
      "lg_id            126314 non-null object\n",
      "_iscopy          126314 non-null int64\n",
      "year_id          126314 non-null int64\n",
      "date_game        126314 non-null datetime64[ns]\n",
      "seasongame       126314 non-null int64\n",
      "is_playoffs      126314 non-null int64\n",
      "team_id          126314 non-null object\n",
      "fran_id          126314 non-null object\n",
      "pts              126314 non-null int64\n",
      "elo_i            126314 non-null float64\n",
      "elo_n            126314 non-null float64\n",
      "win_equiv        126314 non-null float64\n",
      "opp_id           126314 non-null object\n",
      "opp_fran         126314 non-null object\n",
      "opp_pts          126314 non-null int64\n",
      "opp_elo_i        126314 non-null float64\n",
      "opp_elo_n        126314 non-null float64\n",
      "game_location    126314 non-null object\n",
      "game_result      126314 non-null object\n",
      "forecast         126314 non-null float64\n",
      "notes            5424 non-null object\n",
      "dtypes: datetime64[ns](1), float64(6), int64(7), object(9)\n",
      "memory usage: 22.2+ MB\n"
     ]
    }
   ],
   "source": [
    "df.info()"
   ]
  },
  {
   "cell_type": "code",
   "execution_count": 53,
   "metadata": {},
   "outputs": [
    {
     "data": {
      "text/plain": [
       "12426"
      ]
     },
     "execution_count": 53,
     "metadata": {},
     "output_type": "execute_result"
    }
   ],
   "source": [
    "df['date_game'].nunique()"
   ]
  },
  {
   "cell_type": "code",
   "execution_count": 54,
   "metadata": {},
   "outputs": [
    {
     "data": {
      "text/plain": [
       "2011-04-13    30\n",
       "2009-01-02    30\n",
       "2014-04-16    30\n",
       "2013-04-17    30\n",
       "2015-02-27    28\n",
       "              ..\n",
       "1997-06-08     2\n",
       "1982-12-20     2\n",
       "1973-11-01     2\n",
       "1957-11-07     2\n",
       "1970-01-01     2\n",
       "Name: date_game, Length: 12426, dtype: int64"
      ]
     },
     "execution_count": 54,
     "metadata": {},
     "output_type": "execute_result"
    }
   ],
   "source": [
    "df['date_game'].value_counts()"
   ]
  },
  {
   "cell_type": "code",
   "execution_count": 56,
   "metadata": {},
   "outputs": [
    {
     "data": {
      "text/plain": [
       "date_game\n",
       "1946-11-01    2\n",
       "1946-11-02    8\n",
       "1946-11-03    2\n",
       "1946-11-04    2\n",
       "1946-11-05    4\n",
       "             ..\n",
       "2015-06-07    2\n",
       "2015-06-09    2\n",
       "2015-06-11    2\n",
       "2015-06-14    2\n",
       "2015-06-16    2\n",
       "Name: date_game, Length: 12426, dtype: int64"
      ]
     },
     "execution_count": 56,
     "metadata": {},
     "output_type": "execute_result"
    }
   ],
   "source": [
    "df.groupby(['date_game'])['date_game'].count() #based date game"
   ]
  },
  {
   "cell_type": "code",
   "execution_count": 60,
   "metadata": {},
   "outputs": [
    {
     "data": {
      "text/plain": [
       "gameorder        126314\n",
       "game_id          126314\n",
       "lg_id            126314\n",
       "_iscopy          126314\n",
       "year_id          126314\n",
       "date_game        126314\n",
       "seasongame       126314\n",
       "is_playoffs      126314\n",
       "team_id          126314\n",
       "fran_id          126314\n",
       "pts              126314\n",
       "elo_i            126314\n",
       "elo_n            126314\n",
       "win_equiv        126314\n",
       "opp_id           126314\n",
       "opp_fran         126314\n",
       "opp_pts          126314\n",
       "opp_elo_i        126314\n",
       "opp_elo_n        126314\n",
       "game_location    126314\n",
       "game_result      126314\n",
       "forecast         126314\n",
       "notes              5424\n",
       "dtype: int64"
      ]
     },
     "execution_count": 60,
     "metadata": {},
     "output_type": "execute_result"
    }
   ],
   "source": [
    "df.notnull().sum()"
   ]
  },
  {
   "cell_type": "code",
   "execution_count": 59,
   "metadata": {},
   "outputs": [
    {
     "data": {
      "text/plain": [
       "gameorder             0\n",
       "game_id               0\n",
       "lg_id                 0\n",
       "_iscopy               0\n",
       "year_id               0\n",
       "date_game             0\n",
       "seasongame            0\n",
       "is_playoffs           0\n",
       "team_id               0\n",
       "fran_id               0\n",
       "pts                   0\n",
       "elo_i                 0\n",
       "elo_n                 0\n",
       "win_equiv             0\n",
       "opp_id                0\n",
       "opp_fran              0\n",
       "opp_pts               0\n",
       "opp_elo_i             0\n",
       "opp_elo_n             0\n",
       "game_location         0\n",
       "game_result           0\n",
       "forecast              0\n",
       "notes            120890\n",
       "dtype: int64"
      ]
     },
     "execution_count": 59,
     "metadata": {},
     "output_type": "execute_result"
    }
   ],
   "source": [
    "df.isnull().sum()"
   ]
  },
  {
   "cell_type": "code",
   "execution_count": 62,
   "metadata": {},
   "outputs": [
    {
     "data": {
      "text/plain": [
       "(5424, 23)"
      ]
     },
     "execution_count": 62,
     "metadata": {},
     "output_type": "execute_result"
    }
   ],
   "source": [
    "#menghapus kolom yang ad null-nya\n",
    "df_without_null = df.dropna()\n",
    "df_without_null.shape"
   ]
  },
  {
   "cell_type": "code",
   "execution_count": 63,
   "metadata": {},
   "outputs": [],
   "source": [
    "df_isi = df.copy()\n",
    "df[\"notes\"].fillna(\n",
    "    value=\"no totes at all\",\n",
    "    inplace=True\n",
    ")"
   ]
  },
  {
   "cell_type": "code",
   "execution_count": 66,
   "metadata": {},
   "outputs": [
    {
     "data": {
      "text/plain": [
       "gameorder        126314\n",
       "game_id          126314\n",
       "lg_id            126314\n",
       "_iscopy          126314\n",
       "year_id          126314\n",
       "date_game        126314\n",
       "seasongame       126314\n",
       "is_playoffs      126314\n",
       "team_id          126314\n",
       "fran_id          126314\n",
       "pts              126314\n",
       "elo_i            126314\n",
       "elo_n            126314\n",
       "win_equiv        126314\n",
       "opp_id           126314\n",
       "opp_fran         126314\n",
       "opp_pts          126314\n",
       "opp_elo_i        126314\n",
       "opp_elo_n        126314\n",
       "game_location    126314\n",
       "game_result      126314\n",
       "forecast         126314\n",
       "notes            126314\n",
       "dtype: int64"
      ]
     },
     "execution_count": 66,
     "metadata": {},
     "output_type": "execute_result"
    }
   ],
   "source": [
    "df_isi.isnull().count()"
   ]
  },
  {
   "cell_type": "markdown",
   "metadata": {},
   "source": [
    "Missing value need to be proceed to avoid error. Invalid value --> no make sense data --> sanity check "
   ]
  },
  {
   "cell_type": "code",
   "execution_count": 71,
   "metadata": {},
   "outputs": [
    {
     "data": {
      "text/html": [
       "<div>\n",
       "<style scoped>\n",
       "    .dataframe tbody tr th:only-of-type {\n",
       "        vertical-align: middle;\n",
       "    }\n",
       "\n",
       "    .dataframe tbody tr th {\n",
       "        vertical-align: top;\n",
       "    }\n",
       "\n",
       "    .dataframe thead th {\n",
       "        text-align: right;\n",
       "    }\n",
       "</style>\n",
       "<table border=\"1\" class=\"dataframe\">\n",
       "  <thead>\n",
       "    <tr style=\"text-align: right;\">\n",
       "      <th></th>\n",
       "      <th>gameorder</th>\n",
       "      <th>_iscopy</th>\n",
       "      <th>year_id</th>\n",
       "      <th>seasongame</th>\n",
       "      <th>is_playoffs</th>\n",
       "      <th>pts</th>\n",
       "      <th>elo_i</th>\n",
       "      <th>elo_n</th>\n",
       "      <th>win_equiv</th>\n",
       "      <th>opp_pts</th>\n",
       "      <th>opp_elo_i</th>\n",
       "      <th>opp_elo_n</th>\n",
       "      <th>forecast</th>\n",
       "    </tr>\n",
       "  </thead>\n",
       "  <tbody>\n",
       "    <tr>\n",
       "      <td>count</td>\n",
       "      <td>126314.000000</td>\n",
       "      <td>126314.000000</td>\n",
       "      <td>126314.000000</td>\n",
       "      <td>126314.000000</td>\n",
       "      <td>126314.000000</td>\n",
       "      <td>126314.000000</td>\n",
       "      <td>126314.000000</td>\n",
       "      <td>126314.000000</td>\n",
       "      <td>126314.000000</td>\n",
       "      <td>126314.000000</td>\n",
       "      <td>126314.000000</td>\n",
       "      <td>126314.000000</td>\n",
       "      <td>126314.000000</td>\n",
       "    </tr>\n",
       "    <tr>\n",
       "      <td>mean</td>\n",
       "      <td>31579.000000</td>\n",
       "      <td>0.500000</td>\n",
       "      <td>1988.200374</td>\n",
       "      <td>43.533733</td>\n",
       "      <td>0.063857</td>\n",
       "      <td>102.729982</td>\n",
       "      <td>1495.236055</td>\n",
       "      <td>1495.236055</td>\n",
       "      <td>41.707889</td>\n",
       "      <td>102.729982</td>\n",
       "      <td>1495.236055</td>\n",
       "      <td>1495.236055</td>\n",
       "      <td>0.500000</td>\n",
       "    </tr>\n",
       "    <tr>\n",
       "      <td>std</td>\n",
       "      <td>18231.927643</td>\n",
       "      <td>0.500002</td>\n",
       "      <td>17.582309</td>\n",
       "      <td>25.375178</td>\n",
       "      <td>0.244499</td>\n",
       "      <td>14.814845</td>\n",
       "      <td>112.139945</td>\n",
       "      <td>112.461687</td>\n",
       "      <td>10.627332</td>\n",
       "      <td>14.814845</td>\n",
       "      <td>112.139945</td>\n",
       "      <td>112.461687</td>\n",
       "      <td>0.215252</td>\n",
       "    </tr>\n",
       "    <tr>\n",
       "      <td>min</td>\n",
       "      <td>1.000000</td>\n",
       "      <td>0.000000</td>\n",
       "      <td>1947.000000</td>\n",
       "      <td>1.000000</td>\n",
       "      <td>0.000000</td>\n",
       "      <td>0.000000</td>\n",
       "      <td>1091.644500</td>\n",
       "      <td>1085.774400</td>\n",
       "      <td>10.152501</td>\n",
       "      <td>0.000000</td>\n",
       "      <td>1091.644500</td>\n",
       "      <td>1085.774400</td>\n",
       "      <td>0.020447</td>\n",
       "    </tr>\n",
       "    <tr>\n",
       "      <td>25%</td>\n",
       "      <td>15790.000000</td>\n",
       "      <td>0.000000</td>\n",
       "      <td>1975.000000</td>\n",
       "      <td>22.000000</td>\n",
       "      <td>0.000000</td>\n",
       "      <td>93.000000</td>\n",
       "      <td>1417.237975</td>\n",
       "      <td>1416.994900</td>\n",
       "      <td>34.103035</td>\n",
       "      <td>93.000000</td>\n",
       "      <td>1417.237975</td>\n",
       "      <td>1416.994900</td>\n",
       "      <td>0.327989</td>\n",
       "    </tr>\n",
       "    <tr>\n",
       "      <td>50%</td>\n",
       "      <td>31579.000000</td>\n",
       "      <td>0.500000</td>\n",
       "      <td>1990.000000</td>\n",
       "      <td>43.000000</td>\n",
       "      <td>0.000000</td>\n",
       "      <td>103.000000</td>\n",
       "      <td>1500.945550</td>\n",
       "      <td>1500.954400</td>\n",
       "      <td>42.113357</td>\n",
       "      <td>103.000000</td>\n",
       "      <td>1500.945550</td>\n",
       "      <td>1500.954400</td>\n",
       "      <td>0.500000</td>\n",
       "    </tr>\n",
       "    <tr>\n",
       "      <td>75%</td>\n",
       "      <td>47368.000000</td>\n",
       "      <td>1.000000</td>\n",
       "      <td>2003.000000</td>\n",
       "      <td>65.000000</td>\n",
       "      <td>0.000000</td>\n",
       "      <td>112.000000</td>\n",
       "      <td>1576.060000</td>\n",
       "      <td>1576.291625</td>\n",
       "      <td>49.635328</td>\n",
       "      <td>112.000000</td>\n",
       "      <td>1576.060000</td>\n",
       "      <td>1576.291625</td>\n",
       "      <td>0.672011</td>\n",
       "    </tr>\n",
       "    <tr>\n",
       "      <td>max</td>\n",
       "      <td>63157.000000</td>\n",
       "      <td>1.000000</td>\n",
       "      <td>2015.000000</td>\n",
       "      <td>108.000000</td>\n",
       "      <td>1.000000</td>\n",
       "      <td>186.000000</td>\n",
       "      <td>1853.104500</td>\n",
       "      <td>1853.104500</td>\n",
       "      <td>71.112038</td>\n",
       "      <td>186.000000</td>\n",
       "      <td>1853.104500</td>\n",
       "      <td>1853.104500</td>\n",
       "      <td>0.979553</td>\n",
       "    </tr>\n",
       "  </tbody>\n",
       "</table>\n",
       "</div>"
      ],
      "text/plain": [
       "           gameorder        _iscopy        year_id     seasongame  \\\n",
       "count  126314.000000  126314.000000  126314.000000  126314.000000   \n",
       "mean    31579.000000       0.500000    1988.200374      43.533733   \n",
       "std     18231.927643       0.500002      17.582309      25.375178   \n",
       "min         1.000000       0.000000    1947.000000       1.000000   \n",
       "25%     15790.000000       0.000000    1975.000000      22.000000   \n",
       "50%     31579.000000       0.500000    1990.000000      43.000000   \n",
       "75%     47368.000000       1.000000    2003.000000      65.000000   \n",
       "max     63157.000000       1.000000    2015.000000     108.000000   \n",
       "\n",
       "         is_playoffs            pts          elo_i          elo_n  \\\n",
       "count  126314.000000  126314.000000  126314.000000  126314.000000   \n",
       "mean        0.063857     102.729982    1495.236055    1495.236055   \n",
       "std         0.244499      14.814845     112.139945     112.461687   \n",
       "min         0.000000       0.000000    1091.644500    1085.774400   \n",
       "25%         0.000000      93.000000    1417.237975    1416.994900   \n",
       "50%         0.000000     103.000000    1500.945550    1500.954400   \n",
       "75%         0.000000     112.000000    1576.060000    1576.291625   \n",
       "max         1.000000     186.000000    1853.104500    1853.104500   \n",
       "\n",
       "           win_equiv        opp_pts      opp_elo_i      opp_elo_n  \\\n",
       "count  126314.000000  126314.000000  126314.000000  126314.000000   \n",
       "mean       41.707889     102.729982    1495.236055    1495.236055   \n",
       "std        10.627332      14.814845     112.139945     112.461687   \n",
       "min        10.152501       0.000000    1091.644500    1085.774400   \n",
       "25%        34.103035      93.000000    1417.237975    1416.994900   \n",
       "50%        42.113357     103.000000    1500.945550    1500.954400   \n",
       "75%        49.635328     112.000000    1576.060000    1576.291625   \n",
       "max        71.112038     186.000000    1853.104500    1853.104500   \n",
       "\n",
       "            forecast  \n",
       "count  126314.000000  \n",
       "mean        0.500000  \n",
       "std         0.215252  \n",
       "min         0.020447  \n",
       "25%         0.327989  \n",
       "50%         0.500000  \n",
       "75%         0.672011  \n",
       "max         0.979553  "
      ]
     },
     "execution_count": 71,
     "metadata": {},
     "output_type": "execute_result"
    }
   ],
   "source": [
    "df.describe()"
   ]
  },
  {
   "cell_type": "code",
   "execution_count": 73,
   "metadata": {},
   "outputs": [],
   "source": [
    "%matplotlib inline"
   ]
  },
  {
   "cell_type": "code",
   "execution_count": 81,
   "metadata": {},
   "outputs": [
    {
     "data": {
      "text/plain": [
       "<matplotlib.axes._subplots.AxesSubplot at 0x1141d0250>"
      ]
     },
     "execution_count": 81,
     "metadata": {},
     "output_type": "execute_result"
    },
    {
     "data": {
      "image/png": "[encoded data removed]",
      "text/plain": [
       "<Figure size 432x288 with 1 Axes>"
      ]
     },
     "metadata": {
      "needs_background": "light"
     },
     "output_type": "display_data"
    }
   ],
   "source": [
    "df_isi[(df_isi['date_game']>='2010-01-01')].groupby(['date_game'])['date_game'].count().plot(kind='bar')"
   ]
  },
  {
   "cell_type": "markdown",
   "metadata": {},
   "source": [
    "case:\n",
    "coba cex exam data itu ada missing atau tidak, ada invalid atau tidak, ada inconsistent atau tidak\n",
    "coba buat pir chart untuk jumlah gender dan jumlah per parental education"
   ]
  },
  {
   "cell_type": "code",
   "execution_count": 83,
   "metadata": {},
   "outputs": [
    {
     "data": {
      "text/plain": [
       "gender                         0\n",
       "race/ethnicity                 0\n",
       "parental level of education    0\n",
       "lunch                          0\n",
       "test preparation course        0\n",
       "math score                     0\n",
       "reading score                  0\n",
       "writing score                  0\n",
       "kolom_baru                     0\n",
       "difference                     0\n",
       "dtype: int64"
      ]
     },
     "execution_count": 83,
     "metadata": {},
     "output_type": "execute_result"
    }
   ],
   "source": [
    "coba.isnull().sum()"
   ]
  },
  {
   "cell_type": "code",
   "execution_count": 84,
   "metadata": {},
   "outputs": [
    {
     "data": {
      "text/html": [
       "<div>\n",
       "<style scoped>\n",
       "    .dataframe tbody tr th:only-of-type {\n",
       "        vertical-align: middle;\n",
       "    }\n",
       "\n",
       "    .dataframe tbody tr th {\n",
       "        vertical-align: top;\n",
       "    }\n",
       "\n",
       "    .dataframe thead th {\n",
       "        text-align: right;\n",
       "    }\n",
       "</style>\n",
       "<table border=\"1\" class=\"dataframe\">\n",
       "  <thead>\n",
       "    <tr style=\"text-align: right;\">\n",
       "      <th></th>\n",
       "      <th>math score</th>\n",
       "      <th>reading score</th>\n",
       "      <th>writing score</th>\n",
       "      <th>kolom_baru</th>\n",
       "      <th>difference</th>\n",
       "    </tr>\n",
       "  </thead>\n",
       "  <tbody>\n",
       "    <tr>\n",
       "      <td>count</td>\n",
       "      <td>100.000000</td>\n",
       "      <td>100.000000</td>\n",
       "      <td>100.000000</td>\n",
       "      <td>100.0</td>\n",
       "      <td>100.000000</td>\n",
       "    </tr>\n",
       "    <tr>\n",
       "      <td>mean</td>\n",
       "      <td>65.750000</td>\n",
       "      <td>67.060000</td>\n",
       "      <td>66.190000</td>\n",
       "      <td>10.0</td>\n",
       "      <td>-0.440000</td>\n",
       "    </tr>\n",
       "    <tr>\n",
       "      <td>std</td>\n",
       "      <td>14.338177</td>\n",
       "      <td>14.699564</td>\n",
       "      <td>15.063968</td>\n",
       "      <td>0.0</td>\n",
       "      <td>8.466595</td>\n",
       "    </tr>\n",
       "    <tr>\n",
       "      <td>min</td>\n",
       "      <td>30.000000</td>\n",
       "      <td>25.000000</td>\n",
       "      <td>22.000000</td>\n",
       "      <td>10.0</td>\n",
       "      <td>-22.000000</td>\n",
       "    </tr>\n",
       "    <tr>\n",
       "      <td>25%</td>\n",
       "      <td>56.000000</td>\n",
       "      <td>57.750000</td>\n",
       "      <td>54.000000</td>\n",
       "      <td>10.0</td>\n",
       "      <td>-8.000000</td>\n",
       "    </tr>\n",
       "    <tr>\n",
       "      <td>50%</td>\n",
       "      <td>66.500000</td>\n",
       "      <td>68.000000</td>\n",
       "      <td>67.500000</td>\n",
       "      <td>10.0</td>\n",
       "      <td>1.500000</td>\n",
       "    </tr>\n",
       "    <tr>\n",
       "      <td>75%</td>\n",
       "      <td>76.250000</td>\n",
       "      <td>79.000000</td>\n",
       "      <td>78.000000</td>\n",
       "      <td>10.0</td>\n",
       "      <td>6.000000</td>\n",
       "    </tr>\n",
       "    <tr>\n",
       "      <td>max</td>\n",
       "      <td>96.000000</td>\n",
       "      <td>95.000000</td>\n",
       "      <td>99.000000</td>\n",
       "      <td>10.0</td>\n",
       "      <td>14.000000</td>\n",
       "    </tr>\n",
       "  </tbody>\n",
       "</table>\n",
       "</div>"
      ],
      "text/plain": [
       "       math score  reading score  writing score  kolom_baru  difference\n",
       "count  100.000000     100.000000     100.000000       100.0  100.000000\n",
       "mean    65.750000      67.060000      66.190000        10.0   -0.440000\n",
       "std     14.338177      14.699564      15.063968         0.0    8.466595\n",
       "min     30.000000      25.000000      22.000000        10.0  -22.000000\n",
       "25%     56.000000      57.750000      54.000000        10.0   -8.000000\n",
       "50%     66.500000      68.000000      67.500000        10.0    1.500000\n",
       "75%     76.250000      79.000000      78.000000        10.0    6.000000\n",
       "max     96.000000      95.000000      99.000000        10.0   14.000000"
      ]
     },
     "execution_count": 84,
     "metadata": {},
     "output_type": "execute_result"
    }
   ],
   "source": [
    "coba.describe()"
   ]
  },
  {
   "cell_type": "code",
   "execution_count": 36,
   "metadata": {},
   "outputs": [],
   "source": [
    "import matplotlib.pyplot as plt"
   ]
  },
  {
   "cell_type": "code",
   "execution_count": 117,
   "metadata": {},
   "outputs": [
    {
     "data": {
      "text/plain": [
       "<matplotlib.axes._subplots.AxesSubplot at 0x1183f51d0>"
      ]
     },
     "execution_count": 117,
     "metadata": {},
     "output_type": "execute_result"
    },
    {
     "data": {
      "image/png": "[encoded data removed]",
      "text/plain": [
       "<Figure size 432x288 with 1 Axes>"
      ]
     },
     "metadata": {},
     "output_type": "display_data"
    }
   ],
   "source": [
    "coba['gender'].value_counts().plot(kind='pie', autopct='%1.1f%%', radius =1)"
   ]
  },
  {
   "cell_type": "code",
   "execution_count": 106,
   "metadata": {},
   "outputs": [
    {
     "data": {
      "text/plain": [
       "<matplotlib.axes._subplots.AxesSubplot at 0x11838e690>"
      ]
     },
     "execution_count": 106,
     "metadata": {},
     "output_type": "execute_result"
    },
    {
     "data": {
      "image/png": "[encoded data removed]",
      "text/plain": [
       "<Figure size 432x288 with 1 Axes>"
      ]
     },
     "metadata": {},
     "output_type": "display_data"
    }
   ],
   "source": [
    "coba['parental level of education'].value_counts().plot(kind='pie', autopct='%1.1f%%')"
   ]
  },
  {
   "cell_type": "code",
   "execution_count": 109,
   "metadata": {},
   "outputs": [],
   "source": [
    "tes=pd.read_csv('https://raw.githubusercontent.com/ardhiraka/PFDS_sources/master/property_data.csv')"
   ]
  },
  {
   "cell_type": "code",
   "execution_count": 118,
   "metadata": {},
   "outputs": [
    {
     "data": {
      "text/html": [
       "<div>\n",
       "<style scoped>\n",
       "    .dataframe tbody tr th:only-of-type {\n",
       "        vertical-align: middle;\n",
       "    }\n",
       "\n",
       "    .dataframe tbody tr th {\n",
       "        vertical-align: top;\n",
       "    }\n",
       "\n",
       "    .dataframe thead th {\n",
       "        text-align: right;\n",
       "    }\n",
       "</style>\n",
       "<table border=\"1\" class=\"dataframe\">\n",
       "  <thead>\n",
       "    <tr style=\"text-align: right;\">\n",
       "      <th></th>\n",
       "      <th>PID</th>\n",
       "      <th>ST_NUM</th>\n",
       "      <th>ST_NAME</th>\n",
       "      <th>OWN_OCCUPIED</th>\n",
       "      <th>NUM_BEDROOMS</th>\n",
       "      <th>NUM_BATH</th>\n",
       "      <th>SQ_FT</th>\n",
       "    </tr>\n",
       "  </thead>\n",
       "  <tbody>\n",
       "    <tr>\n",
       "      <td>0</td>\n",
       "      <td>100001000.0</td>\n",
       "      <td>104.0</td>\n",
       "      <td>PUTNAM</td>\n",
       "      <td>Y</td>\n",
       "      <td>3</td>\n",
       "      <td>1</td>\n",
       "      <td>1000</td>\n",
       "    </tr>\n",
       "    <tr>\n",
       "      <td>1</td>\n",
       "      <td>100002000.0</td>\n",
       "      <td>197.0</td>\n",
       "      <td>LEXINGTON</td>\n",
       "      <td>N</td>\n",
       "      <td>3</td>\n",
       "      <td>1.5</td>\n",
       "      <td>--</td>\n",
       "    </tr>\n",
       "    <tr>\n",
       "      <td>2</td>\n",
       "      <td>100003000.0</td>\n",
       "      <td>NaN</td>\n",
       "      <td>LEXINGTON</td>\n",
       "      <td>N</td>\n",
       "      <td>NaN</td>\n",
       "      <td>1</td>\n",
       "      <td>850</td>\n",
       "    </tr>\n",
       "    <tr>\n",
       "      <td>3</td>\n",
       "      <td>100004000.0</td>\n",
       "      <td>201.0</td>\n",
       "      <td>BERKELEY</td>\n",
       "      <td>12</td>\n",
       "      <td>1</td>\n",
       "      <td>NaN</td>\n",
       "      <td>700</td>\n",
       "    </tr>\n",
       "    <tr>\n",
       "      <td>4</td>\n",
       "      <td>NaN</td>\n",
       "      <td>203.0</td>\n",
       "      <td>BERKELEY</td>\n",
       "      <td>Y</td>\n",
       "      <td>3</td>\n",
       "      <td>2</td>\n",
       "      <td>1600</td>\n",
       "    </tr>\n",
       "    <tr>\n",
       "      <td>5</td>\n",
       "      <td>100006000.0</td>\n",
       "      <td>207.0</td>\n",
       "      <td>BERKELEY</td>\n",
       "      <td>Y</td>\n",
       "      <td>NaN</td>\n",
       "      <td>1</td>\n",
       "      <td>800</td>\n",
       "    </tr>\n",
       "    <tr>\n",
       "      <td>6</td>\n",
       "      <td>100007000.0</td>\n",
       "      <td>NaN</td>\n",
       "      <td>WASHINGTON</td>\n",
       "      <td>NaN</td>\n",
       "      <td>2</td>\n",
       "      <td>HURLEY</td>\n",
       "      <td>950</td>\n",
       "    </tr>\n",
       "    <tr>\n",
       "      <td>7</td>\n",
       "      <td>100008000.0</td>\n",
       "      <td>213.0</td>\n",
       "      <td>TREMONT</td>\n",
       "      <td>Y</td>\n",
       "      <td>--</td>\n",
       "      <td>1</td>\n",
       "      <td>NaN</td>\n",
       "    </tr>\n",
       "    <tr>\n",
       "      <td>8</td>\n",
       "      <td>100009000.0</td>\n",
       "      <td>215.0</td>\n",
       "      <td>TREMONT</td>\n",
       "      <td>Y</td>\n",
       "      <td>na</td>\n",
       "      <td>2</td>\n",
       "      <td>1800</td>\n",
       "    </tr>\n",
       "  </tbody>\n",
       "</table>\n",
       "</div>"
      ],
      "text/plain": [
       "           PID  ST_NUM     ST_NAME OWN_OCCUPIED NUM_BEDROOMS NUM_BATH SQ_FT\n",
       "0  100001000.0   104.0      PUTNAM            Y            3        1  1000\n",
       "1  100002000.0   197.0   LEXINGTON            N            3      1.5    --\n",
       "2  100003000.0     NaN   LEXINGTON            N          NaN        1   850\n",
       "3  100004000.0   201.0    BERKELEY           12            1      NaN   700\n",
       "4          NaN   203.0    BERKELEY            Y            3        2  1600\n",
       "5  100006000.0   207.0    BERKELEY            Y          NaN        1   800\n",
       "6  100007000.0     NaN  WASHINGTON          NaN            2   HURLEY   950\n",
       "7  100008000.0   213.0     TREMONT            Y           --        1   NaN\n",
       "8  100009000.0   215.0     TREMONT            Y           na        2  1800"
      ]
     },
     "execution_count": 118,
     "metadata": {},
     "output_type": "execute_result"
    }
   ],
   "source": [
    "tes.head(10)\n",
    "#12 pada OWN_OCCUPIED aneh"
   ]
  },
  {
   "cell_type": "code",
   "execution_count": 114,
   "metadata": {},
   "outputs": [
    {
     "data": {
      "text/plain": [
       "PID             1\n",
       "ST_NUM          2\n",
       "ST_NAME         0\n",
       "OWN_OCCUPIED    1\n",
       "NUM_BEDROOMS    2\n",
       "NUM_BATH        1\n",
       "SQ_FT           1\n",
       "dtype: int64"
      ]
     },
     "execution_count": 114,
     "metadata": {},
     "output_type": "execute_result"
    }
   ],
   "source": [
    "tes.isnull().sum()\n",
    "#True isnull berarti ada data yang null --> missing value"
   ]
  },
  {
   "cell_type": "code",
   "execution_count": 115,
   "metadata": {},
   "outputs": [
    {
     "name": "stdout",
     "output_type": "stream",
     "text": [
      "<class 'pandas.core.frame.DataFrame'>\n",
      "RangeIndex: 9 entries, 0 to 8\n",
      "Data columns (total 7 columns):\n",
      "PID             8 non-null float64\n",
      "ST_NUM          7 non-null float64\n",
      "ST_NAME         9 non-null object\n",
      "OWN_OCCUPIED    8 non-null object\n",
      "NUM_BEDROOMS    7 non-null object\n",
      "NUM_BATH        8 non-null object\n",
      "SQ_FT           8 non-null object\n",
      "dtypes: float64(2), object(5)\n",
      "memory usage: 632.0+ bytes\n"
     ]
    }
   ],
   "source": [
    "tes.info()"
   ]
  },
  {
   "cell_type": "code",
   "execution_count": 4,
   "metadata": {},
   "outputs": [],
   "source": [
    "missing_values = ('n/a','na','--') #mengetahui missing value yang isinya tidak jelas --> bukan nan bukan null"
   ]
  },
  {
   "cell_type": "code",
   "execution_count": 5,
   "metadata": {},
   "outputs": [],
   "source": [
    "tess=pd.read_csv('https://raw.githubusercontent.com/ardhiraka/PFDS_sources/master/property_data.csv',na_values=missing_values)"
   ]
  },
  {
   "cell_type": "code",
   "execution_count": 156,
   "metadata": {},
   "outputs": [
    {
     "data": {
      "text/html": [
       "<div>\n",
       "<style scoped>\n",
       "    .dataframe tbody tr th:only-of-type {\n",
       "        vertical-align: middle;\n",
       "    }\n",
       "\n",
       "    .dataframe tbody tr th {\n",
       "        vertical-align: top;\n",
       "    }\n",
       "\n",
       "    .dataframe thead th {\n",
       "        text-align: right;\n",
       "    }\n",
       "</style>\n",
       "<table border=\"1\" class=\"dataframe\">\n",
       "  <thead>\n",
       "    <tr style=\"text-align: right;\">\n",
       "      <th></th>\n",
       "      <th>PID</th>\n",
       "      <th>ST_NUM</th>\n",
       "      <th>ST_NAME</th>\n",
       "      <th>OWN_OCCUPIED</th>\n",
       "      <th>NUM_BEDROOMS</th>\n",
       "      <th>NUM_BATH</th>\n",
       "      <th>SQ_FT</th>\n",
       "    </tr>\n",
       "  </thead>\n",
       "  <tbody>\n",
       "    <tr>\n",
       "      <td>0</td>\n",
       "      <td>False</td>\n",
       "      <td>False</td>\n",
       "      <td>False</td>\n",
       "      <td>False</td>\n",
       "      <td>False</td>\n",
       "      <td>False</td>\n",
       "      <td>False</td>\n",
       "    </tr>\n",
       "    <tr>\n",
       "      <td>1</td>\n",
       "      <td>False</td>\n",
       "      <td>False</td>\n",
       "      <td>False</td>\n",
       "      <td>False</td>\n",
       "      <td>False</td>\n",
       "      <td>False</td>\n",
       "      <td>True</td>\n",
       "    </tr>\n",
       "    <tr>\n",
       "      <td>2</td>\n",
       "      <td>False</td>\n",
       "      <td>True</td>\n",
       "      <td>False</td>\n",
       "      <td>False</td>\n",
       "      <td>True</td>\n",
       "      <td>False</td>\n",
       "      <td>False</td>\n",
       "    </tr>\n",
       "    <tr>\n",
       "      <td>3</td>\n",
       "      <td>False</td>\n",
       "      <td>False</td>\n",
       "      <td>False</td>\n",
       "      <td>False</td>\n",
       "      <td>False</td>\n",
       "      <td>True</td>\n",
       "      <td>False</td>\n",
       "    </tr>\n",
       "    <tr>\n",
       "      <td>4</td>\n",
       "      <td>True</td>\n",
       "      <td>False</td>\n",
       "      <td>False</td>\n",
       "      <td>False</td>\n",
       "      <td>False</td>\n",
       "      <td>False</td>\n",
       "      <td>False</td>\n",
       "    </tr>\n",
       "    <tr>\n",
       "      <td>5</td>\n",
       "      <td>False</td>\n",
       "      <td>False</td>\n",
       "      <td>False</td>\n",
       "      <td>False</td>\n",
       "      <td>True</td>\n",
       "      <td>False</td>\n",
       "      <td>False</td>\n",
       "    </tr>\n",
       "    <tr>\n",
       "      <td>6</td>\n",
       "      <td>False</td>\n",
       "      <td>True</td>\n",
       "      <td>False</td>\n",
       "      <td>True</td>\n",
       "      <td>False</td>\n",
       "      <td>False</td>\n",
       "      <td>False</td>\n",
       "    </tr>\n",
       "    <tr>\n",
       "      <td>7</td>\n",
       "      <td>False</td>\n",
       "      <td>False</td>\n",
       "      <td>False</td>\n",
       "      <td>False</td>\n",
       "      <td>True</td>\n",
       "      <td>False</td>\n",
       "      <td>True</td>\n",
       "    </tr>\n",
       "    <tr>\n",
       "      <td>8</td>\n",
       "      <td>False</td>\n",
       "      <td>False</td>\n",
       "      <td>False</td>\n",
       "      <td>False</td>\n",
       "      <td>True</td>\n",
       "      <td>False</td>\n",
       "      <td>False</td>\n",
       "    </tr>\n",
       "  </tbody>\n",
       "</table>\n",
       "</div>"
      ],
      "text/plain": [
       "     PID  ST_NUM  ST_NAME  OWN_OCCUPIED  NUM_BEDROOMS  NUM_BATH  SQ_FT\n",
       "0  False   False    False         False         False     False  False\n",
       "1  False   False    False         False         False     False   True\n",
       "2  False    True    False         False          True     False  False\n",
       "3  False   False    False         False         False      True  False\n",
       "4   True   False    False         False         False     False  False\n",
       "5  False   False    False         False          True     False  False\n",
       "6  False    True    False          True         False     False  False\n",
       "7  False   False    False         False          True     False   True\n",
       "8  False   False    False         False          True     False  False"
      ]
     },
     "execution_count": 156,
     "metadata": {},
     "output_type": "execute_result"
    }
   ],
   "source": [
    "tess.isnull()"
   ]
  },
  {
   "cell_type": "code",
   "execution_count": 157,
   "metadata": {},
   "outputs": [
    {
     "data": {
      "text/plain": [
       "0    False\n",
       "1    False\n",
       "2    False\n",
       "3    False\n",
       "4    False\n",
       "5    False\n",
       "6     True\n",
       "7    False\n",
       "8    False\n",
       "Name: OWN_OCCUPIED, dtype: bool"
      ]
     },
     "execution_count": 157,
     "metadata": {},
     "output_type": "execute_result"
    }
   ],
   "source": [
    "tess['OWN_OCCUPIED'].isnull()"
   ]
  },
  {
   "cell_type": "code",
   "execution_count": 158,
   "metadata": {},
   "outputs": [],
   "source": [
    "#data yang tidak sesuai type \n",
    "#pada kolom string ada integer\n",
    "cnt=0\n",
    "for row in tess['OWN_OCCUPIED']:\n",
    "    try:\n",
    "        int(row)\n",
    "        tess.loc[cnt,'OWN_OCCUPIED']=np.nan\n",
    "    except ValueError:\n",
    "        pass\n",
    "    cnt+=1"
   ]
  },
  {
   "cell_type": "code",
   "execution_count": 159,
   "metadata": {},
   "outputs": [
    {
     "data": {
      "text/html": [
       "<div>\n",
       "<style scoped>\n",
       "    .dataframe tbody tr th:only-of-type {\n",
       "        vertical-align: middle;\n",
       "    }\n",
       "\n",
       "    .dataframe tbody tr th {\n",
       "        vertical-align: top;\n",
       "    }\n",
       "\n",
       "    .dataframe thead th {\n",
       "        text-align: right;\n",
       "    }\n",
       "</style>\n",
       "<table border=\"1\" class=\"dataframe\">\n",
       "  <thead>\n",
       "    <tr style=\"text-align: right;\">\n",
       "      <th></th>\n",
       "      <th>PID</th>\n",
       "      <th>ST_NUM</th>\n",
       "      <th>ST_NAME</th>\n",
       "      <th>OWN_OCCUPIED</th>\n",
       "      <th>NUM_BEDROOMS</th>\n",
       "      <th>NUM_BATH</th>\n",
       "      <th>SQ_FT</th>\n",
       "    </tr>\n",
       "  </thead>\n",
       "  <tbody>\n",
       "    <tr>\n",
       "      <td>0</td>\n",
       "      <td>100001000.0</td>\n",
       "      <td>104.0</td>\n",
       "      <td>PUTNAM</td>\n",
       "      <td>Y</td>\n",
       "      <td>3.0</td>\n",
       "      <td>1</td>\n",
       "      <td>1000.0</td>\n",
       "    </tr>\n",
       "    <tr>\n",
       "      <td>1</td>\n",
       "      <td>100002000.0</td>\n",
       "      <td>197.0</td>\n",
       "      <td>LEXINGTON</td>\n",
       "      <td>N</td>\n",
       "      <td>3.0</td>\n",
       "      <td>1.5</td>\n",
       "      <td>NaN</td>\n",
       "    </tr>\n",
       "    <tr>\n",
       "      <td>2</td>\n",
       "      <td>100003000.0</td>\n",
       "      <td>NaN</td>\n",
       "      <td>LEXINGTON</td>\n",
       "      <td>N</td>\n",
       "      <td>NaN</td>\n",
       "      <td>1</td>\n",
       "      <td>850.0</td>\n",
       "    </tr>\n",
       "    <tr>\n",
       "      <td>3</td>\n",
       "      <td>100004000.0</td>\n",
       "      <td>201.0</td>\n",
       "      <td>BERKELEY</td>\n",
       "      <td>NaN</td>\n",
       "      <td>1.0</td>\n",
       "      <td>NaN</td>\n",
       "      <td>700.0</td>\n",
       "    </tr>\n",
       "    <tr>\n",
       "      <td>4</td>\n",
       "      <td>NaN</td>\n",
       "      <td>203.0</td>\n",
       "      <td>BERKELEY</td>\n",
       "      <td>Y</td>\n",
       "      <td>3.0</td>\n",
       "      <td>2</td>\n",
       "      <td>1600.0</td>\n",
       "    </tr>\n",
       "    <tr>\n",
       "      <td>5</td>\n",
       "      <td>100006000.0</td>\n",
       "      <td>207.0</td>\n",
       "      <td>BERKELEY</td>\n",
       "      <td>Y</td>\n",
       "      <td>NaN</td>\n",
       "      <td>1</td>\n",
       "      <td>800.0</td>\n",
       "    </tr>\n",
       "    <tr>\n",
       "      <td>6</td>\n",
       "      <td>100007000.0</td>\n",
       "      <td>NaN</td>\n",
       "      <td>WASHINGTON</td>\n",
       "      <td>NaN</td>\n",
       "      <td>2.0</td>\n",
       "      <td>HURLEY</td>\n",
       "      <td>950.0</td>\n",
       "    </tr>\n",
       "    <tr>\n",
       "      <td>7</td>\n",
       "      <td>100008000.0</td>\n",
       "      <td>213.0</td>\n",
       "      <td>TREMONT</td>\n",
       "      <td>Y</td>\n",
       "      <td>NaN</td>\n",
       "      <td>1</td>\n",
       "      <td>NaN</td>\n",
       "    </tr>\n",
       "    <tr>\n",
       "      <td>8</td>\n",
       "      <td>100009000.0</td>\n",
       "      <td>215.0</td>\n",
       "      <td>TREMONT</td>\n",
       "      <td>Y</td>\n",
       "      <td>NaN</td>\n",
       "      <td>2</td>\n",
       "      <td>1800.0</td>\n",
       "    </tr>\n",
       "  </tbody>\n",
       "</table>\n",
       "</div>"
      ],
      "text/plain": [
       "           PID  ST_NUM     ST_NAME OWN_OCCUPIED  NUM_BEDROOMS NUM_BATH   SQ_FT\n",
       "0  100001000.0   104.0      PUTNAM            Y           3.0        1  1000.0\n",
       "1  100002000.0   197.0   LEXINGTON            N           3.0      1.5     NaN\n",
       "2  100003000.0     NaN   LEXINGTON            N           NaN        1   850.0\n",
       "3  100004000.0   201.0    BERKELEY          NaN           1.0      NaN   700.0\n",
       "4          NaN   203.0    BERKELEY            Y           3.0        2  1600.0\n",
       "5  100006000.0   207.0    BERKELEY            Y           NaN        1   800.0\n",
       "6  100007000.0     NaN  WASHINGTON          NaN           2.0   HURLEY   950.0\n",
       "7  100008000.0   213.0     TREMONT            Y           NaN        1     NaN\n",
       "8  100009000.0   215.0     TREMONT            Y           NaN        2  1800.0"
      ]
     },
     "execution_count": 159,
     "metadata": {},
     "output_type": "execute_result"
    }
   ],
   "source": [
    "tess.head(9)"
   ]
  },
  {
   "cell_type": "code",
   "execution_count": 160,
   "metadata": {},
   "outputs": [
    {
     "data": {
      "text/plain": [
       "0    False\n",
       "1    False\n",
       "2    False\n",
       "3     True\n",
       "4    False\n",
       "5    False\n",
       "6    False\n",
       "7    False\n",
       "8    False\n",
       "Name: NUM_BATH, dtype: bool"
      ]
     },
     "execution_count": 160,
     "metadata": {},
     "output_type": "execute_result"
    }
   ],
   "source": [
    "tess['NUM_BATH'].isnull()"
   ]
  },
  {
   "cell_type": "code",
   "execution_count": 162,
   "metadata": {},
   "outputs": [],
   "source": [
    "a=0\n",
    "for row in tess['NUM_BATH']:\n",
    "    try:\n",
    "        int(row)\n",
    "    except ValueError:\n",
    "        tess.loc[a,'NUM_BATH']=np.nan #loc --> baca suatu rows membaca indexnya, iloc numbernya\n",
    "    a+=1"
   ]
  },
  {
   "cell_type": "code",
   "execution_count": 10,
   "metadata": {},
   "outputs": [
    {
     "data": {
      "text/html": [
       "<div>\n",
       "<style scoped>\n",
       "    .dataframe tbody tr th:only-of-type {\n",
       "        vertical-align: middle;\n",
       "    }\n",
       "\n",
       "    .dataframe tbody tr th {\n",
       "        vertical-align: top;\n",
       "    }\n",
       "\n",
       "    .dataframe thead th {\n",
       "        text-align: right;\n",
       "    }\n",
       "</style>\n",
       "<table border=\"1\" class=\"dataframe\">\n",
       "  <thead>\n",
       "    <tr style=\"text-align: right;\">\n",
       "      <th></th>\n",
       "      <th>PID</th>\n",
       "      <th>ST_NUM</th>\n",
       "      <th>ST_NAME</th>\n",
       "      <th>OWN_OCCUPIED</th>\n",
       "      <th>NUM_BEDROOMS</th>\n",
       "      <th>NUM_BATH</th>\n",
       "      <th>SQ_FT</th>\n",
       "    </tr>\n",
       "  </thead>\n",
       "  <tbody>\n",
       "    <tr>\n",
       "      <td>0</td>\n",
       "      <td>100001000.0</td>\n",
       "      <td>104.0</td>\n",
       "      <td>PUTNAM</td>\n",
       "      <td>Y</td>\n",
       "      <td>3.0</td>\n",
       "      <td>1</td>\n",
       "      <td>1000.0</td>\n",
       "    </tr>\n",
       "    <tr>\n",
       "      <td>1</td>\n",
       "      <td>100002000.0</td>\n",
       "      <td>197.0</td>\n",
       "      <td>LEXINGTON</td>\n",
       "      <td>N</td>\n",
       "      <td>3.0</td>\n",
       "      <td>1.5</td>\n",
       "      <td>NaN</td>\n",
       "    </tr>\n",
       "    <tr>\n",
       "      <td>2</td>\n",
       "      <td>100003000.0</td>\n",
       "      <td>125.0</td>\n",
       "      <td>LEXINGTON</td>\n",
       "      <td>N</td>\n",
       "      <td>NaN</td>\n",
       "      <td>1</td>\n",
       "      <td>850.0</td>\n",
       "    </tr>\n",
       "    <tr>\n",
       "      <td>3</td>\n",
       "      <td>100004000.0</td>\n",
       "      <td>201.0</td>\n",
       "      <td>BERKELEY</td>\n",
       "      <td>12</td>\n",
       "      <td>1.0</td>\n",
       "      <td>NaN</td>\n",
       "      <td>700.0</td>\n",
       "    </tr>\n",
       "    <tr>\n",
       "      <td>4</td>\n",
       "      <td>NaN</td>\n",
       "      <td>203.0</td>\n",
       "      <td>BERKELEY</td>\n",
       "      <td>Y</td>\n",
       "      <td>3.0</td>\n",
       "      <td>2</td>\n",
       "      <td>1600.0</td>\n",
       "    </tr>\n",
       "    <tr>\n",
       "      <td>5</td>\n",
       "      <td>100006000.0</td>\n",
       "      <td>207.0</td>\n",
       "      <td>BERKELEY</td>\n",
       "      <td>Y</td>\n",
       "      <td>NaN</td>\n",
       "      <td>1</td>\n",
       "      <td>800.0</td>\n",
       "    </tr>\n",
       "    <tr>\n",
       "      <td>6</td>\n",
       "      <td>100007000.0</td>\n",
       "      <td>NaN</td>\n",
       "      <td>WASHINGTON</td>\n",
       "      <td>NaN</td>\n",
       "      <td>2.0</td>\n",
       "      <td>HURLEY</td>\n",
       "      <td>950.0</td>\n",
       "    </tr>\n",
       "    <tr>\n",
       "      <td>7</td>\n",
       "      <td>100008000.0</td>\n",
       "      <td>213.0</td>\n",
       "      <td>TREMONT</td>\n",
       "      <td>Y</td>\n",
       "      <td>NaN</td>\n",
       "      <td>1</td>\n",
       "      <td>NaN</td>\n",
       "    </tr>\n",
       "    <tr>\n",
       "      <td>8</td>\n",
       "      <td>100009000.0</td>\n",
       "      <td>215.0</td>\n",
       "      <td>TREMONT</td>\n",
       "      <td>Y</td>\n",
       "      <td>NaN</td>\n",
       "      <td>2</td>\n",
       "      <td>1800.0</td>\n",
       "    </tr>\n",
       "  </tbody>\n",
       "</table>\n",
       "</div>"
      ],
      "text/plain": [
       "           PID  ST_NUM     ST_NAME OWN_OCCUPIED  NUM_BEDROOMS NUM_BATH   SQ_FT\n",
       "0  100001000.0   104.0      PUTNAM            Y           3.0        1  1000.0\n",
       "1  100002000.0   197.0   LEXINGTON            N           3.0      1.5     NaN\n",
       "2  100003000.0   125.0   LEXINGTON            N           NaN        1   850.0\n",
       "3  100004000.0   201.0    BERKELEY           12           1.0      NaN   700.0\n",
       "4          NaN   203.0    BERKELEY            Y           3.0        2  1600.0\n",
       "5  100006000.0   207.0    BERKELEY            Y           NaN        1   800.0\n",
       "6  100007000.0     NaN  WASHINGTON          NaN           2.0   HURLEY   950.0\n",
       "7  100008000.0   213.0     TREMONT            Y           NaN        1     NaN\n",
       "8  100009000.0   215.0     TREMONT            Y           NaN        2  1800.0"
      ]
     },
     "execution_count": 10,
     "metadata": {},
     "output_type": "execute_result"
    }
   ],
   "source": [
    "tess.head(10)\n",
    "#data frame Nan --> kosong"
   ]
  },
  {
   "cell_type": "code",
   "execution_count": 6,
   "metadata": {},
   "outputs": [],
   "source": [
    "tess.loc[2,'ST_NUM'] = 125"
   ]
  },
  {
   "cell_type": "markdown",
   "metadata": {},
   "source": [
    "22/12/2020 Hari ketujuh"
   ]
  },
  {
   "cell_type": "code",
   "execution_count": 17,
   "metadata": {},
   "outputs": [
    {
     "name": "stdout",
     "output_type": "stream",
     "text": [
      "Collecting xlrd\n",
      "  Downloading xlrd-2.0.1-py2.py3-none-any.whl (96 kB)\n",
      "\u001b[K     |████████████████████████████████| 96 kB 2.7 MB/s eta 0:00:011\n",
      "\u001b[?25hInstalling collected packages: xlrd\n",
      "Successfully installed xlrd-2.0.1\n",
      "\u001b[33mWARNING: You are using pip version 20.0.2; however, version 20.3.3 is available.\n",
      "You should consider upgrading via the '/usr/local/opt/python/bin/python3.7 -m pip install --upgrade pip' command.\u001b[0m\n",
      "Note: you may need to restart the kernel to use updated packages.\n"
     ]
    }
   ],
   "source": [
    "pip install xlrd"
   ]
  },
  {
   "cell_type": "code",
   "execution_count": 11,
   "metadata": {},
   "outputs": [],
   "source": [
    "apasik=pd.read_excel('./obes.xls',\n",
    "                    sheet_name='7.2',\n",
    "                    skiprows=4,\n",
    "                    skipfooter=14)"
   ]
  },
  {
   "cell_type": "code",
   "execution_count": 12,
   "metadata": {},
   "outputs": [
    {
     "data": {
      "text/html": [
       "<div>\n",
       "<style scoped>\n",
       "    .dataframe tbody tr th:only-of-type {\n",
       "        vertical-align: middle;\n",
       "    }\n",
       "\n",
       "    .dataframe tbody tr th {\n",
       "        vertical-align: top;\n",
       "    }\n",
       "\n",
       "    .dataframe thead th {\n",
       "        text-align: right;\n",
       "    }\n",
       "</style>\n",
       "<table border=\"1\" class=\"dataframe\">\n",
       "  <thead>\n",
       "    <tr style=\"text-align: right;\">\n",
       "      <th></th>\n",
       "      <th>Unnamed: 0</th>\n",
       "      <th>Total</th>\n",
       "      <th>Under 16</th>\n",
       "      <th>16-24</th>\n",
       "      <th>25-34</th>\n",
       "      <th>35-44</th>\n",
       "      <th>45-54</th>\n",
       "      <th>55-64</th>\n",
       "      <th>65-74</th>\n",
       "      <th>75 and over</th>\n",
       "    </tr>\n",
       "  </thead>\n",
       "  <tbody>\n",
       "    <tr>\n",
       "      <td>0</td>\n",
       "      <td>NaN</td>\n",
       "      <td>NaN</td>\n",
       "      <td>NaN</td>\n",
       "      <td>NaN</td>\n",
       "      <td>NaN</td>\n",
       "      <td>NaN</td>\n",
       "      <td>NaN</td>\n",
       "      <td>NaN</td>\n",
       "      <td>NaN</td>\n",
       "      <td>NaN</td>\n",
       "    </tr>\n",
       "    <tr>\n",
       "      <td>1</td>\n",
       "      <td>2002/03</td>\n",
       "      <td>1275.0</td>\n",
       "      <td>400.0</td>\n",
       "      <td>65.0</td>\n",
       "      <td>136.0</td>\n",
       "      <td>289.0</td>\n",
       "      <td>216.0</td>\n",
       "      <td>94.0</td>\n",
       "      <td>52.0</td>\n",
       "      <td>23.0</td>\n",
       "    </tr>\n",
       "    <tr>\n",
       "      <td>2</td>\n",
       "      <td>2003/04</td>\n",
       "      <td>1711.0</td>\n",
       "      <td>579.0</td>\n",
       "      <td>67.0</td>\n",
       "      <td>174.0</td>\n",
       "      <td>391.0</td>\n",
       "      <td>273.0</td>\n",
       "      <td>151.0</td>\n",
       "      <td>52.0</td>\n",
       "      <td>24.0</td>\n",
       "    </tr>\n",
       "    <tr>\n",
       "      <td>3</td>\n",
       "      <td>2004/05</td>\n",
       "      <td>2035.0</td>\n",
       "      <td>547.0</td>\n",
       "      <td>107.0</td>\n",
       "      <td>287.0</td>\n",
       "      <td>487.0</td>\n",
       "      <td>364.0</td>\n",
       "      <td>174.0</td>\n",
       "      <td>36.0</td>\n",
       "      <td>32.0</td>\n",
       "    </tr>\n",
       "    <tr>\n",
       "      <td>4</td>\n",
       "      <td>2005/06</td>\n",
       "      <td>2564.0</td>\n",
       "      <td>583.0</td>\n",
       "      <td>96.0</td>\n",
       "      <td>341.0</td>\n",
       "      <td>637.0</td>\n",
       "      <td>554.0</td>\n",
       "      <td>258.0</td>\n",
       "      <td>72.0</td>\n",
       "      <td>20.0</td>\n",
       "    </tr>\n",
       "    <tr>\n",
       "      <td>5</td>\n",
       "      <td>2006/07</td>\n",
       "      <td>3862.0</td>\n",
       "      <td>656.0</td>\n",
       "      <td>184.0</td>\n",
       "      <td>461.0</td>\n",
       "      <td>1069.0</td>\n",
       "      <td>872.0</td>\n",
       "      <td>459.0</td>\n",
       "      <td>118.0</td>\n",
       "      <td>43.0</td>\n",
       "    </tr>\n",
       "    <tr>\n",
       "      <td>6</td>\n",
       "      <td>2007/08</td>\n",
       "      <td>5018.0</td>\n",
       "      <td>747.0</td>\n",
       "      <td>228.0</td>\n",
       "      <td>564.0</td>\n",
       "      <td>1469.0</td>\n",
       "      <td>1198.0</td>\n",
       "      <td>598.0</td>\n",
       "      <td>157.0</td>\n",
       "      <td>53.0</td>\n",
       "    </tr>\n",
       "    <tr>\n",
       "      <td>7</td>\n",
       "      <td>2008/09</td>\n",
       "      <td>7988.0</td>\n",
       "      <td>775.0</td>\n",
       "      <td>322.0</td>\n",
       "      <td>1013.0</td>\n",
       "      <td>2359.0</td>\n",
       "      <td>2133.0</td>\n",
       "      <td>1099.0</td>\n",
       "      <td>221.0</td>\n",
       "      <td>63.0</td>\n",
       "    </tr>\n",
       "    <tr>\n",
       "      <td>8</td>\n",
       "      <td>2009/10</td>\n",
       "      <td>10571.0</td>\n",
       "      <td>632.0</td>\n",
       "      <td>361.0</td>\n",
       "      <td>1348.0</td>\n",
       "      <td>3132.0</td>\n",
       "      <td>3076.0</td>\n",
       "      <td>1555.0</td>\n",
       "      <td>378.0</td>\n",
       "      <td>87.0</td>\n",
       "    </tr>\n",
       "    <tr>\n",
       "      <td>9</td>\n",
       "      <td>2010/11</td>\n",
       "      <td>11574.0</td>\n",
       "      <td>525.0</td>\n",
       "      <td>375.0</td>\n",
       "      <td>1425.0</td>\n",
       "      <td>3277.0</td>\n",
       "      <td>3573.0</td>\n",
       "      <td>1820.0</td>\n",
       "      <td>456.0</td>\n",
       "      <td>115.0</td>\n",
       "    </tr>\n",
       "    <tr>\n",
       "      <td>10</td>\n",
       "      <td>2011/12</td>\n",
       "      <td>11736.0</td>\n",
       "      <td>495.0</td>\n",
       "      <td>391.0</td>\n",
       "      <td>1484.0</td>\n",
       "      <td>3104.0</td>\n",
       "      <td>3581.0</td>\n",
       "      <td>2119.0</td>\n",
       "      <td>468.0</td>\n",
       "      <td>94.0</td>\n",
       "    </tr>\n",
       "    <tr>\n",
       "      <td>11</td>\n",
       "      <td>2012/13</td>\n",
       "      <td>10957.0</td>\n",
       "      <td>556.0</td>\n",
       "      <td>356.0</td>\n",
       "      <td>1437.0</td>\n",
       "      <td>2744.0</td>\n",
       "      <td>3305.0</td>\n",
       "      <td>1965.0</td>\n",
       "      <td>495.0</td>\n",
       "      <td>99.0</td>\n",
       "    </tr>\n",
       "  </tbody>\n",
       "</table>\n",
       "</div>"
      ],
      "text/plain": [
       "   Unnamed: 0    Total  Under 16  16-24   25-34   35-44   45-54   55-64  \\\n",
       "0         NaN      NaN       NaN    NaN     NaN     NaN     NaN     NaN   \n",
       "1     2002/03   1275.0     400.0   65.0   136.0   289.0   216.0    94.0   \n",
       "2     2003/04   1711.0     579.0   67.0   174.0   391.0   273.0   151.0   \n",
       "3     2004/05   2035.0     547.0  107.0   287.0   487.0   364.0   174.0   \n",
       "4     2005/06   2564.0     583.0   96.0   341.0   637.0   554.0   258.0   \n",
       "5     2006/07   3862.0     656.0  184.0   461.0  1069.0   872.0   459.0   \n",
       "6     2007/08   5018.0     747.0  228.0   564.0  1469.0  1198.0   598.0   \n",
       "7     2008/09   7988.0     775.0  322.0  1013.0  2359.0  2133.0  1099.0   \n",
       "8     2009/10  10571.0     632.0  361.0  1348.0  3132.0  3076.0  1555.0   \n",
       "9     2010/11  11574.0     525.0  375.0  1425.0  3277.0  3573.0  1820.0   \n",
       "10    2011/12  11736.0     495.0  391.0  1484.0  3104.0  3581.0  2119.0   \n",
       "11    2012/13  10957.0     556.0  356.0  1437.0  2744.0  3305.0  1965.0   \n",
       "\n",
       "    65-74  75 and over  \n",
       "0     NaN          NaN  \n",
       "1    52.0         23.0  \n",
       "2    52.0         24.0  \n",
       "3    36.0         32.0  \n",
       "4    72.0         20.0  \n",
       "5   118.0         43.0  \n",
       "6   157.0         53.0  \n",
       "7   221.0         63.0  \n",
       "8   378.0         87.0  \n",
       "9   456.0        115.0  \n",
       "10  468.0         94.0  \n",
       "11  495.0         99.0  "
      ]
     },
     "execution_count": 12,
     "metadata": {},
     "output_type": "execute_result"
    }
   ],
   "source": [
    "apasik"
   ]
  },
  {
   "cell_type": "code",
   "execution_count": 14,
   "metadata": {},
   "outputs": [],
   "source": [
    "apasik.rename(columns={'Unnamed 0':'Year'},inplace=True)"
   ]
  },
  {
   "cell_type": "code",
   "execution_count": 15,
   "metadata": {},
   "outputs": [],
   "source": [
    "apasik.dropna(inplace=True)"
   ]
  },
  {
   "cell_type": "code",
   "execution_count": 16,
   "metadata": {},
   "outputs": [
    {
     "data": {
      "text/html": [
       "<div>\n",
       "<style scoped>\n",
       "    .dataframe tbody tr th:only-of-type {\n",
       "        vertical-align: middle;\n",
       "    }\n",
       "\n",
       "    .dataframe tbody tr th {\n",
       "        vertical-align: top;\n",
       "    }\n",
       "\n",
       "    .dataframe thead th {\n",
       "        text-align: right;\n",
       "    }\n",
       "</style>\n",
       "<table border=\"1\" class=\"dataframe\">\n",
       "  <thead>\n",
       "    <tr style=\"text-align: right;\">\n",
       "      <th></th>\n",
       "      <th>Unnamed: 0</th>\n",
       "      <th>Total</th>\n",
       "      <th>Under 16</th>\n",
       "      <th>16-24</th>\n",
       "      <th>25-34</th>\n",
       "      <th>35-44</th>\n",
       "      <th>45-54</th>\n",
       "      <th>55-64</th>\n",
       "      <th>65-74</th>\n",
       "      <th>75 and over</th>\n",
       "    </tr>\n",
       "  </thead>\n",
       "  <tbody>\n",
       "    <tr>\n",
       "      <td>1</td>\n",
       "      <td>2002/03</td>\n",
       "      <td>1275.0</td>\n",
       "      <td>400.0</td>\n",
       "      <td>65.0</td>\n",
       "      <td>136.0</td>\n",
       "      <td>289.0</td>\n",
       "      <td>216.0</td>\n",
       "      <td>94.0</td>\n",
       "      <td>52.0</td>\n",
       "      <td>23.0</td>\n",
       "    </tr>\n",
       "    <tr>\n",
       "      <td>2</td>\n",
       "      <td>2003/04</td>\n",
       "      <td>1711.0</td>\n",
       "      <td>579.0</td>\n",
       "      <td>67.0</td>\n",
       "      <td>174.0</td>\n",
       "      <td>391.0</td>\n",
       "      <td>273.0</td>\n",
       "      <td>151.0</td>\n",
       "      <td>52.0</td>\n",
       "      <td>24.0</td>\n",
       "    </tr>\n",
       "    <tr>\n",
       "      <td>3</td>\n",
       "      <td>2004/05</td>\n",
       "      <td>2035.0</td>\n",
       "      <td>547.0</td>\n",
       "      <td>107.0</td>\n",
       "      <td>287.0</td>\n",
       "      <td>487.0</td>\n",
       "      <td>364.0</td>\n",
       "      <td>174.0</td>\n",
       "      <td>36.0</td>\n",
       "      <td>32.0</td>\n",
       "    </tr>\n",
       "    <tr>\n",
       "      <td>4</td>\n",
       "      <td>2005/06</td>\n",
       "      <td>2564.0</td>\n",
       "      <td>583.0</td>\n",
       "      <td>96.0</td>\n",
       "      <td>341.0</td>\n",
       "      <td>637.0</td>\n",
       "      <td>554.0</td>\n",
       "      <td>258.0</td>\n",
       "      <td>72.0</td>\n",
       "      <td>20.0</td>\n",
       "    </tr>\n",
       "    <tr>\n",
       "      <td>5</td>\n",
       "      <td>2006/07</td>\n",
       "      <td>3862.0</td>\n",
       "      <td>656.0</td>\n",
       "      <td>184.0</td>\n",
       "      <td>461.0</td>\n",
       "      <td>1069.0</td>\n",
       "      <td>872.0</td>\n",
       "      <td>459.0</td>\n",
       "      <td>118.0</td>\n",
       "      <td>43.0</td>\n",
       "    </tr>\n",
       "    <tr>\n",
       "      <td>6</td>\n",
       "      <td>2007/08</td>\n",
       "      <td>5018.0</td>\n",
       "      <td>747.0</td>\n",
       "      <td>228.0</td>\n",
       "      <td>564.0</td>\n",
       "      <td>1469.0</td>\n",
       "      <td>1198.0</td>\n",
       "      <td>598.0</td>\n",
       "      <td>157.0</td>\n",
       "      <td>53.0</td>\n",
       "    </tr>\n",
       "    <tr>\n",
       "      <td>7</td>\n",
       "      <td>2008/09</td>\n",
       "      <td>7988.0</td>\n",
       "      <td>775.0</td>\n",
       "      <td>322.0</td>\n",
       "      <td>1013.0</td>\n",
       "      <td>2359.0</td>\n",
       "      <td>2133.0</td>\n",
       "      <td>1099.0</td>\n",
       "      <td>221.0</td>\n",
       "      <td>63.0</td>\n",
       "    </tr>\n",
       "    <tr>\n",
       "      <td>8</td>\n",
       "      <td>2009/10</td>\n",
       "      <td>10571.0</td>\n",
       "      <td>632.0</td>\n",
       "      <td>361.0</td>\n",
       "      <td>1348.0</td>\n",
       "      <td>3132.0</td>\n",
       "      <td>3076.0</td>\n",
       "      <td>1555.0</td>\n",
       "      <td>378.0</td>\n",
       "      <td>87.0</td>\n",
       "    </tr>\n",
       "    <tr>\n",
       "      <td>9</td>\n",
       "      <td>2010/11</td>\n",
       "      <td>11574.0</td>\n",
       "      <td>525.0</td>\n",
       "      <td>375.0</td>\n",
       "      <td>1425.0</td>\n",
       "      <td>3277.0</td>\n",
       "      <td>3573.0</td>\n",
       "      <td>1820.0</td>\n",
       "      <td>456.0</td>\n",
       "      <td>115.0</td>\n",
       "    </tr>\n",
       "    <tr>\n",
       "      <td>10</td>\n",
       "      <td>2011/12</td>\n",
       "      <td>11736.0</td>\n",
       "      <td>495.0</td>\n",
       "      <td>391.0</td>\n",
       "      <td>1484.0</td>\n",
       "      <td>3104.0</td>\n",
       "      <td>3581.0</td>\n",
       "      <td>2119.0</td>\n",
       "      <td>468.0</td>\n",
       "      <td>94.0</td>\n",
       "    </tr>\n",
       "    <tr>\n",
       "      <td>11</td>\n",
       "      <td>2012/13</td>\n",
       "      <td>10957.0</td>\n",
       "      <td>556.0</td>\n",
       "      <td>356.0</td>\n",
       "      <td>1437.0</td>\n",
       "      <td>2744.0</td>\n",
       "      <td>3305.0</td>\n",
       "      <td>1965.0</td>\n",
       "      <td>495.0</td>\n",
       "      <td>99.0</td>\n",
       "    </tr>\n",
       "  </tbody>\n",
       "</table>\n",
       "</div>"
      ],
      "text/plain": [
       "   Unnamed: 0    Total  Under 16  16-24   25-34   35-44   45-54   55-64  \\\n",
       "1     2002/03   1275.0     400.0   65.0   136.0   289.0   216.0    94.0   \n",
       "2     2003/04   1711.0     579.0   67.0   174.0   391.0   273.0   151.0   \n",
       "3     2004/05   2035.0     547.0  107.0   287.0   487.0   364.0   174.0   \n",
       "4     2005/06   2564.0     583.0   96.0   341.0   637.0   554.0   258.0   \n",
       "5     2006/07   3862.0     656.0  184.0   461.0  1069.0   872.0   459.0   \n",
       "6     2007/08   5018.0     747.0  228.0   564.0  1469.0  1198.0   598.0   \n",
       "7     2008/09   7988.0     775.0  322.0  1013.0  2359.0  2133.0  1099.0   \n",
       "8     2009/10  10571.0     632.0  361.0  1348.0  3132.0  3076.0  1555.0   \n",
       "9     2010/11  11574.0     525.0  375.0  1425.0  3277.0  3573.0  1820.0   \n",
       "10    2011/12  11736.0     495.0  391.0  1484.0  3104.0  3581.0  2119.0   \n",
       "11    2012/13  10957.0     556.0  356.0  1437.0  2744.0  3305.0  1965.0   \n",
       "\n",
       "    65-74  75 and over  \n",
       "1    52.0         23.0  \n",
       "2    52.0         24.0  \n",
       "3    36.0         32.0  \n",
       "4    72.0         20.0  \n",
       "5   118.0         43.0  \n",
       "6   157.0         53.0  \n",
       "7   221.0         63.0  \n",
       "8   378.0         87.0  \n",
       "9   456.0        115.0  \n",
       "10  468.0         94.0  \n",
       "11  495.0         99.0  "
      ]
     },
     "execution_count": 16,
     "metadata": {},
     "output_type": "execute_result"
    }
   ],
   "source": [
    "apasik"
   ]
  },
  {
   "cell_type": "code",
   "execution_count": 17,
   "metadata": {},
   "outputs": [],
   "source": [
    "apasik_tanpa_total=apasik.drop('Total',axis=1)"
   ]
  },
  {
   "cell_type": "code",
   "execution_count": 19,
   "metadata": {},
   "outputs": [
    {
     "data": {
      "text/plain": [
       "<matplotlib.axes._subplots.AxesSubplot at 0x11ae2d110>"
      ]
     },
     "execution_count": 19,
     "metadata": {},
     "output_type": "execute_result"
    },
    {
     "data": {
      "image/png": "[encoded data removed]",
      "text/plain": [
       "<Figure size 432x288 with 1 Axes>"
      ]
     },
     "metadata": {
      "needs_background": "light"
     },
     "output_type": "display_data"
    }
   ],
   "source": [
    "%matplotlib inline\n",
    "apasik_tanpa_total.plot()"
   ]
  },
  {
   "cell_type": "code",
   "execution_count": 39,
   "metadata": {},
   "outputs": [
    {
     "data": {
      "text/plain": [
       "Text(0, 0.5, 'Total')"
      ]
     },
     "execution_count": 39,
     "metadata": {},
     "output_type": "execute_result"
    },
    {
     "data": {
      "image/png": "[encoded data removed]",
      "text/plain": [
       "<Figure size 432x288 with 1 Axes>"
      ]
     },
     "metadata": {
      "needs_background": "light"
     },
     "output_type": "display_data"
    }
   ],
   "source": [
    "apasik['Under 16'].plot(label=\"Under 16\",legend=True)\n",
    "apasik['35-44'].plot(label=\"35 - 44\",legend=True)\n",
    "plt.ylabel('Total')"
   ]
  },
  {
   "cell_type": "code",
   "execution_count": 56,
   "metadata": {},
   "outputs": [],
   "source": [
    "raw=pd.read_csv('./F2016062107S5011628.CSV'\n",
    "                      ,skiprows=6,\n",
    "                     na_values=['-','---','----','-----','------'])"
   ]
  },
  {
   "cell_type": "code",
   "execution_count": 57,
   "metadata": {},
   "outputs": [
    {
     "data": {
      "text/html": [
       "<div>\n",
       "<style scoped>\n",
       "    .dataframe tbody tr th:only-of-type {\n",
       "        vertical-align: middle;\n",
       "    }\n",
       "\n",
       "    .dataframe tbody tr th {\n",
       "        vertical-align: top;\n",
       "    }\n",
       "\n",
       "    .dataframe thead th {\n",
       "        text-align: right;\n",
       "    }\n",
       "</style>\n",
       "<table border=\"1\" class=\"dataframe\">\n",
       "  <thead>\n",
       "    <tr style=\"text-align: right;\">\n",
       "      <th></th>\n",
       "      <th>ObsTime</th>\n",
       "      <th>DCnt</th>\n",
       "      <th>ST</th>\n",
       "      <th>RE</th>\n",
       "      <th>SondeN</th>\n",
       "      <th>FCnt</th>\n",
       "      <th>AGC</th>\n",
       "      <th>rcvFREQ</th>\n",
       "      <th>WM</th>\n",
       "      <th>WD</th>\n",
       "      <th>...</th>\n",
       "      <th>FSP4</th>\n",
       "      <th>N</th>\n",
       "      <th>N1</th>\n",
       "      <th>N2</th>\n",
       "      <th>N3</th>\n",
       "      <th>N4</th>\n",
       "      <th>N5</th>\n",
       "      <th>N6</th>\n",
       "      <th>N7</th>\n",
       "      <th>N8</th>\n",
       "    </tr>\n",
       "  </thead>\n",
       "  <tbody>\n",
       "    <tr>\n",
       "      <td>0</td>\n",
       "      <td>07:32:44</td>\n",
       "      <td>0.0</td>\n",
       "      <td>7</td>\n",
       "      <td>0.0</td>\n",
       "      <td>5011628</td>\n",
       "      <td>400.0</td>\n",
       "      <td>0.0</td>\n",
       "      <td>404.20648</td>\n",
       "      <td>1.0</td>\n",
       "      <td>0.00</td>\n",
       "      <td>...</td>\n",
       "      <td>0.0</td>\n",
       "      <td>10.0</td>\n",
       "      <td>10</td>\n",
       "      <td>14</td>\n",
       "      <td>16</td>\n",
       "      <td>21</td>\n",
       "      <td>22</td>\n",
       "      <td>26</td>\n",
       "      <td>27</td>\n",
       "      <td>31</td>\n",
       "    </tr>\n",
       "    <tr>\n",
       "      <td>1</td>\n",
       "      <td>07:32:45</td>\n",
       "      <td>2.0</td>\n",
       "      <td>7</td>\n",
       "      <td>0.0</td>\n",
       "      <td>5011628</td>\n",
       "      <td>402.0</td>\n",
       "      <td>0.0</td>\n",
       "      <td>404.20648</td>\n",
       "      <td>1.0</td>\n",
       "      <td>351.29</td>\n",
       "      <td>...</td>\n",
       "      <td>0.0</td>\n",
       "      <td>10.0</td>\n",
       "      <td>10</td>\n",
       "      <td>14</td>\n",
       "      <td>16</td>\n",
       "      <td>21</td>\n",
       "      <td>22</td>\n",
       "      <td>26</td>\n",
       "      <td>27</td>\n",
       "      <td>31</td>\n",
       "    </tr>\n",
       "    <tr>\n",
       "      <td>2</td>\n",
       "      <td>07:32:46</td>\n",
       "      <td>4.0</td>\n",
       "      <td>7</td>\n",
       "      <td>0.0</td>\n",
       "      <td>5011628</td>\n",
       "      <td>404.0</td>\n",
       "      <td>0.0</td>\n",
       "      <td>404.20648</td>\n",
       "      <td>1.0</td>\n",
       "      <td>351.29</td>\n",
       "      <td>...</td>\n",
       "      <td>0.0</td>\n",
       "      <td>10.0</td>\n",
       "      <td>10</td>\n",
       "      <td>14</td>\n",
       "      <td>16</td>\n",
       "      <td>21</td>\n",
       "      <td>22</td>\n",
       "      <td>26</td>\n",
       "      <td>27</td>\n",
       "      <td>31</td>\n",
       "    </tr>\n",
       "    <tr>\n",
       "      <td>3</td>\n",
       "      <td>07:32:47</td>\n",
       "      <td>6.0</td>\n",
       "      <td>7</td>\n",
       "      <td>0.0</td>\n",
       "      <td>5011628</td>\n",
       "      <td>406.0</td>\n",
       "      <td>0.0</td>\n",
       "      <td>404.20648</td>\n",
       "      <td>1.0</td>\n",
       "      <td>351.29</td>\n",
       "      <td>...</td>\n",
       "      <td>0.0</td>\n",
       "      <td>10.0</td>\n",
       "      <td>10</td>\n",
       "      <td>14</td>\n",
       "      <td>16</td>\n",
       "      <td>21</td>\n",
       "      <td>22</td>\n",
       "      <td>26</td>\n",
       "      <td>27</td>\n",
       "      <td>31</td>\n",
       "    </tr>\n",
       "    <tr>\n",
       "      <td>4</td>\n",
       "      <td>07:32:48</td>\n",
       "      <td>8.0</td>\n",
       "      <td>7</td>\n",
       "      <td>0.0</td>\n",
       "      <td>5011628</td>\n",
       "      <td>408.0</td>\n",
       "      <td>0.0</td>\n",
       "      <td>404.20648</td>\n",
       "      <td>1.0</td>\n",
       "      <td>351.29</td>\n",
       "      <td>...</td>\n",
       "      <td>0.0</td>\n",
       "      <td>10.0</td>\n",
       "      <td>10</td>\n",
       "      <td>14</td>\n",
       "      <td>16</td>\n",
       "      <td>21</td>\n",
       "      <td>22</td>\n",
       "      <td>26</td>\n",
       "      <td>27</td>\n",
       "      <td>31</td>\n",
       "    </tr>\n",
       "    <tr>\n",
       "      <td>5</td>\n",
       "      <td>07:32:49</td>\n",
       "      <td>10.0</td>\n",
       "      <td>7</td>\n",
       "      <td>0.0</td>\n",
       "      <td>5011628</td>\n",
       "      <td>410.0</td>\n",
       "      <td>0.0</td>\n",
       "      <td>404.20648</td>\n",
       "      <td>1.0</td>\n",
       "      <td>30.87</td>\n",
       "      <td>...</td>\n",
       "      <td>0.0</td>\n",
       "      <td>10.0</td>\n",
       "      <td>10</td>\n",
       "      <td>14</td>\n",
       "      <td>16</td>\n",
       "      <td>21</td>\n",
       "      <td>22</td>\n",
       "      <td>26</td>\n",
       "      <td>27</td>\n",
       "      <td>31</td>\n",
       "    </tr>\n",
       "    <tr>\n",
       "      <td>6</td>\n",
       "      <td>07:32:50</td>\n",
       "      <td>12.0</td>\n",
       "      <td>7</td>\n",
       "      <td>0.0</td>\n",
       "      <td>5011628</td>\n",
       "      <td>412.0</td>\n",
       "      <td>0.0</td>\n",
       "      <td>404.20648</td>\n",
       "      <td>1.0</td>\n",
       "      <td>7.59</td>\n",
       "      <td>...</td>\n",
       "      <td>0.0</td>\n",
       "      <td>10.0</td>\n",
       "      <td>10</td>\n",
       "      <td>14</td>\n",
       "      <td>16</td>\n",
       "      <td>21</td>\n",
       "      <td>22</td>\n",
       "      <td>26</td>\n",
       "      <td>27</td>\n",
       "      <td>31</td>\n",
       "    </tr>\n",
       "    <tr>\n",
       "      <td>7</td>\n",
       "      <td>07:32:51</td>\n",
       "      <td>14.0</td>\n",
       "      <td>7</td>\n",
       "      <td>0.0</td>\n",
       "      <td>5011628</td>\n",
       "      <td>414.0</td>\n",
       "      <td>0.0</td>\n",
       "      <td>404.20648</td>\n",
       "      <td>1.0</td>\n",
       "      <td>301.93</td>\n",
       "      <td>...</td>\n",
       "      <td>0.0</td>\n",
       "      <td>10.0</td>\n",
       "      <td>10</td>\n",
       "      <td>14</td>\n",
       "      <td>16</td>\n",
       "      <td>21</td>\n",
       "      <td>22</td>\n",
       "      <td>26</td>\n",
       "      <td>27</td>\n",
       "      <td>31</td>\n",
       "    </tr>\n",
       "    <tr>\n",
       "      <td>8</td>\n",
       "      <td>07:32:52</td>\n",
       "      <td>16.0</td>\n",
       "      <td>7</td>\n",
       "      <td>0.0</td>\n",
       "      <td>5011628</td>\n",
       "      <td>416.0</td>\n",
       "      <td>0.0</td>\n",
       "      <td>404.20648</td>\n",
       "      <td>1.0</td>\n",
       "      <td>49.34</td>\n",
       "      <td>...</td>\n",
       "      <td>0.0</td>\n",
       "      <td>10.0</td>\n",
       "      <td>10</td>\n",
       "      <td>14</td>\n",
       "      <td>16</td>\n",
       "      <td>21</td>\n",
       "      <td>22</td>\n",
       "      <td>26</td>\n",
       "      <td>27</td>\n",
       "      <td>31</td>\n",
       "    </tr>\n",
       "    <tr>\n",
       "      <td>9</td>\n",
       "      <td>07:32:53</td>\n",
       "      <td>18.0</td>\n",
       "      <td>7</td>\n",
       "      <td>0.0</td>\n",
       "      <td>5011628</td>\n",
       "      <td>418.0</td>\n",
       "      <td>0.0</td>\n",
       "      <td>404.20648</td>\n",
       "      <td>1.0</td>\n",
       "      <td>145.67</td>\n",
       "      <td>...</td>\n",
       "      <td>0.0</td>\n",
       "      <td>10.0</td>\n",
       "      <td>10</td>\n",
       "      <td>14</td>\n",
       "      <td>16</td>\n",
       "      <td>21</td>\n",
       "      <td>22</td>\n",
       "      <td>26</td>\n",
       "      <td>27</td>\n",
       "      <td>31</td>\n",
       "    </tr>\n",
       "  </tbody>\n",
       "</table>\n",
       "<p>10 rows × 41 columns</p>\n",
       "</div>"
      ],
      "text/plain": [
       "    ObsTime  DCnt  ST   RE   SondeN   FCnt  AGC    rcvFREQ   WM      WD  ...  \\\n",
       "0  07:32:44   0.0   7  0.0  5011628  400.0  0.0  404.20648  1.0    0.00  ...   \n",
       "1  07:32:45   2.0   7  0.0  5011628  402.0  0.0  404.20648  1.0  351.29  ...   \n",
       "2  07:32:46   4.0   7  0.0  5011628  404.0  0.0  404.20648  1.0  351.29  ...   \n",
       "3  07:32:47   6.0   7  0.0  5011628  406.0  0.0  404.20648  1.0  351.29  ...   \n",
       "4  07:32:48   8.0   7  0.0  5011628  408.0  0.0  404.20648  1.0  351.29  ...   \n",
       "5  07:32:49  10.0   7  0.0  5011628  410.0  0.0  404.20648  1.0   30.87  ...   \n",
       "6  07:32:50  12.0   7  0.0  5011628  412.0  0.0  404.20648  1.0    7.59  ...   \n",
       "7  07:32:51  14.0   7  0.0  5011628  414.0  0.0  404.20648  1.0  301.93  ...   \n",
       "8  07:32:52  16.0   7  0.0  5011628  416.0  0.0  404.20648  1.0   49.34  ...   \n",
       "9  07:32:53  18.0   7  0.0  5011628  418.0  0.0  404.20648  1.0  145.67  ...   \n",
       "\n",
       "     FSP4     N  N1  N2  N3  N4  N5  N6  N7  N8  \n",
       "0     0.0  10.0  10  14  16  21  22  26  27  31  \n",
       "1     0.0  10.0  10  14  16  21  22  26  27  31  \n",
       "2     0.0  10.0  10  14  16  21  22  26  27  31  \n",
       "3     0.0  10.0  10  14  16  21  22  26  27  31  \n",
       "4     0.0  10.0  10  14  16  21  22  26  27  31  \n",
       "5     0.0  10.0  10  14  16  21  22  26  27  31  \n",
       "6     0.0  10.0  10  14  16  21  22  26  27  31  \n",
       "7     0.0  10.0  10  14  16  21  22  26  27  31  \n",
       "8     0.0  10.0  10  14  16  21  22  26  27  31  \n",
       "9     0.0  10.0  10  14  16  21  22  26  27  31  \n",
       "\n",
       "[10 rows x 41 columns]"
      ]
     },
     "execution_count": 57,
     "metadata": {},
     "output_type": "execute_result"
    }
   ],
   "source": [
    "raw.head(10)"
   ]
  },
  {
   "cell_type": "code",
   "execution_count": 58,
   "metadata": {},
   "outputs": [
    {
     "data": {
      "text/plain": [
       "(4819, 41)"
      ]
     },
     "execution_count": 58,
     "metadata": {},
     "output_type": "execute_result"
    }
   ],
   "source": [
    "raw.shape"
   ]
  },
  {
   "cell_type": "code",
   "execution_count": 59,
   "metadata": {},
   "outputs": [
    {
     "name": "stdout",
     "output_type": "stream",
     "text": [
      "<class 'pandas.core.frame.DataFrame'>\n",
      "RangeIndex: 4819 entries, 0 to 4818\n",
      "Data columns (total 41 columns):\n",
      " ObsTime      4819 non-null object\n",
      "DCnt          4778 non-null float64\n",
      "ST            4819 non-null int64\n",
      "RE            4778 non-null float64\n",
      "SondeN        4819 non-null int64\n",
      " FCnt         4778 non-null float64\n",
      "AGC           4778 non-null float64\n",
      "  rcvFREQ     4819 non-null object\n",
      "WM            4778 non-null float64\n",
      "   WD         4819 non-null float64\n",
      "    WS        4819 non-null float64\n",
      " Height       4819 non-null float64\n",
      " Xdistanc     4819 non-null float64\n",
      " Ydistanc     4819 non-null float64\n",
      "GF            4778 non-null float64\n",
      "HDP           4773 non-null float64\n",
      " PDP          4773 non-null float64\n",
      "GeodetLat     4819 non-null float64\n",
      " GeodetLon    4819 non-null float64\n",
      "V             4819 non-null int64\n",
      "Press0        4773 non-null float64\n",
      "Temp0         4773 non-null float64\n",
      "Humi0         4769 non-null float64\n",
      "  FE          4778 non-null object\n",
      "   FRT        4778 non-null float64\n",
      "   FTI        4778 non-null float64\n",
      "   FVH        4778 non-null float64\n",
      "   FVL        4774 non-null float64\n",
      "  FSP1        4776 non-null float64\n",
      "  FSP2        4776 non-null float64\n",
      "  FSP3        4776 non-null float64\n",
      "  FSP4        4776 non-null float64\n",
      "N             4778 non-null float64\n",
      "N1            4819 non-null object\n",
      "N2            4819 non-null object\n",
      "N3            4819 non-null object\n",
      "N4            4819 non-null object\n",
      "N5            4819 non-null object\n",
      "N6            4819 non-null object\n",
      "N7            4819 non-null object\n",
      "N8            4819 non-null object\n",
      "dtypes: float64(27), int64(3), object(11)\n",
      "memory usage: 1.5+ MB\n"
     ]
    }
   ],
   "source": [
    "raw.info()"
   ]
  },
  {
   "cell_type": "code",
   "execution_count": 60,
   "metadata": {},
   "outputs": [],
   "source": [
    "from datetime import datetime"
   ]
  },
  {
   "cell_type": "markdown",
   "metadata": {},
   "source": [
    "case: \n",
    "1. jadikan obstime jadi index tapi harus dalam bentuk datetime\n",
    "2. replace data yang invalid menjadi NaN untuk Humi0, Temp0, WD"
   ]
  },
  {
   "cell_type": "code",
   "execution_count": 61,
   "metadata": {},
   "outputs": [],
   "source": [
    "raw[' ObsTime']=pd.to_datetime(raw[' ObsTime'])"
   ]
  },
  {
   "cell_type": "code",
   "execution_count": 62,
   "metadata": {},
   "outputs": [
    {
     "name": "stdout",
     "output_type": "stream",
     "text": [
      "<class 'pandas.core.frame.DataFrame'>\n",
      "RangeIndex: 4819 entries, 0 to 4818\n",
      "Data columns (total 41 columns):\n",
      " ObsTime      4819 non-null datetime64[ns]\n",
      "DCnt          4778 non-null float64\n",
      "ST            4819 non-null int64\n",
      "RE            4778 non-null float64\n",
      "SondeN        4819 non-null int64\n",
      " FCnt         4778 non-null float64\n",
      "AGC           4778 non-null float64\n",
      "  rcvFREQ     4819 non-null object\n",
      "WM            4778 non-null float64\n",
      "   WD         4819 non-null float64\n",
      "    WS        4819 non-null float64\n",
      " Height       4819 non-null float64\n",
      " Xdistanc     4819 non-null float64\n",
      " Ydistanc     4819 non-null float64\n",
      "GF            4778 non-null float64\n",
      "HDP           4773 non-null float64\n",
      " PDP          4773 non-null float64\n",
      "GeodetLat     4819 non-null float64\n",
      " GeodetLon    4819 non-null float64\n",
      "V             4819 non-null int64\n",
      "Press0        4773 non-null float64\n",
      "Temp0         4773 non-null float64\n",
      "Humi0         4769 non-null float64\n",
      "  FE          4778 non-null object\n",
      "   FRT        4778 non-null float64\n",
      "   FTI        4778 non-null float64\n",
      "   FVH        4778 non-null float64\n",
      "   FVL        4774 non-null float64\n",
      "  FSP1        4776 non-null float64\n",
      "  FSP2        4776 non-null float64\n",
      "  FSP3        4776 non-null float64\n",
      "  FSP4        4776 non-null float64\n",
      "N             4778 non-null float64\n",
      "N1            4819 non-null object\n",
      "N2            4819 non-null object\n",
      "N3            4819 non-null object\n",
      "N4            4819 non-null object\n",
      "N5            4819 non-null object\n",
      "N6            4819 non-null object\n",
      "N7            4819 non-null object\n",
      "N8            4819 non-null object\n",
      "dtypes: datetime64[ns](1), float64(27), int64(3), object(10)\n",
      "memory usage: 1.5+ MB\n"
     ]
    }
   ],
   "source": [
    "raw.info()"
   ]
  },
  {
   "cell_type": "code",
   "execution_count": 63,
   "metadata": {},
   "outputs": [],
   "source": [
    "raw=raw.set_index(' ObsTime')"
   ]
  },
  {
   "cell_type": "code",
   "execution_count": 65,
   "metadata": {},
   "outputs": [
    {
     "data": {
      "text/html": [
       "<div>\n",
       "<style scoped>\n",
       "    .dataframe tbody tr th:only-of-type {\n",
       "        vertical-align: middle;\n",
       "    }\n",
       "\n",
       "    .dataframe tbody tr th {\n",
       "        vertical-align: top;\n",
       "    }\n",
       "\n",
       "    .dataframe thead th {\n",
       "        text-align: right;\n",
       "    }\n",
       "</style>\n",
       "<table border=\"1\" class=\"dataframe\">\n",
       "  <thead>\n",
       "    <tr style=\"text-align: right;\">\n",
       "      <th></th>\n",
       "      <th>DCnt</th>\n",
       "      <th>ST</th>\n",
       "      <th>RE</th>\n",
       "      <th>SondeN</th>\n",
       "      <th>FCnt</th>\n",
       "      <th>AGC</th>\n",
       "      <th>rcvFREQ</th>\n",
       "      <th>WM</th>\n",
       "      <th>WD</th>\n",
       "      <th>WS</th>\n",
       "      <th>...</th>\n",
       "      <th>FSP4</th>\n",
       "      <th>N</th>\n",
       "      <th>N1</th>\n",
       "      <th>N2</th>\n",
       "      <th>N3</th>\n",
       "      <th>N4</th>\n",
       "      <th>N5</th>\n",
       "      <th>N6</th>\n",
       "      <th>N7</th>\n",
       "      <th>N8</th>\n",
       "    </tr>\n",
       "    <tr>\n",
       "      <th>ObsTime</th>\n",
       "      <th></th>\n",
       "      <th></th>\n",
       "      <th></th>\n",
       "      <th></th>\n",
       "      <th></th>\n",
       "      <th></th>\n",
       "      <th></th>\n",
       "      <th></th>\n",
       "      <th></th>\n",
       "      <th></th>\n",
       "      <th></th>\n",
       "      <th></th>\n",
       "      <th></th>\n",
       "      <th></th>\n",
       "      <th></th>\n",
       "      <th></th>\n",
       "      <th></th>\n",
       "      <th></th>\n",
       "      <th></th>\n",
       "      <th></th>\n",
       "      <th></th>\n",
       "    </tr>\n",
       "  </thead>\n",
       "  <tbody>\n",
       "    <tr>\n",
       "      <td>2020-12-22 07:32:44</td>\n",
       "      <td>0.0</td>\n",
       "      <td>7</td>\n",
       "      <td>0.0</td>\n",
       "      <td>5011628</td>\n",
       "      <td>400.0</td>\n",
       "      <td>0.0</td>\n",
       "      <td>404.20648</td>\n",
       "      <td>1.0</td>\n",
       "      <td>0.00</td>\n",
       "      <td>0.00</td>\n",
       "      <td>...</td>\n",
       "      <td>0.0</td>\n",
       "      <td>10.0</td>\n",
       "      <td>10</td>\n",
       "      <td>14</td>\n",
       "      <td>16</td>\n",
       "      <td>21</td>\n",
       "      <td>22</td>\n",
       "      <td>26</td>\n",
       "      <td>27</td>\n",
       "      <td>31</td>\n",
       "    </tr>\n",
       "    <tr>\n",
       "      <td>2020-12-22 07:32:45</td>\n",
       "      <td>2.0</td>\n",
       "      <td>7</td>\n",
       "      <td>0.0</td>\n",
       "      <td>5011628</td>\n",
       "      <td>402.0</td>\n",
       "      <td>0.0</td>\n",
       "      <td>404.20648</td>\n",
       "      <td>1.0</td>\n",
       "      <td>351.29</td>\n",
       "      <td>0.08</td>\n",
       "      <td>...</td>\n",
       "      <td>0.0</td>\n",
       "      <td>10.0</td>\n",
       "      <td>10</td>\n",
       "      <td>14</td>\n",
       "      <td>16</td>\n",
       "      <td>21</td>\n",
       "      <td>22</td>\n",
       "      <td>26</td>\n",
       "      <td>27</td>\n",
       "      <td>31</td>\n",
       "    </tr>\n",
       "    <tr>\n",
       "      <td>2020-12-22 07:32:46</td>\n",
       "      <td>4.0</td>\n",
       "      <td>7</td>\n",
       "      <td>0.0</td>\n",
       "      <td>5011628</td>\n",
       "      <td>404.0</td>\n",
       "      <td>0.0</td>\n",
       "      <td>404.20648</td>\n",
       "      <td>1.0</td>\n",
       "      <td>351.29</td>\n",
       "      <td>0.11</td>\n",
       "      <td>...</td>\n",
       "      <td>0.0</td>\n",
       "      <td>10.0</td>\n",
       "      <td>10</td>\n",
       "      <td>14</td>\n",
       "      <td>16</td>\n",
       "      <td>21</td>\n",
       "      <td>22</td>\n",
       "      <td>26</td>\n",
       "      <td>27</td>\n",
       "      <td>31</td>\n",
       "    </tr>\n",
       "    <tr>\n",
       "      <td>2020-12-22 07:32:47</td>\n",
       "      <td>6.0</td>\n",
       "      <td>7</td>\n",
       "      <td>0.0</td>\n",
       "      <td>5011628</td>\n",
       "      <td>406.0</td>\n",
       "      <td>0.0</td>\n",
       "      <td>404.20648</td>\n",
       "      <td>1.0</td>\n",
       "      <td>351.29</td>\n",
       "      <td>0.09</td>\n",
       "      <td>...</td>\n",
       "      <td>0.0</td>\n",
       "      <td>10.0</td>\n",
       "      <td>10</td>\n",
       "      <td>14</td>\n",
       "      <td>16</td>\n",
       "      <td>21</td>\n",
       "      <td>22</td>\n",
       "      <td>26</td>\n",
       "      <td>27</td>\n",
       "      <td>31</td>\n",
       "    </tr>\n",
       "    <tr>\n",
       "      <td>2020-12-22 07:32:48</td>\n",
       "      <td>8.0</td>\n",
       "      <td>7</td>\n",
       "      <td>0.0</td>\n",
       "      <td>5011628</td>\n",
       "      <td>408.0</td>\n",
       "      <td>0.0</td>\n",
       "      <td>404.20648</td>\n",
       "      <td>1.0</td>\n",
       "      <td>351.29</td>\n",
       "      <td>0.13</td>\n",
       "      <td>...</td>\n",
       "      <td>0.0</td>\n",
       "      <td>10.0</td>\n",
       "      <td>10</td>\n",
       "      <td>14</td>\n",
       "      <td>16</td>\n",
       "      <td>21</td>\n",
       "      <td>22</td>\n",
       "      <td>26</td>\n",
       "      <td>27</td>\n",
       "      <td>31</td>\n",
       "    </tr>\n",
       "    <tr>\n",
       "      <td>...</td>\n",
       "      <td>...</td>\n",
       "      <td>...</td>\n",
       "      <td>...</td>\n",
       "      <td>...</td>\n",
       "      <td>...</td>\n",
       "      <td>...</td>\n",
       "      <td>...</td>\n",
       "      <td>...</td>\n",
       "      <td>...</td>\n",
       "      <td>...</td>\n",
       "      <td>...</td>\n",
       "      <td>...</td>\n",
       "      <td>...</td>\n",
       "      <td>...</td>\n",
       "      <td>...</td>\n",
       "      <td>...</td>\n",
       "      <td>...</td>\n",
       "      <td>...</td>\n",
       "      <td>...</td>\n",
       "      <td>...</td>\n",
       "      <td>...</td>\n",
       "    </tr>\n",
       "    <tr>\n",
       "      <td>2020-12-22 08:52:58</td>\n",
       "      <td>9628.0</td>\n",
       "      <td>7</td>\n",
       "      <td>0.0</td>\n",
       "      <td>5011628</td>\n",
       "      <td>10036.0</td>\n",
       "      <td>0.0</td>\n",
       "      <td>404.21092</td>\n",
       "      <td>1.0</td>\n",
       "      <td>266.80</td>\n",
       "      <td>15.30</td>\n",
       "      <td>...</td>\n",
       "      <td>0.0</td>\n",
       "      <td>12.0</td>\n",
       "      <td>03</td>\n",
       "      <td>08</td>\n",
       "      <td>10</td>\n",
       "      <td>14</td>\n",
       "      <td>16</td>\n",
       "      <td>21</td>\n",
       "      <td>22</td>\n",
       "      <td>26</td>\n",
       "    </tr>\n",
       "    <tr>\n",
       "      <td>2020-12-22 08:52:59</td>\n",
       "      <td>9630.0</td>\n",
       "      <td>7</td>\n",
       "      <td>0.0</td>\n",
       "      <td>5011628</td>\n",
       "      <td>10038.0</td>\n",
       "      <td>0.0</td>\n",
       "      <td>404.21092</td>\n",
       "      <td>1.0</td>\n",
       "      <td>266.41</td>\n",
       "      <td>15.35</td>\n",
       "      <td>...</td>\n",
       "      <td>0.0</td>\n",
       "      <td>12.0</td>\n",
       "      <td>03</td>\n",
       "      <td>08</td>\n",
       "      <td>10</td>\n",
       "      <td>14</td>\n",
       "      <td>16</td>\n",
       "      <td>21</td>\n",
       "      <td>22</td>\n",
       "      <td>26</td>\n",
       "    </tr>\n",
       "    <tr>\n",
       "      <td>2020-12-22 08:53:00</td>\n",
       "      <td>9632.0</td>\n",
       "      <td>7</td>\n",
       "      <td>0.0</td>\n",
       "      <td>5011628</td>\n",
       "      <td>10040.0</td>\n",
       "      <td>0.0</td>\n",
       "      <td>404.21092</td>\n",
       "      <td>1.0</td>\n",
       "      <td>265.87</td>\n",
       "      <td>15.37</td>\n",
       "      <td>...</td>\n",
       "      <td>0.0</td>\n",
       "      <td>12.0</td>\n",
       "      <td>03</td>\n",
       "      <td>08</td>\n",
       "      <td>10</td>\n",
       "      <td>14</td>\n",
       "      <td>16</td>\n",
       "      <td>21</td>\n",
       "      <td>22</td>\n",
       "      <td>26</td>\n",
       "    </tr>\n",
       "    <tr>\n",
       "      <td>2020-12-22 08:53:01</td>\n",
       "      <td>9634.0</td>\n",
       "      <td>7</td>\n",
       "      <td>0.0</td>\n",
       "      <td>5011628</td>\n",
       "      <td>10042.0</td>\n",
       "      <td>0.0</td>\n",
       "      <td>404.21092</td>\n",
       "      <td>1.0</td>\n",
       "      <td>265.20</td>\n",
       "      <td>15.37</td>\n",
       "      <td>...</td>\n",
       "      <td>0.0</td>\n",
       "      <td>12.0</td>\n",
       "      <td>03</td>\n",
       "      <td>08</td>\n",
       "      <td>10</td>\n",
       "      <td>14</td>\n",
       "      <td>16</td>\n",
       "      <td>21</td>\n",
       "      <td>22</td>\n",
       "      <td>26</td>\n",
       "    </tr>\n",
       "    <tr>\n",
       "      <td>2020-12-22 08:53:02</td>\n",
       "      <td>9636.0</td>\n",
       "      <td>7</td>\n",
       "      <td>0.0</td>\n",
       "      <td>5011628</td>\n",
       "      <td>10044.0</td>\n",
       "      <td>0.0</td>\n",
       "      <td>404.21092</td>\n",
       "      <td>1.0</td>\n",
       "      <td>264.36</td>\n",
       "      <td>15.37</td>\n",
       "      <td>...</td>\n",
       "      <td>0.0</td>\n",
       "      <td>12.0</td>\n",
       "      <td>03</td>\n",
       "      <td>08</td>\n",
       "      <td>10</td>\n",
       "      <td>14</td>\n",
       "      <td>16</td>\n",
       "      <td>21</td>\n",
       "      <td>22</td>\n",
       "      <td>26</td>\n",
       "    </tr>\n",
       "  </tbody>\n",
       "</table>\n",
       "<p>4819 rows × 40 columns</p>\n",
       "</div>"
      ],
      "text/plain": [
       "                       DCnt  ST   RE   SondeN     FCnt  AGC    rcvFREQ   WM  \\\n",
       " ObsTime                                                                      \n",
       "2020-12-22 07:32:44     0.0   7  0.0  5011628    400.0  0.0  404.20648  1.0   \n",
       "2020-12-22 07:32:45     2.0   7  0.0  5011628    402.0  0.0  404.20648  1.0   \n",
       "2020-12-22 07:32:46     4.0   7  0.0  5011628    404.0  0.0  404.20648  1.0   \n",
       "2020-12-22 07:32:47     6.0   7  0.0  5011628    406.0  0.0  404.20648  1.0   \n",
       "2020-12-22 07:32:48     8.0   7  0.0  5011628    408.0  0.0  404.20648  1.0   \n",
       "...                     ...  ..  ...      ...      ...  ...        ...  ...   \n",
       "2020-12-22 08:52:58  9628.0   7  0.0  5011628  10036.0  0.0  404.21092  1.0   \n",
       "2020-12-22 08:52:59  9630.0   7  0.0  5011628  10038.0  0.0  404.21092  1.0   \n",
       "2020-12-22 08:53:00  9632.0   7  0.0  5011628  10040.0  0.0  404.21092  1.0   \n",
       "2020-12-22 08:53:01  9634.0   7  0.0  5011628  10042.0  0.0  404.21092  1.0   \n",
       "2020-12-22 08:53:02  9636.0   7  0.0  5011628  10044.0  0.0  404.21092  1.0   \n",
       "\n",
       "                         WD      WS  ...    FSP4     N  N1  N2  N3  N4  N5  \\\n",
       " ObsTime                             ...                                     \n",
       "2020-12-22 07:32:44    0.00    0.00  ...     0.0  10.0  10  14  16  21  22   \n",
       "2020-12-22 07:32:45  351.29    0.08  ...     0.0  10.0  10  14  16  21  22   \n",
       "2020-12-22 07:32:46  351.29    0.11  ...     0.0  10.0  10  14  16  21  22   \n",
       "2020-12-22 07:32:47  351.29    0.09  ...     0.0  10.0  10  14  16  21  22   \n",
       "2020-12-22 07:32:48  351.29    0.13  ...     0.0  10.0  10  14  16  21  22   \n",
       "...                     ...     ...  ...     ...   ...  ..  ..  ..  ..  ..   \n",
       "2020-12-22 08:52:58  266.80   15.30  ...     0.0  12.0  03  08  10  14  16   \n",
       "2020-12-22 08:52:59  266.41   15.35  ...     0.0  12.0  03  08  10  14  16   \n",
       "2020-12-22 08:53:00  265.87   15.37  ...     0.0  12.0  03  08  10  14  16   \n",
       "2020-12-22 08:53:01  265.20   15.37  ...     0.0  12.0  03  08  10  14  16   \n",
       "2020-12-22 08:53:02  264.36   15.37  ...     0.0  12.0  03  08  10  14  16   \n",
       "\n",
       "                     N6  N7  N8  \n",
       " ObsTime                         \n",
       "2020-12-22 07:32:44  26  27  31  \n",
       "2020-12-22 07:32:45  26  27  31  \n",
       "2020-12-22 07:32:46  26  27  31  \n",
       "2020-12-22 07:32:47  26  27  31  \n",
       "2020-12-22 07:32:48  26  27  31  \n",
       "...                  ..  ..  ..  \n",
       "2020-12-22 08:52:58  21  22  26  \n",
       "2020-12-22 08:52:59  21  22  26  \n",
       "2020-12-22 08:53:00  21  22  26  \n",
       "2020-12-22 08:53:01  21  22  26  \n",
       "2020-12-22 08:53:02  21  22  26  \n",
       "\n",
       "[4819 rows x 40 columns]"
      ]
     },
     "execution_count": 65,
     "metadata": {},
     "output_type": "execute_result"
    }
   ],
   "source": [
    "raw"
   ]
  },
  {
   "cell_type": "code",
   "execution_count": 66,
   "metadata": {},
   "outputs": [
    {
     "name": "stdout",
     "output_type": "stream",
     "text": [
      "<class 'pandas.core.frame.DataFrame'>\n",
      "DatetimeIndex: 4819 entries, 2020-12-22 07:32:44 to 2020-12-22 08:53:02\n",
      "Data columns (total 40 columns):\n",
      "DCnt          4778 non-null float64\n",
      "ST            4819 non-null int64\n",
      "RE            4778 non-null float64\n",
      "SondeN        4819 non-null int64\n",
      " FCnt         4778 non-null float64\n",
      "AGC           4778 non-null float64\n",
      "  rcvFREQ     4819 non-null object\n",
      "WM            4778 non-null float64\n",
      "   WD         4819 non-null float64\n",
      "    WS        4819 non-null float64\n",
      " Height       4819 non-null float64\n",
      " Xdistanc     4819 non-null float64\n",
      " Ydistanc     4819 non-null float64\n",
      "GF            4778 non-null float64\n",
      "HDP           4773 non-null float64\n",
      " PDP          4773 non-null float64\n",
      "GeodetLat     4819 non-null float64\n",
      " GeodetLon    4819 non-null float64\n",
      "V             4819 non-null int64\n",
      "Press0        4773 non-null float64\n",
      "Temp0         4773 non-null float64\n",
      "Humi0         4769 non-null float64\n",
      "  FE          4778 non-null object\n",
      "   FRT        4778 non-null float64\n",
      "   FTI        4778 non-null float64\n",
      "   FVH        4778 non-null float64\n",
      "   FVL        4774 non-null float64\n",
      "  FSP1        4776 non-null float64\n",
      "  FSP2        4776 non-null float64\n",
      "  FSP3        4776 non-null float64\n",
      "  FSP4        4776 non-null float64\n",
      "N             4778 non-null float64\n",
      "N1            4819 non-null object\n",
      "N2            4819 non-null object\n",
      "N3            4819 non-null object\n",
      "N4            4819 non-null object\n",
      "N5            4819 non-null object\n",
      "N6            4819 non-null object\n",
      "N7            4819 non-null object\n",
      "N8            4819 non-null object\n",
      "dtypes: float64(27), int64(3), object(10)\n",
      "memory usage: 1.5+ MB\n"
     ]
    }
   ],
   "source": [
    "raw.info()"
   ]
  },
  {
   "cell_type": "code",
   "execution_count": null,
   "metadata": {},
   "outputs": [],
   "source": []
  }
 ],
 "metadata": {
  "kernelspec": {
   "display_name": "Python 3",
   "language": "python",
   "name": "python3"
  },
  "language_info": {
   "codemirror_mode": {
    "name": "ipython",
    "version": 3
   },
   "file_extension": ".py",
   "mimetype": "text/x-python",
   "name": "python",
   "nbconvert_exporter": "python",
   "pygments_lexer": "ipython3",
   "version": "3.7.4"
  }
 },
 "nbformat": 4,
 "nbformat_minor": 4
}
